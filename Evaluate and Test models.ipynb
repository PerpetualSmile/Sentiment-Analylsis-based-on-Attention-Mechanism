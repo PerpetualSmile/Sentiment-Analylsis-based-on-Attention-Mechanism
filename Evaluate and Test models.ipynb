{
 "cells": [
  {
   "cell_type": "markdown",
   "metadata": {},
   "source": [
    "# Evaluate and Test Models"
   ]
  },
  {
   "cell_type": "code",
   "execution_count": 1,
   "metadata": {
    "ExecuteTime": {
     "end_time": "2019-04-30T10:58:54.239502Z",
     "start_time": "2019-04-30T10:58:29.952855Z"
    }
   },
   "outputs": [
    {
     "data": {
      "text/plain": [
       "'1.0.1'"
      ]
     },
     "execution_count": 1,
     "metadata": {},
     "output_type": "execute_result"
    }
   ],
   "source": [
    "import torch\n",
    "import torch.nn as nn\n",
    "import torch.nn.functional as F\n",
    "from torch.nn.utils.rnn import pack_padded_sequence, pack_sequence, pad_packed_sequence, pad_sequence\n",
    "from torch.utils.data import DataLoader, Dataset, SequentialSampler\n",
    "import numpy as np\n",
    "import matplotlib.pyplot as plt\n",
    "import pandas as pd\n",
    "from tqdm import tqdm\n",
    "import time\n",
    "import random\n",
    "import os\n",
    "import copy\n",
    "import warnings\n",
    "from functools import partial\n",
    "\n",
    "from utils import pad_and_sort_batch, preprocess_for_batch, pad_or_truncate, pad_and_truncate_hierarchical, preprocess_for_batch_hierarchical\n",
    "\n",
    "warnings.filterwarnings('ignore')\n",
    "DEVICE = torch.device('cuda:0' if torch.cuda.is_available() else 'cpu')\n",
    "\n",
    "%matplotlib inline\n",
    "%load_ext autoreload\n",
    "%autoreload 2\n",
    "torch.__version__"
   ]
  },
  {
   "cell_type": "code",
   "execution_count": 2,
   "metadata": {
    "ExecuteTime": {
     "end_time": "2019-04-30T10:58:54.425496Z",
     "start_time": "2019-04-30T10:58:54.243512Z"
    }
   },
   "outputs": [],
   "source": [
    "# set random seeds to keep the results identical\n",
    "def setup_seed(seed):\n",
    "    torch.manual_seed(seed)\n",
    "    torch.cuda.manual_seed_all(seed)\n",
    "    np.random.seed(seed)\n",
    "    random.seed(seed)\n",
    "    torch.backends.cudnn.deterministic = True\n",
    "    \n",
    "def worker_init_fn(worker_id):\n",
    "    setup_seed(torch.initial_seed() + worker_id)\n",
    "    \n",
    "GLOBAL_SEED = 2019\n",
    "setup_seed(GLOBAL_SEED)"
   ]
  },
  {
   "cell_type": "code",
   "execution_count": 3,
   "metadata": {
    "ExecuteTime": {
     "end_time": "2019-04-30T10:58:54.577900Z",
     "start_time": "2019-04-30T10:58:54.429005Z"
    }
   },
   "outputs": [],
   "source": [
    "base_dir = './'"
   ]
  },
  {
   "cell_type": "markdown",
   "metadata": {},
   "source": [
    "## Load data for testing"
   ]
  },
  {
   "cell_type": "code",
   "execution_count": 4,
   "metadata": {
    "ExecuteTime": {
     "end_time": "2019-04-30T10:58:54.738327Z",
     "start_time": "2019-04-30T10:58:54.581410Z"
    }
   },
   "outputs": [],
   "source": [
    "class CustomDataset(Dataset):\n",
    "    def __init__(self, features, labels):\n",
    "        self.features = features\n",
    "        self.labels = labels\n",
    "    \n",
    "    def __len__(self):\n",
    "        return len(self.features)\n",
    "    \n",
    "    def __getitem__(self, idx):\n",
    "        if self.features[idx].size(0) > 0:\n",
    "            features = self.features[idx]\n",
    "        else:\n",
    "            features = torch.LongTensor([1])\n",
    "        return features, self.labels[idx], max(len(self.features[idx]), 1)\n",
    "    \n",
    "def prepare_data_for_test(data_pth, batch_size=32, multiclass=False, truncate=False, maxlen=500):\n",
    "    X_test = pd.read_hdf(data_pth+'X_test.h5', key='s')\n",
    "    y_test = pd.read_hdf(data_pth+'y_test.h5', key='s')\n",
    "    if multiclass:\n",
    "        y_test = y_test-1\n",
    "    X_test_tensors = [torch.tensor(x, dtype=torch.int64) for x in X_test]\n",
    "    y_test_tensors = [torch.tensor(y, dtype=torch.int64) for y in y_test]\n",
    "    if truncate:\n",
    "        X_test_tensors = [pad_or_truncate(x, maxlen=maxlen, pad=False) for x in X_test_tensors] # just truncate no padding to save GPU memory\n",
    "    test_dataset = CustomDataset(X_test_tensors, y_test_tensors)\n",
    "    test_dataloader = DataLoader(test_dataset, batch_size=batch_size, shuffle=False, collate_fn=pad_and_sort_batch)\n",
    "    return test_dataloader\n",
    "\n",
    "\n",
    "class CustomDatasetHierarchical(Dataset):\n",
    "    def __init__(self, features, labels):\n",
    "        self.features = features\n",
    "        self.labels = labels\n",
    "    \n",
    "    def __len__(self):\n",
    "        return len(self.features)\n",
    "    \n",
    "    def __getitem__(self, idx):\n",
    "        return self.features[idx], self.labels[idx]\n",
    "    \n",
    "# def prepare_data_for_test_hierarchical(data_pth, batch_size=32, multiclass=False, max_sen_len=50, max_sen_num=50):\n",
    "#     X_test = pd.read_hdf(data_pth+'X_test.h5', key='s')\n",
    "#     y_test = pd.read_hdf(data_pth+'y_test.h5', key='s')\n",
    "#     if multiclass:\n",
    "#         y_test = y_test-1\n",
    "\n",
    "#     test_dataset = CustomDatasetHierarchical(X_test, y_test)\n",
    "\n",
    "#     test_dataloader = DataLoader(test_dataset, \n",
    "#                                   batch_size=batch_size, \n",
    "#                                   shuffle=False, \n",
    "#                                   collate_fn=partial(pad_and_truncate_hierarchical, MAX_SEN_LEN=max_sen_len,                                                     MAX_SEN_NUM=max_sen_num), \n",
    "#                                   )\n",
    "#     return test_dataloader\n",
    "\n",
    "\n",
    "def prepare_data_for_test_hierarchical(data_pth, batch_size=32, multiclass=False, max_sen_len=50, max_sen_num=50):\n",
    "    X_test = pd.read_hdf(data_pth+'X_test.h5', key='s')\n",
    "    y_test = pd.read_hdf(data_pth+'y_test.h5', key='s')\n",
    "    if multiclass:\n",
    "        y_test = y_test-1\n",
    "\n",
    "    X_test_sorted, y_test_sorted = preprocess_for_batch_hierarchical(X_test, y_test, batch_size)\n",
    "\n",
    "    test_dataset = CustomDatasetHierarchical(X_test_sorted, y_test_sorted)\n",
    "\n",
    "    test_dataloader = DataLoader(test_dataset, \n",
    "                                  batch_size=batch_size, \n",
    "                                  sampler=SequentialSampler(test_dataset), \n",
    "                                  shuffle=False, \n",
    "                                  collate_fn=partial(pad_and_truncate_hierarchical, MAX_SEN_LEN=max_sen_len,                                                     MAX_SEN_NUM=max_sen_num))\n",
    "    return test_dataloader"
   ]
  },
  {
   "cell_type": "code",
   "execution_count": 5,
   "metadata": {
    "ExecuteTime": {
     "end_time": "2019-04-30T10:59:02.434938Z",
     "start_time": "2019-04-30T10:58:54.740833Z"
    }
   },
   "outputs": [],
   "source": [
    "yelp_polarity_data = prepare_data_for_test(base_dir + 'dataset/yelp_review_polarity_csv/',  batch_size=16, multiclass=False, truncate=False, maxlen=500)\n",
    "yelp_full_data = prepare_data_for_test(base_dir + 'dataset/yelp_review_full_csv/',  batch_size=16, multiclass=True, truncate=False, maxlen=500)\n",
    "imdb_data = prepare_data_for_test(base_dir + 'dataset/IMDB/',  batch_size=16, multiclass=False, truncate=False, maxlen=500)\n",
    "douban_data = prepare_data_for_test(base_dir + 'dataset/Douban/',  batch_size=16, multiclass=False, truncate=False, maxlen=500)"
   ]
  },
  {
   "cell_type": "code",
   "execution_count": 6,
   "metadata": {
    "ExecuteTime": {
     "end_time": "2019-04-30T10:59:11.002937Z",
     "start_time": "2019-04-30T10:59:02.437946Z"
    }
   },
   "outputs": [],
   "source": [
    "yelp_polarity_hierarchical_data = prepare_data_for_test_hierarchical(base_dir + 'dataset_hierarchical/yelp_review_polarity_csv/',  batch_size=32, multiclass=False)\n",
    "\n",
    "yelp_full_hierarchical_data = prepare_data_for_test_hierarchical(base_dir + 'dataset_hierarchical/yelp_review_full_csv/',  batch_size=32, multiclass=True)\n",
    "imdb_hierarchical_data = prepare_data_for_test_hierarchical(base_dir + 'dataset_hierarchical/IMDB/',  batch_size=32, multiclass=False)\n",
    "douban_hierarchical_data = prepare_data_for_test_hierarchical(base_dir + 'dataset_hierarchical/Douban/',  batch_size=32, multiclass=False, max_sen_len=25, max_sen_num=25)"
   ]
  },
  {
   "cell_type": "markdown",
   "metadata": {},
   "source": [
    "## Load trained models"
   ]
  },
  {
   "cell_type": "code",
   "execution_count": 8,
   "metadata": {
    "ExecuteTime": {
     "end_time": "2019-04-30T10:59:23.314854Z",
     "start_time": "2019-04-30T10:59:23.169939Z"
    }
   },
   "outputs": [],
   "source": [
    "from AttentionBiLSTM import AttnBiLSTM\n",
    "from AvgBiLSTM import AvgBiLSTM\n",
    "from SIAttentionBiLSTM import SIAttentionBiLSTM\n",
    "from HAN import HAN\n",
    "from Transformer import Transformer"
   ]
  },
  {
   "cell_type": "code",
   "execution_count": 9,
   "metadata": {
    "ExecuteTime": {
     "end_time": "2019-04-30T10:59:26.793538Z",
     "start_time": "2019-04-30T10:59:26.645056Z"
    }
   },
   "outputs": [],
   "source": [
    "def load_AttnBiLSTM_model(path, output_size=1):\n",
    "    history = torch.load(path)\n",
    "    parameters = history['parameters']\n",
    "    model = AttnBiLSTM(output_size=output_size, hidden_size=parameters['hidden_size'], embedding=parameters['embedding'], method=parameters['att_method'], rnn_dropout=parameters['rnn_dropout'], embedding_dropout=parameters['embedding_dropout'], context_dropout=parameters['context_dropout'])\n",
    "    model.to(DEVICE)\n",
    "    model.load_state_dict(history['best_model'])\n",
    "    return model, history\n",
    "\n",
    "def load_Transformer_model(path, output_size=1):\n",
    "    history = torch.load(path)\n",
    "    parameters = history['parameters']\n",
    "    architecture = (parameters['n_layers'], parameters['d_model'], parameters['d_ff'], parameters['n_heads'], parameters['d_k'], parameters['d_v'])\n",
    "    model = Transformer(output_size=output_size, architecture=architecture, embedding=parameters['embedding'], method=parameters['final_att_method'], maxpos=500, embedding_dropout=parameters['embedding_dropout'], multihead_dropout=parameters['multihead_dropout'], att_dropout=parameters['att_dropout'], feedforward_dropout=parameters['feedforward_dropout'], final_dropout=parameters['final_dropout'])\n",
    "    model.to(DEVICE)\n",
    "    model.load_state_dict(history['best_model'])\n",
    "    return model, history\n",
    "\n",
    "def load_SIAttentionBiLSTM_model(path, output_size=1):\n",
    "    history = torch.load(path)\n",
    "    parameters = history['parameters']\n",
    "    model = SIAttentionBiLSTM(output_size=output_size, n_layers=parameters['n_layers'], d_model=parameters['d_model'], d_k=parameters['d_k'], d_v=parameters['d_v'], n_heads=parameters['n_heads'], hidden_size=parameters['hidden_size'], embedding=parameters['embedding'], method=parameters['att_method'], rnn_dropout=parameters['rnn_dropout'], embedding_dropout=parameters['embedding_dropout'], multihead_dropout=parameters['multihead_dropout'], context_dropout=parameters['context_dropout'], transformer_dropout=parameters['transformer_dropout'], inter_att_dropout=parameters['inter_att_dropout'], self_att_dropout=parameters['self_att_dropout'])\n",
    "    model.to(DEVICE)\n",
    "    model.load_state_dict(history['best_model'])\n",
    "    return model, history\n",
    "\n",
    "def load_HAN_model(path, output_size=1):\n",
    "    history = torch.load(path)\n",
    "    parameters = history['parameters']\n",
    "    model = HAN(output_size=output_size, hidden_size=parameters['hidden_size'], embedding=parameters['embedding'], method=parameters['att_method'], rnn_dropout=parameters['rnn_dropout'], embedding_dropout=parameters['embedding_dropout'], word_dropout=parameters['word_dropout'], sent_dropout=parameters['sent_dropout'])\n",
    "    model.to(DEVICE)\n",
    "    model.load_state_dict(history['best_model'], strict=False)\n",
    "    return model, history\n",
    "\n",
    "def load_AvgBiLSTM_model(path, output_size=1):\n",
    "    history = torch.load(path)\n",
    "    parameters = history['parameters']\n",
    "    model = AvgBiLSTM(output_size=output_size, hidden_size=parameters['hidden_size'], embedding=parameters['embedding'], rnn_dropout=parameters['rnn_dropout'], embedding_dropout=parameters['embedding_dropout'])\n",
    "    model.to(DEVICE)\n",
    "    model.load_state_dict(history['best_model'])\n",
    "    return model, history"
   ]
  },
  {
   "cell_type": "code",
   "execution_count": 10,
   "metadata": {
    "ExecuteTime": {
     "end_time": "2019-04-30T10:59:28.821441Z",
     "start_time": "2019-04-30T10:59:28.683073Z"
    }
   },
   "outputs": [],
   "source": [
    "from IPython.core.debugger import set_trace\n",
    "def predict(model, data_loader, input_len=True, multiclass=False, hierarchical=False):\n",
    "    model.eval()\n",
    "    y_true = []\n",
    "    y_pred = []\n",
    "    with torch.no_grad():\n",
    "        with tqdm(total=len(data_loader.dataset)) as pbar:\n",
    "            for idx, batch in enumerate(data_loader):\n",
    "                if hierarchical:\n",
    "                    input_batch, labels = batch\n",
    "                    if not multiclass:\n",
    "                        labels = labels.float()\n",
    "                    else:\n",
    "                        labels = labels.squeeze()\n",
    "                else:\n",
    "                    input_batch, labels, lengths = batch\n",
    "                if not multiclass and not hierarchical:\n",
    "                    labels = labels.float().unsqueeze(1) # polarity\n",
    "                if input_len:\n",
    "                    output = model(input_batch, lengths)\n",
    "                else:\n",
    "                    output = model(input_batch)\n",
    "                y_true.append(labels.cpu())\n",
    "                y_pred.append(output.cpu())\n",
    "                pbar.update(input_batch.size(0))\n",
    "    return torch.cat(y_pred), torch.cat(y_true)\n",
    "    return torch.tensor(np.array(y_pred).reshape(-1, y_pred[0].shape[-1])), torch.tensor(np.array(y_true).reshape(-1, y_pred[0].shape[-1]))"
   ]
  },
  {
   "cell_type": "markdown",
   "metadata": {},
   "source": [
    "## Loss & Accuracy & Precision & Recall & F1 score & roc_auc_score"
   ]
  },
  {
   "cell_type": "code",
   "execution_count": 11,
   "metadata": {
    "ExecuteTime": {
     "end_time": "2019-04-30T10:59:29.813251Z",
     "start_time": "2019-04-30T10:59:29.676862Z"
    }
   },
   "outputs": [],
   "source": [
    "from sklearn.metrics import f1_score, precision_score, recall_score, roc_auc_score\n",
    "def evaluate(y_pred, y_true, multiclass=False, model_name='', dataset=''):\n",
    "    if multiclass:\n",
    "        criterion = nn.CrossEntropyLoss()\n",
    "        loss = criterion(y_pred, y_true).item()\n",
    "        _, preds = torch.max(y_pred, 1)\n",
    "        accuracy = (preds == y_true).float().mean().item()\n",
    "        return pd.Series([model_name, dataset, accuracy, loss], index=['model', 'dataset', 'accuracy', 'loss'])\n",
    "    else:\n",
    "        criterion = nn.BCEWithLogitsLoss()\n",
    "        loss = criterion(y_pred, y_true).item()\n",
    "        accuracy = (y_pred>0).eq(y_true>0).float().mean().item()\n",
    "        f1 = f1_score(y_true, y_pred>0)\n",
    "        precision = precision_score(y_true, y_pred>0)\n",
    "        recall = recall_score(y_true, y_pred>0)\n",
    "        auc = roc_auc_score(y_true, y_pred)\n",
    "        return pd.Series([model_name, dataset, accuracy, loss, f1, precision, recall, auc], index=['model', 'dataset', 'accuracy', 'loss', 'f1', 'precision', 'recall', 'auc'])"
   ]
  },
  {
   "cell_type": "markdown",
   "metadata": {},
   "source": [
    "## Evaluate all the models"
   ]
  },
  {
   "cell_type": "code",
   "execution_count": 12,
   "metadata": {
    "ExecuteTime": {
     "end_time": "2019-04-30T10:59:33.933007Z",
     "start_time": "2019-04-30T10:59:33.800612Z"
    }
   },
   "outputs": [],
   "source": [
    "#evaluate_df = pd.DataFrame()"
   ]
  },
  {
   "cell_type": "code",
   "execution_count": 13,
   "metadata": {
    "ExecuteTime": {
     "end_time": "2019-04-30T10:59:45.393577Z",
     "start_time": "2019-04-30T10:59:44.959201Z"
    }
   },
   "outputs": [],
   "source": [
    "evaluate_df = pd.read_csv('evaluate_df.csv')"
   ]
  },
  {
   "cell_type": "code",
   "execution_count": 13,
   "metadata": {
    "ExecuteTime": {
     "end_time": "2019-04-09T04:04:31.360559Z",
     "start_time": "2019-04-09T04:04:31.245253Z"
    }
   },
   "outputs": [
    {
     "data": {
      "text/plain": [
       "['Attention-c-query-BiLSTM-on-Douban.pth',\n",
       " 'Attention-c-query-BiLSTM-on-IMDB.pth',\n",
       " 'Attention-c-query-BiLSTM-on-Yelp-Full.pth',\n",
       " 'Attention-c-query-BiLSTM-on-Yelp-Polarity.pth',\n",
       " 'Attention-h-query-BiLSTM-on-Douban.pth',\n",
       " 'Attention-h-query-BiLSTM-on-IMDB.pth',\n",
       " 'Attention-h-query-BiLSTM-on-Yelp-Full.pth',\n",
       " 'Attention-h-query-BiLSTM-on-Yelp-Polarity.pth',\n",
       " 'Attention-independent-query-BiLSTM-on-Douban.pth',\n",
       " 'Attention-independent-query-BiLSTM-on-IMDB.pth',\n",
       " 'Attention-independent-query-BiLSTM-on-Yelp-Full.pth',\n",
       " 'Attention-independent-query-BiLSTM-on-Yelp-Polarity.pth',\n",
       " 'Attention-no-query-BiLSTM-on-Douban.pth',\n",
       " 'Attention-no-query-BiLSTM-on-IMDB.pth',\n",
       " 'Attention-no-query-BiLSTM-on-Yelp-Full.pth',\n",
       " 'Attention-no-query-BiLSTM-on-Yelp-Polarity.pth']"
      ]
     },
     "execution_count": 13,
     "metadata": {},
     "output_type": "execute_result"
    }
   ],
   "source": [
    "os.listdir('./model save/Inter-Attention-BiLSTM')"
   ]
  },
  {
   "cell_type": "code",
   "execution_count": 14,
   "metadata": {
    "ExecuteTime": {
     "end_time": "2019-04-09T04:04:31.481908Z",
     "start_time": "2019-04-09T04:04:31.363567Z"
    }
   },
   "outputs": [
    {
     "data": {
      "text/plain": [
       "['Transformer-on-Douban.pth',\n",
       " 'Transformer-on-IMDB.pth',\n",
       " 'Transformer-on-Yelp-Full.pth',\n",
       " 'Transformer-on-Yelp-Polarity.pth']"
      ]
     },
     "execution_count": 14,
     "metadata": {},
     "output_type": "execute_result"
    }
   ],
   "source": [
    "os.listdir('./model save/Transformer')"
   ]
  },
  {
   "cell_type": "code",
   "execution_count": 15,
   "metadata": {
    "ExecuteTime": {
     "end_time": "2019-04-09T04:04:31.649363Z",
     "start_time": "2019-04-09T04:04:31.529007Z"
    }
   },
   "outputs": [
    {
     "data": {
      "text/plain": [
       "['Self-Inter-Attention-BiLSTM-on-Douban.pth',\n",
       " 'Self-Inter-Attention-BiLSTM-on-IMDB.pth',\n",
       " 'Self-Inter-Attention-BiLSTM-on-Yelp-Full.pth',\n",
       " 'Self-Inter-Attention-BiLSTM-on-Yelp-Polarity.pth']"
      ]
     },
     "execution_count": 15,
     "metadata": {},
     "output_type": "execute_result"
    }
   ],
   "source": [
    "os.listdir('./model save/Self-Inter-Attention-BiLSTM')"
   ]
  },
  {
   "cell_type": "code",
   "execution_count": 16,
   "metadata": {
    "ExecuteTime": {
     "end_time": "2019-04-09T04:04:32.050227Z",
     "start_time": "2019-04-09T04:04:31.927930Z"
    }
   },
   "outputs": [
    {
     "data": {
      "text/plain": [
       "['Hierarchical-Attention-Networks-on-Douban.pth',\n",
       " 'Hierarchical-Attention-Networks-on-IMDB.pth',\n",
       " 'Hierarchical-Attention-Networks-on-Yelp-Full.pth',\n",
       " 'Hierarchical-Attention-Networks-on-Yelp-Polarity.pth']"
      ]
     },
     "execution_count": 16,
     "metadata": {},
     "output_type": "execute_result"
    }
   ],
   "source": [
    "os.listdir('./model save/HAN/')"
   ]
  },
  {
   "cell_type": "code",
   "execution_count": 17,
   "metadata": {
    "ExecuteTime": {
     "end_time": "2019-04-09T04:04:32.711416Z",
     "start_time": "2019-04-09T04:04:32.597855Z"
    }
   },
   "outputs": [
    {
     "data": {
      "text/plain": [
       "['Avg-BiLSTM-on-Douban.pth',\n",
       " 'Avg-BiLSTM-on-IMDB.pth',\n",
       " 'Avg-BiLSTM-on-Yelp-Full.pth',\n",
       " 'Avg-BiLSTM-on-Yelp-Polarity.pth']"
      ]
     },
     "execution_count": 17,
     "metadata": {},
     "output_type": "execute_result"
    }
   ],
   "source": [
    "os.listdir('./model save/Avg-BiLSTM')"
   ]
  },
  {
   "cell_type": "markdown",
   "metadata": {},
   "source": [
    "### Avg-BiLSTM"
   ]
  },
  {
   "cell_type": "code",
   "execution_count": 17,
   "metadata": {
    "ExecuteTime": {
     "end_time": "2019-04-07T02:22:19.722476Z",
     "start_time": "2019-04-07T02:21:33.203228Z"
    }
   },
   "outputs": [
    {
     "name": "stderr",
     "output_type": "stream",
     "text": [
      "100%|████████████████████████████████████████████████████████████████████████| 100000/100000 [00:42<00:00, 2368.30it/s]\n"
     ]
    }
   ],
   "source": [
    "avg_bilstm_on_douban, avg_bilstm_on_douban_history = load_AvgBiLSTM_model(base_dir+'model save/Avg-BiLSTM/' + 'Avg-BiLSTM-on-Douban.pth')\n",
    "y_pred, y_true = predict(avg_bilstm_on_douban, douban_data)\n",
    "evaluate_df = evaluate_df.append(evaluate(y_pred, y_true, model_name='Avg-BiLSTM-on-Douban', dataset='Douban'), ignore_index=True)"
   ]
  },
  {
   "cell_type": "code",
   "execution_count": 18,
   "metadata": {
    "ExecuteTime": {
     "end_time": "2019-04-07T02:22:29.791481Z",
     "start_time": "2019-04-07T02:22:19.724482Z"
    },
    "scrolled": true
   },
   "outputs": [
    {
     "name": "stderr",
     "output_type": "stream",
     "text": [
      "100%|█████████████████████████████████████████████████████████████████████████████| 5000/5000 [00:09<00:00, 521.55it/s]\n"
     ]
    }
   ],
   "source": [
    "avg_bilstm_on_imdb, avg_bilstm_on_imdb_history = load_AvgBiLSTM_model(base_dir+'model save/Avg-BiLSTM/' + 'Avg-BiLSTM-on-IMDB.pth')\n",
    "y_pred, y_true = predict(avg_bilstm_on_imdb, imdb_data)\n",
    "evaluate_df = evaluate_df.append(evaluate(y_pred, y_true, model_name='Avg-BiLSTM-on-IMDB', dataset='IMDB'), ignore_index=True)"
   ]
  },
  {
   "cell_type": "code",
   "execution_count": 19,
   "metadata": {
    "ExecuteTime": {
     "end_time": "2019-04-07T02:23:24.910251Z",
     "start_time": "2019-04-07T02:22:29.794507Z"
    }
   },
   "outputs": [
    {
     "name": "stderr",
     "output_type": "stream",
     "text": [
      "100%|███████████████████████████████████████████████████████████████████████████| 38000/38000 [00:54<00:00, 699.41it/s]\n"
     ]
    }
   ],
   "source": [
    "avg_bilstm_on_yelp_polarity, avg_bilstm_on_yelp_polarity_history = load_AvgBiLSTM_model(base_dir+'model save/Avg-BiLSTM/' + 'Avg-BiLSTM-on-Yelp-Polarity.pth')\n",
    "y_pred, y_true = predict(avg_bilstm_on_yelp_polarity, yelp_polarity_data)\n",
    "evaluate_df = evaluate_df.append(evaluate(y_pred, y_true, model_name='Avg-BiLSTM-on-Yelp-Polarity', dataset='Yelp-Polarity'), ignore_index=True)"
   ]
  },
  {
   "cell_type": "code",
   "execution_count": 20,
   "metadata": {
    "ExecuteTime": {
     "end_time": "2019-04-07T02:24:37.448882Z",
     "start_time": "2019-04-07T02:23:24.912257Z"
    }
   },
   "outputs": [
    {
     "name": "stderr",
     "output_type": "stream",
     "text": [
      "100%|███████████████████████████████████████████████████████████████████████████| 50000/50000 [01:11<00:00, 697.27it/s]\n"
     ]
    }
   ],
   "source": [
    "avg_bilstm_on_yelp_full, avg_bilstm_on_yelp_full_history = load_AvgBiLSTM_model(base_dir+'model save/Avg-BiLSTM/' + 'Avg-BiLSTM-on-Yelp-Full.pth', output_size=5)\n",
    "y_pred, y_true = predict(avg_bilstm_on_yelp_full, yelp_full_data, multiclass=True)\n",
    "evaluate_df = evaluate_df.append(evaluate(y_pred, y_true, model_name='Avg-BiLSTM-on-Yelp-Full', dataset='Yelp-Full', multiclass=True), ignore_index=True)"
   ]
  },
  {
   "cell_type": "markdown",
   "metadata": {},
   "source": [
    "### Inter-Attention-BiLSTM"
   ]
  },
  {
   "cell_type": "markdown",
   "metadata": {},
   "source": [
    "#### c-query"
   ]
  },
  {
   "cell_type": "code",
   "execution_count": 31,
   "metadata": {
    "ExecuteTime": {
     "end_time": "2019-04-07T02:40:26.263297Z",
     "start_time": "2019-04-07T02:39:28.174406Z"
    }
   },
   "outputs": [
    {
     "name": "stderr",
     "output_type": "stream",
     "text": [
      "100%|████████████████████████████████████████████████████████████████████████| 100000/100000 [00:54<00:00, 1828.70it/s]\n"
     ]
    }
   ],
   "source": [
    "attn_bilstm_c_query_on_douban, attn_bilstm_c_query_on_douban_history = load_AttnBiLSTM_model(base_dir+'model save/Inter-Attention-BiLSTM/' + 'Attention-c-query-BiLSTM-on-Douban.pth')\n",
    "y_pred, y_true = predict(attn_bilstm_c_query_on_douban, douban_data)\n",
    "evaluate_df = evaluate_df.append(evaluate(y_pred, y_true, model_name='Inter-Attention-c-query-BiLSTM-on-Douban', dataset='Douban'), ignore_index=True)"
   ]
  },
  {
   "cell_type": "code",
   "execution_count": 32,
   "metadata": {
    "ExecuteTime": {
     "end_time": "2019-04-07T02:41:25.525219Z",
     "start_time": "2019-04-07T02:41:11.126724Z"
    }
   },
   "outputs": [
    {
     "name": "stderr",
     "output_type": "stream",
     "text": [
      "100%|█████████████████████████████████████████████████████████████████████████████| 5000/5000 [00:13<00:00, 354.94it/s]\n"
     ]
    }
   ],
   "source": [
    "attn_bilstm_c_query_on_imdb, attn_bilstm_c_query_on_imdb_history = load_AttnBiLSTM_model(base_dir+'model save/Inter-Attention-BiLSTM/' + 'Attention-c-query-BiLSTM-on-IMDB.pth')\n",
    "y_pred, y_true = predict(attn_bilstm_c_query_on_imdb, imdb_data)\n",
    "evaluate_df = evaluate_df.append(evaluate(y_pred, y_true, model_name='Inter-Attention-c-query-BiLSTM-on-IMDB', dataset='IMDB'), ignore_index=True)"
   ]
  },
  {
   "cell_type": "code",
   "execution_count": 34,
   "metadata": {
    "ExecuteTime": {
     "end_time": "2019-04-07T02:44:52.770773Z",
     "start_time": "2019-04-07T02:43:37.821201Z"
    }
   },
   "outputs": [
    {
     "name": "stderr",
     "output_type": "stream",
     "text": [
      "100%|███████████████████████████████████████████████████████████████████████████| 38000/38000 [01:14<00:00, 456.00it/s]\n"
     ]
    }
   ],
   "source": [
    "attn_bilstm_c_query_on_yelp_polarity, attn_bilstm_c_query_on_yelp_polarity_history = load_AttnBiLSTM_model(base_dir+'model save/Inter-Attention-BiLSTM/' + 'Attention-c-query-BiLSTM-on-Yelp-Polarity.pth')\n",
    "y_pred, y_true = predict(attn_bilstm_c_query_on_yelp_polarity, yelp_polarity_data)\n",
    "evaluate_df = evaluate_df.append(evaluate(y_pred, y_true, model_name='Inter-Attention-c-query-BiLSTM-on-Yelp-Polarity', dataset='Yelp-Polarity'), ignore_index=True)"
   ]
  },
  {
   "cell_type": "code",
   "execution_count": 35,
   "metadata": {
    "ExecuteTime": {
     "end_time": "2019-04-07T02:47:57.955412Z",
     "start_time": "2019-04-07T02:46:17.715865Z"
    },
    "scrolled": true
   },
   "outputs": [
    {
     "name": "stderr",
     "output_type": "stream",
     "text": [
      "100%|███████████████████████████████████████████████████████████████████████████| 50000/50000 [01:37<00:00, 542.17it/s]\n"
     ]
    }
   ],
   "source": [
    "attn_bilstm_c_query_on_yelp_full, attn_bilstm_c_query_on_yelp_full_history = load_AttnBiLSTM_model(base_dir+'model save/Inter-Attention-BiLSTM/' + 'Attention-c-query-BiLSTM-on-Yelp-Full.pth', output_size=5)\n",
    "y_pred, y_true = predict(attn_bilstm_c_query_on_yelp_full, yelp_full_data, multiclass=True)\n",
    "evaluate_df = evaluate_df.append(evaluate(y_pred, y_true, model_name='Inter-Attention-c-query-BiLSTM-on-Yelp-Full', dataset='Yelp-Full', multiclass=True), ignore_index=True)"
   ]
  },
  {
   "cell_type": "markdown",
   "metadata": {},
   "source": [
    "#### h-query"
   ]
  },
  {
   "cell_type": "code",
   "execution_count": 37,
   "metadata": {
    "ExecuteTime": {
     "end_time": "2019-04-07T03:03:58.261613Z",
     "start_time": "2019-04-07T03:02:57.917823Z"
    }
   },
   "outputs": [
    {
     "name": "stderr",
     "output_type": "stream",
     "text": [
      "100%|████████████████████████████████████████████████████████████████████████| 100000/100000 [00:56<00:00, 1762.88it/s]\n"
     ]
    }
   ],
   "source": [
    "attn_bilstm_h_query_on_douban, attn_bilstm_h_query_on_douban_history = load_AttnBiLSTM_model(base_dir+'model save/Inter-Attention-BiLSTM/' + 'Attention-h-query-BiLSTM-on-Douban.pth')\n",
    "y_pred, y_true = predict(attn_bilstm_h_query_on_douban, douban_data)\n",
    "evaluate_df = evaluate_df.append(evaluate(y_pred, y_true, model_name='Inter-Attention-h-query-BiLSTM-on-Douban', dataset='Douban'), ignore_index=True)"
   ]
  },
  {
   "cell_type": "code",
   "execution_count": 38,
   "metadata": {
    "ExecuteTime": {
     "end_time": "2019-04-07T03:04:15.790027Z",
     "start_time": "2019-04-07T03:04:01.080315Z"
    }
   },
   "outputs": [
    {
     "name": "stderr",
     "output_type": "stream",
     "text": [
      "100%|█████████████████████████████████████████████████████████████████████████████| 5000/5000 [00:13<00:00, 376.54it/s]\n"
     ]
    }
   ],
   "source": [
    "attn_bilstm_h_query_on_imdb, attn_bilstm_h_query_on_imdb_history = load_AttnBiLSTM_model(base_dir+'model save/Inter-Attention-BiLSTM/' + 'Attention-h-query-BiLSTM-on-IMDB.pth')\n",
    "y_pred, y_true = predict(attn_bilstm_h_query_on_imdb, imdb_data)\n",
    "evaluate_df = evaluate_df.append(evaluate(y_pred, y_true, model_name='Inter-Attention-h-query-BiLSTM-on-IMDB', dataset='IMDB'), ignore_index=True)"
   ]
  },
  {
   "cell_type": "code",
   "execution_count": 39,
   "metadata": {
    "ExecuteTime": {
     "end_time": "2019-04-07T03:05:35.482415Z",
     "start_time": "2019-04-07T03:04:18.424863Z"
    }
   },
   "outputs": [
    {
     "name": "stderr",
     "output_type": "stream",
     "text": [
      "100%|███████████████████████████████████████████████████████████████████████████| 38000/38000 [01:14<00:00, 509.71it/s]\n"
     ]
    }
   ],
   "source": [
    "attn_bilstm_h_query_on_yelp_polarity, attn_bilstm_h_query_on_yelp_polarity_history = load_AttnBiLSTM_model(base_dir+'model save/Inter-Attention-BiLSTM/' + 'Attention-h-query-BiLSTM-on-Yelp-Polarity.pth')\n",
    "y_pred, y_true = predict(attn_bilstm_h_query_on_yelp_polarity, yelp_polarity_data)\n",
    "evaluate_df = evaluate_df.append(evaluate(y_pred, y_true, model_name='Inter-Attention-h-query-BiLSTM-on-Yelp-Polarity', dataset='Yelp-Polarity'), ignore_index=True)"
   ]
  },
  {
   "cell_type": "code",
   "execution_count": 41,
   "metadata": {
    "ExecuteTime": {
     "end_time": "2019-04-07T03:07:44.348155Z",
     "start_time": "2019-04-07T03:06:06.165969Z"
    }
   },
   "outputs": [
    {
     "name": "stderr",
     "output_type": "stream",
     "text": [
      "100%|███████████████████████████████████████████████████████████████████████████| 50000/50000 [01:37<00:00, 513.61it/s]\n"
     ]
    }
   ],
   "source": [
    "attn_bilstm_h_query_on_yelp_full, attn_bilstm_h_query_on_yelp_full_history = load_AttnBiLSTM_model(base_dir+'model save/Inter-Attention-BiLSTM/' + 'Attention-h-query-BiLSTM-on-Yelp-Full.pth', output_size=5)\n",
    "y_pred, y_true = predict(attn_bilstm_h_query_on_yelp_full, yelp_full_data, multiclass=True)\n",
    "evaluate_df = evaluate_df.append(evaluate(y_pred, y_true, model_name='Inter-Attention-h-query-BiLSTM-on-Yelp-Full', dataset='Yelp-Full', multiclass=True), ignore_index=True)"
   ]
  },
  {
   "cell_type": "markdown",
   "metadata": {},
   "source": [
    "#### independent parameters query"
   ]
  },
  {
   "cell_type": "code",
   "execution_count": 42,
   "metadata": {
    "ExecuteTime": {
     "end_time": "2019-04-07T03:09:01.240073Z",
     "start_time": "2019-04-07T03:08:02.130097Z"
    }
   },
   "outputs": [
    {
     "name": "stderr",
     "output_type": "stream",
     "text": [
      "100%|████████████████████████████████████████████████████████████████████████| 100000/100000 [00:55<00:00, 1792.79it/s]\n"
     ]
    }
   ],
   "source": [
    "attn_bilstm_independent_query_on_douban, attn_bilstm_independent_query_on_douban_history = load_AttnBiLSTM_model(base_dir+'model save/Inter-Attention-BiLSTM/' + 'Attention-independent-query-BiLSTM-on-Douban.pth')\n",
    "y_pred, y_true = predict(attn_bilstm_independent_query_on_douban, douban_data)\n",
    "evaluate_df = evaluate_df.append(evaluate(y_pred, y_true, model_name='Inter-Attention-independent-query-BiLSTM-on-Douban', dataset='Douban'), ignore_index=True)"
   ]
  },
  {
   "cell_type": "code",
   "execution_count": 18,
   "metadata": {
    "ExecuteTime": {
     "end_time": "2019-04-07T03:22:28.327416Z",
     "start_time": "2019-04-07T03:22:11.639312Z"
    }
   },
   "outputs": [
    {
     "name": "stderr",
     "output_type": "stream",
     "text": [
      "100%|█████████████████████████████████████████████████████████████████████████████| 5000/5000 [00:13<00:00, 373.02it/s]\n"
     ]
    }
   ],
   "source": [
    "attn_bilstm_independent_query_on_imdb, attn_bilstm_independent_query_on_imdb_history = load_AttnBiLSTM_model(base_dir+'model save/Inter-Attention-BiLSTM/' + 'Attention-independent-query-BiLSTM-on-IMDB.pth')\n",
    "y_pred, y_true = predict(attn_bilstm_independent_query_on_imdb, imdb_data)\n",
    "evaluate_df = evaluate_df.append(evaluate(y_pred, y_true, model_name='Inter-Attention-independent-query-BiLSTM-on-IMDB', dataset='IMDB'), ignore_index=True)"
   ]
  },
  {
   "cell_type": "code",
   "execution_count": 19,
   "metadata": {
    "ExecuteTime": {
     "end_time": "2019-04-07T03:23:45.108448Z",
     "start_time": "2019-04-07T03:22:28.481641Z"
    }
   },
   "outputs": [
    {
     "name": "stderr",
     "output_type": "stream",
     "text": [
      "100%|███████████████████████████████████████████████████████████████████████████| 38000/38000 [01:14<00:00, 511.79it/s]\n"
     ]
    }
   ],
   "source": [
    "attn_bilstm_independent_query_on_yelp_polarity, attn_bilstm_independent_query_on_yelp_polarity_history = load_AttnBiLSTM_model(base_dir+'model save/Inter-Attention-BiLSTM/' + 'Attention-independent-query-BiLSTM-on-Yelp-Polarity.pth')\n",
    "y_pred, y_true = predict(attn_bilstm_independent_query_on_yelp_polarity, yelp_polarity_data)\n",
    "evaluate_df = evaluate_df.append(evaluate(y_pred, y_true, model_name='Inter-Attention-independent-query-BiLSTM-on-Yelp-Polarity', dataset='Yelp-Polarity'), ignore_index=True)"
   ]
  },
  {
   "cell_type": "code",
   "execution_count": 20,
   "metadata": {
    "ExecuteTime": {
     "end_time": "2019-04-07T03:25:27.303582Z",
     "start_time": "2019-04-07T03:23:45.110454Z"
    }
   },
   "outputs": [
    {
     "name": "stderr",
     "output_type": "stream",
     "text": [
      "100%|███████████████████████████████████████████████████████████████████████████| 50000/50000 [01:39<00:00, 501.79it/s]\n"
     ]
    }
   ],
   "source": [
    "attn_bilstm_independent_query_on_yelp_full, attn_bilstm_independent_query_on_yelp_full_history = load_AttnBiLSTM_model(base_dir+'model save/Inter-Attention-BiLSTM/' + 'Attention-independent-query-BiLSTM-on-Yelp-Full.pth', output_size=5)\n",
    "y_pred, y_true = predict(attn_bilstm_independent_query_on_yelp_full, yelp_full_data, multiclass=True)\n",
    "evaluate_df = evaluate_df.append(evaluate(y_pred, y_true, model_name='Inter-Attention-independent-query-BiLSTM-on-Yelp-Full', dataset='Yelp-Full', multiclass=True), ignore_index=True)"
   ]
  },
  {
   "cell_type": "markdown",
   "metadata": {},
   "source": [
    "### Transformer"
   ]
  },
  {
   "cell_type": "code",
   "execution_count": 16,
   "metadata": {
    "ExecuteTime": {
     "end_time": "2019-04-30T11:02:50.169638Z",
     "start_time": "2019-04-30T11:01:07.274925Z"
    }
   },
   "outputs": [
    {
     "name": "stderr",
     "output_type": "stream",
     "text": [
      "100%|████████████████████████████████████████████████████████████████████████| 100000/100000 [01:33<00:00, 1072.14it/s]\n"
     ]
    }
   ],
   "source": [
    "transformer_on_douban, transformer_on_douban_history = load_Transformer_model(base_dir+'model save/Transformer/' + 'Transformer-on-Douban.pth')\n",
    "y_pred, y_true = predict(transformer_on_douban, douban_data, input_len=False)\n",
    "evaluate_df = evaluate_df.append(evaluate(y_pred, y_true, model_name='Transformer-on-Douban', dataset='Douban'), ignore_index=True)"
   ]
  },
  {
   "cell_type": "code",
   "execution_count": 27,
   "metadata": {
    "ExecuteTime": {
     "end_time": "2019-04-07T03:45:43.400045Z",
     "start_time": "2019-04-07T03:44:58.440198Z"
    }
   },
   "outputs": [
    {
     "name": "stderr",
     "output_type": "stream",
     "text": [
      "100%|█████████████████████████████████████████████████████████████████████████████| 5000/5000 [00:42<00:00, 116.43it/s]\n"
     ]
    }
   ],
   "source": [
    "transformer_on_imdb, transformer_on_imdb_history = load_Transformer_model(base_dir+'model save/Transformer/' + 'Transformer-on-IMDB.pth')\n",
    "y_pred, y_true = predict(transformer_on_imdb, imdb_data, input_len=False)\n",
    "evaluate_df = evaluate_df.append(evaluate(y_pred, y_true, model_name='Transformer-on-IMDB', dataset='IMDB'), ignore_index=True)"
   ]
  },
  {
   "cell_type": "code",
   "execution_count": 28,
   "metadata": {
    "ExecuteTime": {
     "end_time": "2019-04-07T03:48:44.669987Z",
     "start_time": "2019-04-07T03:45:43.402086Z"
    }
   },
   "outputs": [
    {
     "name": "stderr",
     "output_type": "stream",
     "text": [
      "100%|███████████████████████████████████████████████████████████████████████████| 38000/38000 [02:58<00:00, 213.16it/s]\n"
     ]
    }
   ],
   "source": [
    "transformer_on_yelp_polarity, transformer_on_yelp_polarity_history = load_Transformer_model(base_dir+'model save/Transformer/' + 'Transformer-on-Yelp-Polarity.pth')\n",
    "y_pred, y_true = predict(transformer_on_yelp_polarity, yelp_polarity_data, input_len=False)\n",
    "evaluate_df = evaluate_df.append(evaluate(y_pred, y_true, model_name='Transformer-on-Yelp-Polarity', dataset='Yelp-Polarity'), ignore_index=True)"
   ]
  },
  {
   "cell_type": "code",
   "execution_count": 29,
   "metadata": {
    "ExecuteTime": {
     "end_time": "2019-04-07T03:52:44.095140Z",
     "start_time": "2019-04-07T03:48:44.671958Z"
    }
   },
   "outputs": [
    {
     "name": "stderr",
     "output_type": "stream",
     "text": [
      "100%|███████████████████████████████████████████████████████████████████████████| 50000/50000 [03:56<00:00, 211.30it/s]\n"
     ]
    }
   ],
   "source": [
    "transformer_on_yelp_full, transformer_on_yelp_full_history = load_Transformer_model(base_dir+'model save/Transformer/' + 'Transformer-on-Yelp-Full.pth', output_size=5)\n",
    "y_pred, y_true = predict(transformer_on_yelp_full, yelp_full_data, multiclass=True, input_len=False)\n",
    "evaluate_df = evaluate_df.append(evaluate(y_pred, y_true, model_name='Transformer-on-Yelp-Full', dataset='Yelp-Full', multiclass=True), ignore_index=True)"
   ]
  },
  {
   "cell_type": "markdown",
   "metadata": {},
   "source": [
    "### Self-Inter-Attention-BiLSTM"
   ]
  },
  {
   "cell_type": "code",
   "execution_count": 21,
   "metadata": {
    "ExecuteTime": {
     "end_time": "2019-04-07T02:25:35.975710Z",
     "start_time": "2019-04-07T02:24:37.450887Z"
    }
   },
   "outputs": [
    {
     "name": "stderr",
     "output_type": "stream",
     "text": [
      "100%|████████████████████████████████████████████████████████████████████████| 100000/100000 [00:57<00:00, 1745.89it/s]\n"
     ]
    }
   ],
   "source": [
    "si_attn_bilstm_on_douban, si_attn_bilstm_on_douban_history = load_SIAttentionBiLSTM_model(base_dir+'model save/Self-Inter-Attention-BiLSTM/' + 'Self-Inter-Attention-BiLSTM-on-Douban.pth')\n",
    "y_pred, y_true = predict(si_attn_bilstm_on_douban, douban_data)\n",
    "evaluate_df = evaluate_df.append(evaluate(y_pred, y_true, model_name='Self-Inter-Attention-BiLSTM-on-Douban', dataset='Douban'), ignore_index=True)"
   ]
  },
  {
   "cell_type": "code",
   "execution_count": 22,
   "metadata": {
    "ExecuteTime": {
     "end_time": "2019-04-07T02:25:56.449675Z",
     "start_time": "2019-04-07T02:25:37.656257Z"
    }
   },
   "outputs": [
    {
     "name": "stderr",
     "output_type": "stream",
     "text": [
      "100%|█████████████████████████████████████████████████████████████████████████████| 5000/5000 [00:18<00:00, 243.38it/s]\n"
     ]
    }
   ],
   "source": [
    "si_attn_bilstm_on_imdb, si_attn_bilstm_on_imdb_history = load_SIAttentionBiLSTM_model(base_dir+'model save/Self-Inter-Attention-BiLSTM/' + 'Self-Inter-Attention-BiLSTM-on-IMDB.pth')\n",
    "y_pred, y_true = predict(si_attn_bilstm_on_imdb, imdb_data)\n",
    "evaluate_df = evaluate_df.append(evaluate(y_pred, y_true, model_name='Self-Inter-Attention-BiLSTM-on-IMDB', dataset='IMDB'), ignore_index=True)"
   ]
  },
  {
   "cell_type": "code",
   "execution_count": 23,
   "metadata": {
    "ExecuteTime": {
     "end_time": "2019-04-07T02:27:50.985819Z",
     "start_time": "2019-04-07T02:26:13.671919Z"
    }
   },
   "outputs": [
    {
     "name": "stderr",
     "output_type": "stream",
     "text": [
      "100%|███████████████████████████████████████████████████████████████████████████| 38000/38000 [01:34<00:00, 402.86it/s]\n"
     ]
    }
   ],
   "source": [
    "si_attn_bilstm_on_yelp_polarity, si_attn_bilstm_on_yelp_polarity_history = load_SIAttentionBiLSTM_model(base_dir+'model save/Self-Inter-Attention-BiLSTM/' + 'Self-Inter-Attention-BiLSTM-on-Yelp-Polarity.pth')\n",
    "y_pred, y_true = predict(si_attn_bilstm_on_yelp_polarity, yelp_polarity_data)\n",
    "evaluate_df = evaluate_df.append(evaluate(y_pred, y_true, model_name='Self-Inter-Attention-BiLSTM-on-Yelp-Polarity', dataset='Yelp-Polarity'), ignore_index=True)"
   ]
  },
  {
   "cell_type": "code",
   "execution_count": 25,
   "metadata": {
    "ExecuteTime": {
     "end_time": "2019-04-07T02:31:42.966948Z",
     "start_time": "2019-04-07T02:29:35.290857Z"
    }
   },
   "outputs": [
    {
     "name": "stderr",
     "output_type": "stream",
     "text": [
      "100%|███████████████████████████████████████████████████████████████████████████| 50000/50000 [02:04<00:00, 402.08it/s]\n"
     ]
    }
   ],
   "source": [
    "si_attn_bilstm_on_yelp_full, si_attn_bilstm_on_yelp_full_history = load_SIAttentionBiLSTM_model(base_dir+'model save/Self-Inter-Attention-BiLSTM/' + 'Self-Inter-Attention-BiLSTM-on-Yelp-Full.pth', output_size=5)\n",
    "y_pred, y_true = predict(si_attn_bilstm_on_yelp_full, yelp_full_data, multiclass=True)\n",
    "evaluate_df = evaluate_df.append(evaluate(y_pred, y_true, model_name='Self-Inter-Attention-BiLSTM-on-Yelp-Full', dataset='Yelp-Full', multiclass=True), ignore_index=True)"
   ]
  },
  {
   "cell_type": "markdown",
   "metadata": {},
   "source": [
    "### Hierarchical-Attention-Networks"
   ]
  },
  {
   "cell_type": "code",
   "execution_count": 39,
   "metadata": {
    "ExecuteTime": {
     "end_time": "2019-04-09T03:55:51.689998Z",
     "start_time": "2019-04-09T03:55:51.570708Z"
    }
   },
   "outputs": [
    {
     "data": {
      "text/plain": [
       "['Hierarchical-Attention-Networks-on-Douban.pth',\n",
       " 'Hierarchical-Attention-Networks-on-IMDB.pth',\n",
       " 'Hierarchical-Attention-Networks-on-Yelp-Full.pth',\n",
       " 'Hierarchical-Attention-Networks-on-Yelp-Polarity.pth']"
      ]
     },
     "execution_count": 39,
     "metadata": {},
     "output_type": "execute_result"
    }
   ],
   "source": [
    "os.listdir('./model save/HAN/')"
   ]
  },
  {
   "cell_type": "code",
   "execution_count": 43,
   "metadata": {
    "ExecuteTime": {
     "end_time": "2019-04-09T03:59:11.241854Z",
     "start_time": "2019-04-09T03:57:31.979320Z"
    }
   },
   "outputs": [
    {
     "name": "stderr",
     "output_type": "stream",
     "text": [
      "100%|████████████████████████████████████████████████████████████████████████| 100000/100000 [01:38<00:00, 1019.43it/s]\n"
     ]
    }
   ],
   "source": [
    "hierarchical_on_douban, hierarchical_on_douban_history = load_HAN_model(base_dir+'model save/HAN/' + 'Hierarchical-Attention-Networks-on-Douban.pth')\n",
    "y_pred, y_true = predict(hierarchical_on_douban, douban_hierarchical_data, input_len=False, hierarchical=True)\n",
    "evaluate_df = evaluate_df.append(evaluate(y_pred, y_true, model_name='Hierarchical-on-Douban', dataset='Douban'), ignore_index=True)"
   ]
  },
  {
   "cell_type": "code",
   "execution_count": 47,
   "metadata": {
    "ExecuteTime": {
     "end_time": "2019-04-09T04:02:01.002353Z",
     "start_time": "2019-04-09T04:01:39.300132Z"
    }
   },
   "outputs": [
    {
     "name": "stderr",
     "output_type": "stream",
     "text": [
      "100%|█████████████████████████████████████████████████████████████████████████████| 4992/4992 [00:21<00:00, 224.19it/s]\n"
     ]
    }
   ],
   "source": [
    "hierarchical_on_imdb, hierarchical_on_imdb_history = load_HAN_model(base_dir+'model save/HAN/' + 'Hierarchical-Attention-Networks-on-IMDB.pth')\n",
    "y_pred, y_true = predict(hierarchical_on_imdb, imdb_hierarchical_data, input_len=False, hierarchical=True)\n",
    "evaluate_df = evaluate_df.append(evaluate(y_pred, y_true, model_name='Hierarchical-on-IMDB', dataset='IMDB'), ignore_index=True)"
   ]
  },
  {
   "cell_type": "code",
   "execution_count": 18,
   "metadata": {
    "ExecuteTime": {
     "end_time": "2019-04-09T04:05:34.426469Z",
     "start_time": "2019-04-09T04:04:46.054535Z"
    }
   },
   "outputs": [
    {
     "name": "stderr",
     "output_type": "stream",
     "text": [
      "100%|███████████████████████████████████████████████████████████████████████████| 37984/37984 [00:44<00:00, 848.28it/s]\n"
     ]
    }
   ],
   "source": [
    "hierarchical_on_yelp_polarity, hierarchical_on_yelp_polarity_history = load_HAN_model(base_dir+'model save/HAN/' + 'Hierarchical-Attention-Networks-on-Yelp-Polarity.pth')\n",
    "y_pred, y_true = predict(hierarchical_on_yelp_polarity, yelp_polarity_hierarchical_data, input_len=False, hierarchical=True)\n",
    "evaluate_df = evaluate_df.append(evaluate(y_pred, y_true, model_name='Hierarchical-on-Yelp-Polarity', dataset='Yelp-Polarity'), ignore_index=True)"
   ]
  },
  {
   "cell_type": "code",
   "execution_count": 13,
   "metadata": {
    "ExecuteTime": {
     "end_time": "2019-04-09T04:10:39.742153Z",
     "start_time": "2019-04-09T04:09:35.874762Z"
    }
   },
   "outputs": [
    {
     "name": "stderr",
     "output_type": "stream",
     "text": [
      "100%|███████████████████████████████████████████████████████████████████████████| 49984/49984 [01:00<00:00, 862.84it/s]\n"
     ]
    }
   ],
   "source": [
    "hierarchical_on_yelp_full, hierarchical_on_yelp_full_history = load_HAN_model(base_dir+'model save/HAN/' + 'Hierarchical-Attention-Networks-on-Yelp-Full.pth', output_size=5)\n",
    "y_pred, y_true = predict(hierarchical_on_yelp_full, yelp_full_hierarchical_data, multiclass=True, input_len=False, hierarchical=True)\n",
    "evaluate_df = evaluate_df.append(evaluate(y_pred, y_true, model_name='Hierarchical-on-Yelp-Full', dataset='Yelp-Full', multiclass=True), ignore_index=True)"
   ]
  },
  {
   "cell_type": "markdown",
   "metadata": {},
   "source": [
    "## Summary"
   ]
  },
  {
   "cell_type": "code",
   "execution_count": 28,
   "metadata": {
    "ExecuteTime": {
     "end_time": "2019-04-30T11:09:04.938852Z",
     "start_time": "2019-04-30T11:09:04.529128Z"
    }
   },
   "outputs": [],
   "source": [
    "evaluate_df.to_csv('evaluate_df.csv', index=False)"
   ]
  },
  {
   "cell_type": "code",
   "execution_count": 21,
   "metadata": {
    "ExecuteTime": {
     "end_time": "2019-04-30T11:08:09.109573Z",
     "start_time": "2019-04-30T11:08:08.951180Z"
    }
   },
   "outputs": [
    {
     "data": {
      "text/html": [
       "<div>\n",
       "<style scoped>\n",
       "    .dataframe tbody tr th:only-of-type {\n",
       "        vertical-align: middle;\n",
       "    }\n",
       "\n",
       "    .dataframe tbody tr th {\n",
       "        vertical-align: top;\n",
       "    }\n",
       "\n",
       "    .dataframe thead th {\n",
       "        text-align: right;\n",
       "    }\n",
       "</style>\n",
       "<table border=\"1\" class=\"dataframe\">\n",
       "  <thead>\n",
       "    <tr style=\"text-align: right;\">\n",
       "      <th></th>\n",
       "      <th></th>\n",
       "      <th>accuracy</th>\n",
       "      <th>auc</th>\n",
       "      <th>f1</th>\n",
       "      <th>loss</th>\n",
       "      <th>precision</th>\n",
       "      <th>recall</th>\n",
       "    </tr>\n",
       "    <tr>\n",
       "      <th>dataset</th>\n",
       "      <th>model</th>\n",
       "      <th></th>\n",
       "      <th></th>\n",
       "      <th></th>\n",
       "      <th></th>\n",
       "      <th></th>\n",
       "      <th></th>\n",
       "    </tr>\n",
       "  </thead>\n",
       "  <tbody>\n",
       "    <tr>\n",
       "      <th rowspan=\"7\" valign=\"top\">Douban</th>\n",
       "      <th>Avg-BiLSTM-on-Douban</th>\n",
       "      <td>0.839540</td>\n",
       "      <td>0.906459</td>\n",
       "      <td>0.839325</td>\n",
       "      <td>0.447697</td>\n",
       "      <td>0.840452</td>\n",
       "      <td>0.838200</td>\n",
       "    </tr>\n",
       "    <tr>\n",
       "      <th>Hierarchical-on-Douban</th>\n",
       "      <td>0.845100</td>\n",
       "      <td>0.926152</td>\n",
       "      <td>0.848342</td>\n",
       "      <td>0.355895</td>\n",
       "      <td>0.830949</td>\n",
       "      <td>0.866480</td>\n",
       "    </tr>\n",
       "    <tr>\n",
       "      <th>Inter-Attention-independent-query-BiLSTM-on-Douban</th>\n",
       "      <td>0.840280</td>\n",
       "      <td>0.922254</td>\n",
       "      <td>0.844658</td>\n",
       "      <td>0.372822</td>\n",
       "      <td>0.822125</td>\n",
       "      <td>0.868460</td>\n",
       "    </tr>\n",
       "    <tr>\n",
       "      <th>Inter-Attention-h-query-BiLSTM-on-Douban</th>\n",
       "      <td>0.841990</td>\n",
       "      <td>0.922871</td>\n",
       "      <td>0.843121</td>\n",
       "      <td>0.369975</td>\n",
       "      <td>0.837129</td>\n",
       "      <td>0.849200</td>\n",
       "    </tr>\n",
       "    <tr>\n",
       "      <th>Inter-Attention-c-query-BiLSTM-on-Douban</th>\n",
       "      <td>0.839640</td>\n",
       "      <td>0.921216</td>\n",
       "      <td>0.841748</td>\n",
       "      <td>0.374190</td>\n",
       "      <td>0.830827</td>\n",
       "      <td>0.852960</td>\n",
       "    </tr>\n",
       "    <tr>\n",
       "      <th>Transformer-on-Douban</th>\n",
       "      <td>0.802830</td>\n",
       "      <td>0.884197</td>\n",
       "      <td>0.805255</td>\n",
       "      <td>0.432439</td>\n",
       "      <td>0.795473</td>\n",
       "      <td>0.815280</td>\n",
       "    </tr>\n",
       "    <tr>\n",
       "      <th>Self-Inter-Attention-BiLSTM-on-Douban</th>\n",
       "      <td>0.840970</td>\n",
       "      <td>0.920650</td>\n",
       "      <td>0.843737</td>\n",
       "      <td>0.388087</td>\n",
       "      <td>0.829306</td>\n",
       "      <td>0.858680</td>\n",
       "    </tr>\n",
       "    <tr>\n",
       "      <th rowspan=\"7\" valign=\"top\">IMDB</th>\n",
       "      <th>Inter-Attention-h-query-BiLSTM-on-IMDB</th>\n",
       "      <td>0.920000</td>\n",
       "      <td>0.972595</td>\n",
       "      <td>0.921198</td>\n",
       "      <td>0.312038</td>\n",
       "      <td>0.907609</td>\n",
       "      <td>0.935200</td>\n",
       "    </tr>\n",
       "    <tr>\n",
       "      <th>Inter-Attention-c-query-BiLSTM-on-IMDB</th>\n",
       "      <td>0.921400</td>\n",
       "      <td>0.975055</td>\n",
       "      <td>0.922378</td>\n",
       "      <td>0.214704</td>\n",
       "      <td>0.911042</td>\n",
       "      <td>0.934000</td>\n",
       "    </tr>\n",
       "    <tr>\n",
       "      <th>Hierarchical-on-IMDB</th>\n",
       "      <td>0.924479</td>\n",
       "      <td>0.977709</td>\n",
       "      <td>0.925184</td>\n",
       "      <td>0.199881</td>\n",
       "      <td>0.917717</td>\n",
       "      <td>0.932773</td>\n",
       "    </tr>\n",
       "    <tr>\n",
       "      <th>Self-Inter-Attention-BiLSTM-on-IMDB</th>\n",
       "      <td>0.919400</td>\n",
       "      <td>0.970322</td>\n",
       "      <td>0.918536</td>\n",
       "      <td>0.259638</td>\n",
       "      <td>0.928484</td>\n",
       "      <td>0.908800</td>\n",
       "    </tr>\n",
       "    <tr>\n",
       "      <th>Inter-Attention-independent-query-BiLSTM-on-IMDB</th>\n",
       "      <td>0.920200</td>\n",
       "      <td>0.972161</td>\n",
       "      <td>0.920943</td>\n",
       "      <td>0.294275</td>\n",
       "      <td>0.912446</td>\n",
       "      <td>0.929600</td>\n",
       "    </tr>\n",
       "    <tr>\n",
       "      <th>Avg-BiLSTM-on-IMDB</th>\n",
       "      <td>0.918600</td>\n",
       "      <td>0.969562</td>\n",
       "      <td>0.919581</td>\n",
       "      <td>0.287007</td>\n",
       "      <td>0.908629</td>\n",
       "      <td>0.930800</td>\n",
       "    </tr>\n",
       "    <tr>\n",
       "      <th>Transformer-on-IMDB</th>\n",
       "      <td>0.907200</td>\n",
       "      <td>0.967122</td>\n",
       "      <td>0.908733</td>\n",
       "      <td>0.242542</td>\n",
       "      <td>0.893963</td>\n",
       "      <td>0.924000</td>\n",
       "    </tr>\n",
       "    <tr>\n",
       "      <th rowspan=\"7\" valign=\"top\">Yelp-Full</th>\n",
       "      <th>Self-Inter-Attention-BiLSTM-on-Yelp-Full</th>\n",
       "      <td>0.662600</td>\n",
       "      <td>NaN</td>\n",
       "      <td>NaN</td>\n",
       "      <td>0.824653</td>\n",
       "      <td>NaN</td>\n",
       "      <td>NaN</td>\n",
       "    </tr>\n",
       "    <tr>\n",
       "      <th>Inter-Attention-c-query-BiLSTM-on-Yelp-Full</th>\n",
       "      <td>0.659660</td>\n",
       "      <td>NaN</td>\n",
       "      <td>NaN</td>\n",
       "      <td>0.798322</td>\n",
       "      <td>NaN</td>\n",
       "      <td>NaN</td>\n",
       "    </tr>\n",
       "    <tr>\n",
       "      <th>Avg-BiLSTM-on-Yelp-Full</th>\n",
       "      <td>0.666760</td>\n",
       "      <td>NaN</td>\n",
       "      <td>NaN</td>\n",
       "      <td>1.004622</td>\n",
       "      <td>NaN</td>\n",
       "      <td>NaN</td>\n",
       "    </tr>\n",
       "    <tr>\n",
       "      <th>Hierarchical-on-Yelp-Full</th>\n",
       "      <td>0.673055</td>\n",
       "      <td>NaN</td>\n",
       "      <td>NaN</td>\n",
       "      <td>0.751090</td>\n",
       "      <td>NaN</td>\n",
       "      <td>NaN</td>\n",
       "    </tr>\n",
       "    <tr>\n",
       "      <th>Inter-Attention-h-query-BiLSTM-on-Yelp-Full</th>\n",
       "      <td>0.678240</td>\n",
       "      <td>NaN</td>\n",
       "      <td>NaN</td>\n",
       "      <td>0.752670</td>\n",
       "      <td>NaN</td>\n",
       "      <td>NaN</td>\n",
       "    </tr>\n",
       "    <tr>\n",
       "      <th>Inter-Attention-independent-query-BiLSTM-on-Yelp-Full</th>\n",
       "      <td>0.675160</td>\n",
       "      <td>NaN</td>\n",
       "      <td>NaN</td>\n",
       "      <td>0.762503</td>\n",
       "      <td>NaN</td>\n",
       "      <td>NaN</td>\n",
       "    </tr>\n",
       "    <tr>\n",
       "      <th>Transformer-on-Yelp-Full</th>\n",
       "      <td>0.600840</td>\n",
       "      <td>NaN</td>\n",
       "      <td>NaN</td>\n",
       "      <td>0.920770</td>\n",
       "      <td>NaN</td>\n",
       "      <td>NaN</td>\n",
       "    </tr>\n",
       "    <tr>\n",
       "      <th rowspan=\"7\" valign=\"top\">Yelp-Polarity</th>\n",
       "      <th>Hierarchical-on-Yelp-Polarity</th>\n",
       "      <td>0.967750</td>\n",
       "      <td>0.995059</td>\n",
       "      <td>0.967754</td>\n",
       "      <td>0.089756</td>\n",
       "      <td>0.967830</td>\n",
       "      <td>0.967677</td>\n",
       "    </tr>\n",
       "    <tr>\n",
       "      <th>Self-Inter-Attention-BiLSTM-on-Yelp-Polarity</th>\n",
       "      <td>0.965684</td>\n",
       "      <td>0.994038</td>\n",
       "      <td>0.965774</td>\n",
       "      <td>0.121675</td>\n",
       "      <td>0.963246</td>\n",
       "      <td>0.968316</td>\n",
       "    </tr>\n",
       "    <tr>\n",
       "      <th>Inter-Attention-independent-query-BiLSTM-on-Yelp-Polarity</th>\n",
       "      <td>0.967658</td>\n",
       "      <td>0.994901</td>\n",
       "      <td>0.967604</td>\n",
       "      <td>0.095921</td>\n",
       "      <td>0.969214</td>\n",
       "      <td>0.966000</td>\n",
       "    </tr>\n",
       "    <tr>\n",
       "      <th>Inter-Attention-h-query-BiLSTM-on-Yelp-Polarity</th>\n",
       "      <td>0.966974</td>\n",
       "      <td>0.994831</td>\n",
       "      <td>0.967056</td>\n",
       "      <td>0.099442</td>\n",
       "      <td>0.964650</td>\n",
       "      <td>0.969474</td>\n",
       "    </tr>\n",
       "    <tr>\n",
       "      <th>Inter-Attention-c-query-BiLSTM-on-Yelp-Polarity</th>\n",
       "      <td>0.964553</td>\n",
       "      <td>0.994387</td>\n",
       "      <td>0.964851</td>\n",
       "      <td>0.109183</td>\n",
       "      <td>0.956787</td>\n",
       "      <td>0.973053</td>\n",
       "    </tr>\n",
       "    <tr>\n",
       "      <th>Transformer-on-Yelp-Polarity</th>\n",
       "      <td>0.935447</td>\n",
       "      <td>0.984157</td>\n",
       "      <td>0.935925</td>\n",
       "      <td>0.162424</td>\n",
       "      <td>0.929057</td>\n",
       "      <td>0.942895</td>\n",
       "    </tr>\n",
       "    <tr>\n",
       "      <th>Avg-BiLSTM-on-Yelp-Polarity</th>\n",
       "      <td>0.966711</td>\n",
       "      <td>0.987627</td>\n",
       "      <td>0.966780</td>\n",
       "      <td>0.226632</td>\n",
       "      <td>0.964778</td>\n",
       "      <td>0.968789</td>\n",
       "    </tr>\n",
       "  </tbody>\n",
       "</table>\n",
       "</div>"
      ],
      "text/plain": [
       "                                                                  accuracy  \\\n",
       "dataset       model                                                          \n",
       "Douban        Avg-BiLSTM-on-Douban                                0.839540   \n",
       "              Hierarchical-on-Douban                              0.845100   \n",
       "              Inter-Attention-independent-query-BiLSTM-on-Douban  0.840280   \n",
       "              Inter-Attention-h-query-BiLSTM-on-Douban            0.841990   \n",
       "              Inter-Attention-c-query-BiLSTM-on-Douban            0.839640   \n",
       "              Transformer-on-Douban                               0.802830   \n",
       "              Self-Inter-Attention-BiLSTM-on-Douban               0.840970   \n",
       "IMDB          Inter-Attention-h-query-BiLSTM-on-IMDB              0.920000   \n",
       "              Inter-Attention-c-query-BiLSTM-on-IMDB              0.921400   \n",
       "              Hierarchical-on-IMDB                                0.924479   \n",
       "              Self-Inter-Attention-BiLSTM-on-IMDB                 0.919400   \n",
       "              Inter-Attention-independent-query-BiLSTM-on-IMDB    0.920200   \n",
       "              Avg-BiLSTM-on-IMDB                                  0.918600   \n",
       "              Transformer-on-IMDB                                 0.907200   \n",
       "Yelp-Full     Self-Inter-Attention-BiLSTM-on-Yelp-Full            0.662600   \n",
       "              Inter-Attention-c-query-BiLSTM-on-Yelp-Full         0.659660   \n",
       "              Avg-BiLSTM-on-Yelp-Full                             0.666760   \n",
       "              Hierarchical-on-Yelp-Full                           0.673055   \n",
       "              Inter-Attention-h-query-BiLSTM-on-Yelp-Full         0.678240   \n",
       "              Inter-Attention-independent-query-BiLSTM-on-Yel...  0.675160   \n",
       "              Transformer-on-Yelp-Full                            0.600840   \n",
       "Yelp-Polarity Hierarchical-on-Yelp-Polarity                       0.967750   \n",
       "              Self-Inter-Attention-BiLSTM-on-Yelp-Polarity        0.965684   \n",
       "              Inter-Attention-independent-query-BiLSTM-on-Yel...  0.967658   \n",
       "              Inter-Attention-h-query-BiLSTM-on-Yelp-Polarity     0.966974   \n",
       "              Inter-Attention-c-query-BiLSTM-on-Yelp-Polarity     0.964553   \n",
       "              Transformer-on-Yelp-Polarity                        0.935447   \n",
       "              Avg-BiLSTM-on-Yelp-Polarity                         0.966711   \n",
       "\n",
       "                                                                       auc  \\\n",
       "dataset       model                                                          \n",
       "Douban        Avg-BiLSTM-on-Douban                                0.906459   \n",
       "              Hierarchical-on-Douban                              0.926152   \n",
       "              Inter-Attention-independent-query-BiLSTM-on-Douban  0.922254   \n",
       "              Inter-Attention-h-query-BiLSTM-on-Douban            0.922871   \n",
       "              Inter-Attention-c-query-BiLSTM-on-Douban            0.921216   \n",
       "              Transformer-on-Douban                               0.884197   \n",
       "              Self-Inter-Attention-BiLSTM-on-Douban               0.920650   \n",
       "IMDB          Inter-Attention-h-query-BiLSTM-on-IMDB              0.972595   \n",
       "              Inter-Attention-c-query-BiLSTM-on-IMDB              0.975055   \n",
       "              Hierarchical-on-IMDB                                0.977709   \n",
       "              Self-Inter-Attention-BiLSTM-on-IMDB                 0.970322   \n",
       "              Inter-Attention-independent-query-BiLSTM-on-IMDB    0.972161   \n",
       "              Avg-BiLSTM-on-IMDB                                  0.969562   \n",
       "              Transformer-on-IMDB                                 0.967122   \n",
       "Yelp-Full     Self-Inter-Attention-BiLSTM-on-Yelp-Full                 NaN   \n",
       "              Inter-Attention-c-query-BiLSTM-on-Yelp-Full              NaN   \n",
       "              Avg-BiLSTM-on-Yelp-Full                                  NaN   \n",
       "              Hierarchical-on-Yelp-Full                                NaN   \n",
       "              Inter-Attention-h-query-BiLSTM-on-Yelp-Full              NaN   \n",
       "              Inter-Attention-independent-query-BiLSTM-on-Yel...       NaN   \n",
       "              Transformer-on-Yelp-Full                                 NaN   \n",
       "Yelp-Polarity Hierarchical-on-Yelp-Polarity                       0.995059   \n",
       "              Self-Inter-Attention-BiLSTM-on-Yelp-Polarity        0.994038   \n",
       "              Inter-Attention-independent-query-BiLSTM-on-Yel...  0.994901   \n",
       "              Inter-Attention-h-query-BiLSTM-on-Yelp-Polarity     0.994831   \n",
       "              Inter-Attention-c-query-BiLSTM-on-Yelp-Polarity     0.994387   \n",
       "              Transformer-on-Yelp-Polarity                        0.984157   \n",
       "              Avg-BiLSTM-on-Yelp-Polarity                         0.987627   \n",
       "\n",
       "                                                                        f1  \\\n",
       "dataset       model                                                          \n",
       "Douban        Avg-BiLSTM-on-Douban                                0.839325   \n",
       "              Hierarchical-on-Douban                              0.848342   \n",
       "              Inter-Attention-independent-query-BiLSTM-on-Douban  0.844658   \n",
       "              Inter-Attention-h-query-BiLSTM-on-Douban            0.843121   \n",
       "              Inter-Attention-c-query-BiLSTM-on-Douban            0.841748   \n",
       "              Transformer-on-Douban                               0.805255   \n",
       "              Self-Inter-Attention-BiLSTM-on-Douban               0.843737   \n",
       "IMDB          Inter-Attention-h-query-BiLSTM-on-IMDB              0.921198   \n",
       "              Inter-Attention-c-query-BiLSTM-on-IMDB              0.922378   \n",
       "              Hierarchical-on-IMDB                                0.925184   \n",
       "              Self-Inter-Attention-BiLSTM-on-IMDB                 0.918536   \n",
       "              Inter-Attention-independent-query-BiLSTM-on-IMDB    0.920943   \n",
       "              Avg-BiLSTM-on-IMDB                                  0.919581   \n",
       "              Transformer-on-IMDB                                 0.908733   \n",
       "Yelp-Full     Self-Inter-Attention-BiLSTM-on-Yelp-Full                 NaN   \n",
       "              Inter-Attention-c-query-BiLSTM-on-Yelp-Full              NaN   \n",
       "              Avg-BiLSTM-on-Yelp-Full                                  NaN   \n",
       "              Hierarchical-on-Yelp-Full                                NaN   \n",
       "              Inter-Attention-h-query-BiLSTM-on-Yelp-Full              NaN   \n",
       "              Inter-Attention-independent-query-BiLSTM-on-Yel...       NaN   \n",
       "              Transformer-on-Yelp-Full                                 NaN   \n",
       "Yelp-Polarity Hierarchical-on-Yelp-Polarity                       0.967754   \n",
       "              Self-Inter-Attention-BiLSTM-on-Yelp-Polarity        0.965774   \n",
       "              Inter-Attention-independent-query-BiLSTM-on-Yel...  0.967604   \n",
       "              Inter-Attention-h-query-BiLSTM-on-Yelp-Polarity     0.967056   \n",
       "              Inter-Attention-c-query-BiLSTM-on-Yelp-Polarity     0.964851   \n",
       "              Transformer-on-Yelp-Polarity                        0.935925   \n",
       "              Avg-BiLSTM-on-Yelp-Polarity                         0.966780   \n",
       "\n",
       "                                                                      loss  \\\n",
       "dataset       model                                                          \n",
       "Douban        Avg-BiLSTM-on-Douban                                0.447697   \n",
       "              Hierarchical-on-Douban                              0.355895   \n",
       "              Inter-Attention-independent-query-BiLSTM-on-Douban  0.372822   \n",
       "              Inter-Attention-h-query-BiLSTM-on-Douban            0.369975   \n",
       "              Inter-Attention-c-query-BiLSTM-on-Douban            0.374190   \n",
       "              Transformer-on-Douban                               0.432439   \n",
       "              Self-Inter-Attention-BiLSTM-on-Douban               0.388087   \n",
       "IMDB          Inter-Attention-h-query-BiLSTM-on-IMDB              0.312038   \n",
       "              Inter-Attention-c-query-BiLSTM-on-IMDB              0.214704   \n",
       "              Hierarchical-on-IMDB                                0.199881   \n",
       "              Self-Inter-Attention-BiLSTM-on-IMDB                 0.259638   \n",
       "              Inter-Attention-independent-query-BiLSTM-on-IMDB    0.294275   \n",
       "              Avg-BiLSTM-on-IMDB                                  0.287007   \n",
       "              Transformer-on-IMDB                                 0.242542   \n",
       "Yelp-Full     Self-Inter-Attention-BiLSTM-on-Yelp-Full            0.824653   \n",
       "              Inter-Attention-c-query-BiLSTM-on-Yelp-Full         0.798322   \n",
       "              Avg-BiLSTM-on-Yelp-Full                             1.004622   \n",
       "              Hierarchical-on-Yelp-Full                           0.751090   \n",
       "              Inter-Attention-h-query-BiLSTM-on-Yelp-Full         0.752670   \n",
       "              Inter-Attention-independent-query-BiLSTM-on-Yel...  0.762503   \n",
       "              Transformer-on-Yelp-Full                            0.920770   \n",
       "Yelp-Polarity Hierarchical-on-Yelp-Polarity                       0.089756   \n",
       "              Self-Inter-Attention-BiLSTM-on-Yelp-Polarity        0.121675   \n",
       "              Inter-Attention-independent-query-BiLSTM-on-Yel...  0.095921   \n",
       "              Inter-Attention-h-query-BiLSTM-on-Yelp-Polarity     0.099442   \n",
       "              Inter-Attention-c-query-BiLSTM-on-Yelp-Polarity     0.109183   \n",
       "              Transformer-on-Yelp-Polarity                        0.162424   \n",
       "              Avg-BiLSTM-on-Yelp-Polarity                         0.226632   \n",
       "\n",
       "                                                                  precision  \\\n",
       "dataset       model                                                           \n",
       "Douban        Avg-BiLSTM-on-Douban                                 0.840452   \n",
       "              Hierarchical-on-Douban                               0.830949   \n",
       "              Inter-Attention-independent-query-BiLSTM-on-Douban   0.822125   \n",
       "              Inter-Attention-h-query-BiLSTM-on-Douban             0.837129   \n",
       "              Inter-Attention-c-query-BiLSTM-on-Douban             0.830827   \n",
       "              Transformer-on-Douban                                0.795473   \n",
       "              Self-Inter-Attention-BiLSTM-on-Douban                0.829306   \n",
       "IMDB          Inter-Attention-h-query-BiLSTM-on-IMDB               0.907609   \n",
       "              Inter-Attention-c-query-BiLSTM-on-IMDB               0.911042   \n",
       "              Hierarchical-on-IMDB                                 0.917717   \n",
       "              Self-Inter-Attention-BiLSTM-on-IMDB                  0.928484   \n",
       "              Inter-Attention-independent-query-BiLSTM-on-IMDB     0.912446   \n",
       "              Avg-BiLSTM-on-IMDB                                   0.908629   \n",
       "              Transformer-on-IMDB                                  0.893963   \n",
       "Yelp-Full     Self-Inter-Attention-BiLSTM-on-Yelp-Full                  NaN   \n",
       "              Inter-Attention-c-query-BiLSTM-on-Yelp-Full               NaN   \n",
       "              Avg-BiLSTM-on-Yelp-Full                                   NaN   \n",
       "              Hierarchical-on-Yelp-Full                                 NaN   \n",
       "              Inter-Attention-h-query-BiLSTM-on-Yelp-Full               NaN   \n",
       "              Inter-Attention-independent-query-BiLSTM-on-Yel...        NaN   \n",
       "              Transformer-on-Yelp-Full                                  NaN   \n",
       "Yelp-Polarity Hierarchical-on-Yelp-Polarity                        0.967830   \n",
       "              Self-Inter-Attention-BiLSTM-on-Yelp-Polarity         0.963246   \n",
       "              Inter-Attention-independent-query-BiLSTM-on-Yel...   0.969214   \n",
       "              Inter-Attention-h-query-BiLSTM-on-Yelp-Polarity      0.964650   \n",
       "              Inter-Attention-c-query-BiLSTM-on-Yelp-Polarity      0.956787   \n",
       "              Transformer-on-Yelp-Polarity                         0.929057   \n",
       "              Avg-BiLSTM-on-Yelp-Polarity                          0.964778   \n",
       "\n",
       "                                                                    recall  \n",
       "dataset       model                                                         \n",
       "Douban        Avg-BiLSTM-on-Douban                                0.838200  \n",
       "              Hierarchical-on-Douban                              0.866480  \n",
       "              Inter-Attention-independent-query-BiLSTM-on-Douban  0.868460  \n",
       "              Inter-Attention-h-query-BiLSTM-on-Douban            0.849200  \n",
       "              Inter-Attention-c-query-BiLSTM-on-Douban            0.852960  \n",
       "              Transformer-on-Douban                               0.815280  \n",
       "              Self-Inter-Attention-BiLSTM-on-Douban               0.858680  \n",
       "IMDB          Inter-Attention-h-query-BiLSTM-on-IMDB              0.935200  \n",
       "              Inter-Attention-c-query-BiLSTM-on-IMDB              0.934000  \n",
       "              Hierarchical-on-IMDB                                0.932773  \n",
       "              Self-Inter-Attention-BiLSTM-on-IMDB                 0.908800  \n",
       "              Inter-Attention-independent-query-BiLSTM-on-IMDB    0.929600  \n",
       "              Avg-BiLSTM-on-IMDB                                  0.930800  \n",
       "              Transformer-on-IMDB                                 0.924000  \n",
       "Yelp-Full     Self-Inter-Attention-BiLSTM-on-Yelp-Full                 NaN  \n",
       "              Inter-Attention-c-query-BiLSTM-on-Yelp-Full              NaN  \n",
       "              Avg-BiLSTM-on-Yelp-Full                                  NaN  \n",
       "              Hierarchical-on-Yelp-Full                                NaN  \n",
       "              Inter-Attention-h-query-BiLSTM-on-Yelp-Full              NaN  \n",
       "              Inter-Attention-independent-query-BiLSTM-on-Yel...       NaN  \n",
       "              Transformer-on-Yelp-Full                                 NaN  \n",
       "Yelp-Polarity Hierarchical-on-Yelp-Polarity                       0.967677  \n",
       "              Self-Inter-Attention-BiLSTM-on-Yelp-Polarity        0.968316  \n",
       "              Inter-Attention-independent-query-BiLSTM-on-Yel...  0.966000  \n",
       "              Inter-Attention-h-query-BiLSTM-on-Yelp-Polarity     0.969474  \n",
       "              Inter-Attention-c-query-BiLSTM-on-Yelp-Polarity     0.973053  \n",
       "              Transformer-on-Yelp-Polarity                        0.942895  \n",
       "              Avg-BiLSTM-on-Yelp-Polarity                         0.968789  "
      ]
     },
     "execution_count": 21,
     "metadata": {},
     "output_type": "execute_result"
    }
   ],
   "source": [
    "evaluate_df.sort_values(by='dataset').set_index(['dataset', 'model'])"
   ]
  },
  {
   "cell_type": "code",
   "execution_count": 22,
   "metadata": {
    "ExecuteTime": {
     "end_time": "2019-04-30T11:08:27.519284Z",
     "start_time": "2019-04-30T11:08:27.384066Z"
    }
   },
   "outputs": [],
   "source": [
    "df = evaluate_df.set_index('model')"
   ]
  },
  {
   "cell_type": "code",
   "execution_count": 23,
   "metadata": {
    "ExecuteTime": {
     "end_time": "2019-04-30T11:08:27.955866Z",
     "start_time": "2019-04-30T11:08:27.818953Z"
    }
   },
   "outputs": [],
   "source": [
    "df.index = df.index.str.extract('(.*)-on')[0]"
   ]
  },
  {
   "cell_type": "code",
   "execution_count": 24,
   "metadata": {
    "ExecuteTime": {
     "end_time": "2019-04-30T11:08:29.834473Z",
     "start_time": "2019-04-30T11:08:29.698669Z"
    }
   },
   "outputs": [],
   "source": [
    "douban_accuracy = df[df['dataset']=='Douban']['accuracy']\n",
    "yelp_full_accuracy = df[df['dataset']=='Yelp-Full']['accuracy']\n",
    "yelp_polarity_accuracy = df[df['dataset']=='Yelp-Polarity']['accuracy']\n",
    "imdb_accuracy = df[df['dataset']=='IMDB']['accuracy']"
   ]
  },
  {
   "cell_type": "code",
   "execution_count": 25,
   "metadata": {
    "ExecuteTime": {
     "end_time": "2019-04-30T11:08:30.235556Z",
     "start_time": "2019-04-30T11:08:30.087670Z"
    }
   },
   "outputs": [
    {
     "data": {
      "text/html": [
       "<div>\n",
       "<style scoped>\n",
       "    .dataframe tbody tr th:only-of-type {\n",
       "        vertical-align: middle;\n",
       "    }\n",
       "\n",
       "    .dataframe tbody tr th {\n",
       "        vertical-align: top;\n",
       "    }\n",
       "\n",
       "    .dataframe thead th {\n",
       "        text-align: right;\n",
       "    }\n",
       "</style>\n",
       "<table border=\"1\" class=\"dataframe\">\n",
       "  <thead>\n",
       "    <tr style=\"text-align: right;\">\n",
       "      <th></th>\n",
       "      <th>Douban</th>\n",
       "      <th>Yelp-Full</th>\n",
       "      <th>Yelp-Polarity</th>\n",
       "      <th>IMDB</th>\n",
       "    </tr>\n",
       "  </thead>\n",
       "  <tbody>\n",
       "    <tr>\n",
       "      <th>Avg-BiLSTM</th>\n",
       "      <td>0.83954</td>\n",
       "      <td>0.666760</td>\n",
       "      <td>0.966711</td>\n",
       "      <td>0.918600</td>\n",
       "    </tr>\n",
       "    <tr>\n",
       "      <th>Hierarchical</th>\n",
       "      <td>0.84510</td>\n",
       "      <td>0.673055</td>\n",
       "      <td>0.967750</td>\n",
       "      <td>0.924479</td>\n",
       "    </tr>\n",
       "    <tr>\n",
       "      <th>Inter-Attention-c-query-BiLSTM</th>\n",
       "      <td>0.83964</td>\n",
       "      <td>0.659660</td>\n",
       "      <td>0.964553</td>\n",
       "      <td>0.921400</td>\n",
       "    </tr>\n",
       "    <tr>\n",
       "      <th>Inter-Attention-h-query-BiLSTM</th>\n",
       "      <td>0.84199</td>\n",
       "      <td>0.678240</td>\n",
       "      <td>0.966974</td>\n",
       "      <td>0.920000</td>\n",
       "    </tr>\n",
       "    <tr>\n",
       "      <th>Inter-Attention-independent-query-BiLSTM</th>\n",
       "      <td>0.84028</td>\n",
       "      <td>0.675160</td>\n",
       "      <td>0.967658</td>\n",
       "      <td>0.920200</td>\n",
       "    </tr>\n",
       "    <tr>\n",
       "      <th>Self-Inter-Attention-BiLSTM</th>\n",
       "      <td>0.84097</td>\n",
       "      <td>0.662600</td>\n",
       "      <td>0.965684</td>\n",
       "      <td>0.919400</td>\n",
       "    </tr>\n",
       "    <tr>\n",
       "      <th>Transformer</th>\n",
       "      <td>0.80283</td>\n",
       "      <td>0.600840</td>\n",
       "      <td>0.935447</td>\n",
       "      <td>0.907200</td>\n",
       "    </tr>\n",
       "  </tbody>\n",
       "</table>\n",
       "</div>"
      ],
      "text/plain": [
       "                                           Douban  Yelp-Full  Yelp-Polarity  \\\n",
       "Avg-BiLSTM                                0.83954   0.666760       0.966711   \n",
       "Hierarchical                              0.84510   0.673055       0.967750   \n",
       "Inter-Attention-c-query-BiLSTM            0.83964   0.659660       0.964553   \n",
       "Inter-Attention-h-query-BiLSTM            0.84199   0.678240       0.966974   \n",
       "Inter-Attention-independent-query-BiLSTM  0.84028   0.675160       0.967658   \n",
       "Self-Inter-Attention-BiLSTM               0.84097   0.662600       0.965684   \n",
       "Transformer                               0.80283   0.600840       0.935447   \n",
       "\n",
       "                                              IMDB  \n",
       "Avg-BiLSTM                                0.918600  \n",
       "Hierarchical                              0.924479  \n",
       "Inter-Attention-c-query-BiLSTM            0.921400  \n",
       "Inter-Attention-h-query-BiLSTM            0.920000  \n",
       "Inter-Attention-independent-query-BiLSTM  0.920200  \n",
       "Self-Inter-Attention-BiLSTM               0.919400  \n",
       "Transformer                               0.907200  "
      ]
     },
     "execution_count": 25,
     "metadata": {},
     "output_type": "execute_result"
    }
   ],
   "source": [
    "accuracy_df = pd.concat([douban_accuracy, yelp_full_accuracy, yelp_polarity_accuracy, imdb_accuracy], axis=1)\n",
    "accuracy_df.columns = ['Douban', 'Yelp-Full', 'Yelp-Polarity', 'IMDB']\n",
    "accuracy_df.index.name=None\n",
    "accuracy_df"
   ]
  },
  {
   "cell_type": "code",
   "execution_count": 26,
   "metadata": {
    "ExecuteTime": {
     "end_time": "2019-04-30T11:08:36.802535Z",
     "start_time": "2019-04-30T11:08:36.664165Z"
    }
   },
   "outputs": [],
   "source": [
    "douban_loss= df[df['dataset']=='Douban']['loss']\n",
    "yelp_full_loss = df[df['dataset']=='Yelp-Full']['loss']\n",
    "yelp_polarity_loss = df[df['dataset']=='Yelp-Polarity']['loss']\n",
    "imdb_loss = df[df['dataset']=='IMDB']['loss']"
   ]
  },
  {
   "cell_type": "code",
   "execution_count": 27,
   "metadata": {
    "ExecuteTime": {
     "end_time": "2019-04-30T11:08:37.066491Z",
     "start_time": "2019-04-30T11:08:36.918598Z"
    }
   },
   "outputs": [
    {
     "data": {
      "text/html": [
       "<div>\n",
       "<style scoped>\n",
       "    .dataframe tbody tr th:only-of-type {\n",
       "        vertical-align: middle;\n",
       "    }\n",
       "\n",
       "    .dataframe tbody tr th {\n",
       "        vertical-align: top;\n",
       "    }\n",
       "\n",
       "    .dataframe thead th {\n",
       "        text-align: right;\n",
       "    }\n",
       "</style>\n",
       "<table border=\"1\" class=\"dataframe\">\n",
       "  <thead>\n",
       "    <tr style=\"text-align: right;\">\n",
       "      <th></th>\n",
       "      <th>Douban</th>\n",
       "      <th>Yelp-Full</th>\n",
       "      <th>Yelp-Polarity</th>\n",
       "      <th>IMDB</th>\n",
       "    </tr>\n",
       "  </thead>\n",
       "  <tbody>\n",
       "    <tr>\n",
       "      <th>Avg-BiLSTM</th>\n",
       "      <td>0.447697</td>\n",
       "      <td>1.004622</td>\n",
       "      <td>0.226632</td>\n",
       "      <td>0.287007</td>\n",
       "    </tr>\n",
       "    <tr>\n",
       "      <th>Hierarchical</th>\n",
       "      <td>0.355895</td>\n",
       "      <td>0.751090</td>\n",
       "      <td>0.089756</td>\n",
       "      <td>0.199881</td>\n",
       "    </tr>\n",
       "    <tr>\n",
       "      <th>Inter-Attention-c-query-BiLSTM</th>\n",
       "      <td>0.374190</td>\n",
       "      <td>0.798322</td>\n",
       "      <td>0.109183</td>\n",
       "      <td>0.214704</td>\n",
       "    </tr>\n",
       "    <tr>\n",
       "      <th>Inter-Attention-h-query-BiLSTM</th>\n",
       "      <td>0.369975</td>\n",
       "      <td>0.752670</td>\n",
       "      <td>0.099442</td>\n",
       "      <td>0.312038</td>\n",
       "    </tr>\n",
       "    <tr>\n",
       "      <th>Inter-Attention-independent-query-BiLSTM</th>\n",
       "      <td>0.372822</td>\n",
       "      <td>0.762503</td>\n",
       "      <td>0.095921</td>\n",
       "      <td>0.294275</td>\n",
       "    </tr>\n",
       "    <tr>\n",
       "      <th>Self-Inter-Attention-BiLSTM</th>\n",
       "      <td>0.388087</td>\n",
       "      <td>0.824653</td>\n",
       "      <td>0.121675</td>\n",
       "      <td>0.259638</td>\n",
       "    </tr>\n",
       "    <tr>\n",
       "      <th>Transformer</th>\n",
       "      <td>0.432439</td>\n",
       "      <td>0.920770</td>\n",
       "      <td>0.162424</td>\n",
       "      <td>0.242542</td>\n",
       "    </tr>\n",
       "  </tbody>\n",
       "</table>\n",
       "</div>"
      ],
      "text/plain": [
       "                                            Douban  Yelp-Full  Yelp-Polarity  \\\n",
       "Avg-BiLSTM                                0.447697   1.004622       0.226632   \n",
       "Hierarchical                              0.355895   0.751090       0.089756   \n",
       "Inter-Attention-c-query-BiLSTM            0.374190   0.798322       0.109183   \n",
       "Inter-Attention-h-query-BiLSTM            0.369975   0.752670       0.099442   \n",
       "Inter-Attention-independent-query-BiLSTM  0.372822   0.762503       0.095921   \n",
       "Self-Inter-Attention-BiLSTM               0.388087   0.824653       0.121675   \n",
       "Transformer                               0.432439   0.920770       0.162424   \n",
       "\n",
       "                                              IMDB  \n",
       "Avg-BiLSTM                                0.287007  \n",
       "Hierarchical                              0.199881  \n",
       "Inter-Attention-c-query-BiLSTM            0.214704  \n",
       "Inter-Attention-h-query-BiLSTM            0.312038  \n",
       "Inter-Attention-independent-query-BiLSTM  0.294275  \n",
       "Self-Inter-Attention-BiLSTM               0.259638  \n",
       "Transformer                               0.242542  "
      ]
     },
     "execution_count": 27,
     "metadata": {},
     "output_type": "execute_result"
    }
   ],
   "source": [
    "loss_df = pd.concat([douban_loss, yelp_full_loss, yelp_polarity_loss, imdb_loss], axis=1)\n",
    "loss_df.columns = ['Douban', 'Yelp-Full', 'Yelp-Polarity', 'IMDB']\n",
    "loss_df.index.name=None\n",
    "loss_df"
   ]
  },
  {
   "cell_type": "markdown",
   "metadata": {},
   "source": [
    "# ROC Curve"
   ]
  },
  {
   "cell_type": "code",
   "execution_count": 71,
   "metadata": {
    "ExecuteTime": {
     "end_time": "2019-03-31T09:05:16.832613Z",
     "start_time": "2019-03-31T09:05:16.420516Z"
    }
   },
   "outputs": [
    {
     "data": {
      "text/plain": [
       "<matplotlib.legend.Legend at 0x2ca3d7bf400>"
      ]
     },
     "execution_count": 71,
     "metadata": {},
     "output_type": "execute_result"
    },
    {
     "data": {
      "image/png": "[encoded data removed]",
      "text/plain": [
       "<Figure size 432x288 with 1 Axes>"
      ]
     },
     "metadata": {
      "needs_background": "light"
     },
     "output_type": "display_data"
    }
   ],
   "source": [
    "from sklearn.metrics import roc_curve, roc_auc_score\n",
    "fpr, tpr, thresholds = roc_curve(y_true, y_pred)\n",
    "score = roc_auc_score(y_true, y_pred)\n",
    "\n",
    "plt.plot(fpr, tpr, label=\"ROC Curve\")\n",
    "plt.xlabel(\"FPR\")\n",
    "plt.ylabel(\"TPR (recall)\")\n",
    "plt.title('ROC Curve (AUC = {:.4f})'.format(score))\n",
    "plt.legend(loc=4)\n",
    "#plt.savefig('t.png')"
   ]
  },
  {
   "cell_type": "markdown",
   "metadata": {
    "ExecuteTime": {
     "end_time": "2019-03-31T09:03:44.067843Z",
     "start_time": "2019-03-31T09:03:43.928473Z"
    }
   },
   "source": [
    "## Confusion Matrix for Multiclass Classification (Yelp Full Dataset)"
   ]
  },
  {
   "cell_type": "code",
   "execution_count": null,
   "metadata": {},
   "outputs": [],
   "source": [
    "from sklearn.metrics import confusion_matrix\n",
    "confusion = confusion_matrix(y_true, y_pred>0)\n",
    "print(\"Confusion matrix:\\n{}\".format(confusion))"
   ]
  },
  {
   "cell_type": "markdown",
   "metadata": {},
   "source": [
    "## Plot train & validation loss and accuracy"
   ]
  },
  {
   "cell_type": "code",
   "execution_count": null,
   "metadata": {},
   "outputs": [],
   "source": []
  }
 ],
 "metadata": {
  "kernelspec": {
   "display_name": "Python 3",
   "language": "python",
   "name": "python3"
  },
  "language_info": {
   "codemirror_mode": {
    "name": "ipython",
    "version": 3
   },
   "file_extension": ".py",
   "mimetype": "text/x-python",
   "name": "python",
   "nbconvert_exporter": "python",
   "pygments_lexer": "ipython3",
   "version": "3.6.1"
  }
 },
 "nbformat": 4,
 "nbformat_minor": 2
}
