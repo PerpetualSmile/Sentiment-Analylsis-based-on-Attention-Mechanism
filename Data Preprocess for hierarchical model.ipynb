{
 "cells": [
  {
   "cell_type": "markdown",
   "metadata": {},
   "source": [
    "# Prepare Data for Training & Validating & Testing\n",
    "# Hierarchical model"
   ]
  },
  {
   "cell_type": "markdown",
   "metadata": {},
   "source": [
    "## Dataset\n",
    "- [**IMDB Large Movie Review Dataset**](http://ai.stanford.edu/~amaas/data/sentiment/)\n",
    "    - Binary sentiment classification\n",
    "    - Citation: [Andrew L. Maas et al., 2011](http://ai.stanford.edu/~amaas/papers/wvSent_acl2011.pdf)\n",
    "    - 50,000 movie reviews for training and testing\n",
    "    - Average review length: 231 vocab\n",
    "    ---\n",
    "- [**Yelp reviews-full**](http://xzh.me/docs/charconvnet.pdf)\n",
    "    - Multiclass sentiment classification (5 stars)\n",
    "    - Citation: [Xiang Zhang et al., 2015](https://arxiv.org/abs/1509.01626)\n",
    "    - 650,000 training samples and 50,000 testing samples (Nums of each star are equal)\n",
    "    - Average review length: 140 vocab\n",
    "    ---\n",
    "- [**Yelp reviews-polarity**](http://xzh.me/docs/charconvnet.pdf)\n",
    "    - Binary sentiment classification\n",
    "    - Citation: [Xiang Zhang et al., 2015](https://arxiv.org/abs/1509.01626)\n",
    "    - 560,000 training samples and 38,000 testing samples (Nums of positive or negative samples are equal)\n",
    "    - Average review length: 140 vocab\n",
    "    ---\n",
    "- [**Douban Movie Reviews**](https://drive.google.com/open?id=1DsmQfB1Ff_BUoxOv4kfUMg7Y8M7tHB9F) \n",
    "    - My Custom Chinese movie reviews dataset scraped by python extension package requests\n",
    "    - Binary sentiment classification\n",
    "    - 750,000 movie reviews from [Douban](https://movie.douban.com/), 650,000 samples for training and 100,000 samples for testing (Num of positive or negative samples is equal)\n",
    "    - Average review length: 52 character, 28 vocab"
   ]
  },
  {
   "cell_type": "code",
   "execution_count": 2,
   "metadata": {
    "ExecuteTime": {
     "end_time": "2019-04-01T13:58:11.001118Z",
     "start_time": "2019-04-01T13:58:10.855162Z"
    }
   },
   "outputs": [
    {
     "name": "stdout",
     "output_type": "stream",
     "text": [
      "The autoreload extension is already loaded. To reload it, use:\n",
      "  %reload_ext autoreload\n"
     ]
    }
   ],
   "source": [
    "import numpy as np\n",
    "import pandas as pd\n",
    "from sklearn.model_selection import train_test_split\n",
    "import matplotlib.pyplot as plt\n",
    "import warnings\n",
    "import re\n",
    "from functools import partial\n",
    "warnings.filterwarnings('ignore')\n",
    "\n",
    "from utils import process, process_zh\n",
    "%matplotlib inline\n",
    "%load_ext autoreload\n",
    "%autoreload 2"
   ]
  },
  {
   "cell_type": "markdown",
   "metadata": {},
   "source": [
    "## IMDB"
   ]
  },
  {
   "cell_type": "code",
   "execution_count": 2,
   "metadata": {
    "ExecuteTime": {
     "end_time": "2019-03-31T11:37:53.984778Z",
     "start_time": "2019-03-31T11:37:51.164267Z"
    }
   },
   "outputs": [],
   "source": [
    "df = pd.read_csv('dataset/IMDB/imdb_master.csv', encoding='latin-1')"
   ]
  },
  {
   "cell_type": "code",
   "execution_count": 3,
   "metadata": {
    "ExecuteTime": {
     "end_time": "2019-03-31T11:37:54.228449Z",
     "start_time": "2019-03-31T11:37:53.986756Z"
    }
   },
   "outputs": [
    {
     "data": {
      "text/html": [
       "<div>\n",
       "<style scoped>\n",
       "    .dataframe tbody tr th:only-of-type {\n",
       "        vertical-align: middle;\n",
       "    }\n",
       "\n",
       "    .dataframe tbody tr th {\n",
       "        vertical-align: top;\n",
       "    }\n",
       "\n",
       "    .dataframe thead th {\n",
       "        text-align: right;\n",
       "    }\n",
       "</style>\n",
       "<table border=\"1\" class=\"dataframe\">\n",
       "  <thead>\n",
       "    <tr style=\"text-align: right;\">\n",
       "      <th></th>\n",
       "      <th>Unnamed: 0</th>\n",
       "      <th>type</th>\n",
       "      <th>review</th>\n",
       "      <th>label</th>\n",
       "      <th>file</th>\n",
       "    </tr>\n",
       "  </thead>\n",
       "  <tbody>\n",
       "    <tr>\n",
       "      <th>0</th>\n",
       "      <td>0</td>\n",
       "      <td>test</td>\n",
       "      <td>Once again Mr. Costner has dragged out a movie...</td>\n",
       "      <td>0</td>\n",
       "      <td>0_2.txt</td>\n",
       "    </tr>\n",
       "    <tr>\n",
       "      <th>1</th>\n",
       "      <td>1</td>\n",
       "      <td>test</td>\n",
       "      <td>This is an example of why the majority of acti...</td>\n",
       "      <td>0</td>\n",
       "      <td>10000_4.txt</td>\n",
       "    </tr>\n",
       "    <tr>\n",
       "      <th>2</th>\n",
       "      <td>2</td>\n",
       "      <td>test</td>\n",
       "      <td>First of all I hate those moronic rappers, who...</td>\n",
       "      <td>0</td>\n",
       "      <td>10001_1.txt</td>\n",
       "    </tr>\n",
       "    <tr>\n",
       "      <th>3</th>\n",
       "      <td>3</td>\n",
       "      <td>test</td>\n",
       "      <td>Not even the Beatles could write songs everyon...</td>\n",
       "      <td>0</td>\n",
       "      <td>10002_3.txt</td>\n",
       "    </tr>\n",
       "    <tr>\n",
       "      <th>4</th>\n",
       "      <td>4</td>\n",
       "      <td>test</td>\n",
       "      <td>Brass pictures (movies is not a fitting word f...</td>\n",
       "      <td>0</td>\n",
       "      <td>10003_3.txt</td>\n",
       "    </tr>\n",
       "  </tbody>\n",
       "</table>\n",
       "</div>"
      ],
      "text/plain": [
       "   Unnamed: 0  type                                             review  label  \\\n",
       "0           0  test  Once again Mr. Costner has dragged out a movie...      0   \n",
       "1           1  test  This is an example of why the majority of acti...      0   \n",
       "2           2  test  First of all I hate those moronic rappers, who...      0   \n",
       "3           3  test  Not even the Beatles could write songs everyon...      0   \n",
       "4           4  test  Brass pictures (movies is not a fitting word f...      0   \n",
       "\n",
       "          file  \n",
       "0      0_2.txt  \n",
       "1  10000_4.txt  \n",
       "2  10001_1.txt  \n",
       "3  10002_3.txt  \n",
       "4  10003_3.txt  "
      ]
     },
     "execution_count": 3,
     "metadata": {},
     "output_type": "execute_result"
    }
   ],
   "source": [
    "df = df[df['label'] != 'unsup']\n",
    "df['label'] = df['label'].map({'neg':0, 'pos':1})\n",
    "df.head()"
   ]
  },
  {
   "cell_type": "code",
   "execution_count": 4,
   "metadata": {
    "ExecuteTime": {
     "end_time": "2019-03-31T11:40:55.784383Z",
     "start_time": "2019-03-31T11:37:54.232430Z"
    }
   },
   "outputs": [],
   "source": [
    "df['Processed_Reviews'] = df['review'].apply(process)"
   ]
  },
  {
   "cell_type": "code",
   "execution_count": 5,
   "metadata": {
    "ExecuteTime": {
     "end_time": "2019-03-31T11:40:56.063125Z",
     "start_time": "2019-03-31T11:40:55.790399Z"
    }
   },
   "outputs": [],
   "source": [
    "df_train, df_test = train_test_split(df, test_size=0.1, random_state=0, stratify=df.label)"
   ]
  },
  {
   "cell_type": "code",
   "execution_count": 6,
   "metadata": {
    "ExecuteTime": {
     "end_time": "2019-03-31T11:40:56.234581Z",
     "start_time": "2019-03-31T11:40:56.065130Z"
    }
   },
   "outputs": [],
   "source": [
    "df_train, df_validate = train_test_split(df_train, test_size=5000, random_state=0, stratify=df_train.label)"
   ]
  },
  {
   "cell_type": "code",
   "execution_count": 7,
   "metadata": {
    "ExecuteTime": {
     "end_time": "2019-03-31T11:40:56.403029Z",
     "start_time": "2019-03-31T11:40:56.236586Z"
    }
   },
   "outputs": [
    {
     "name": "stdout",
     "output_type": "stream",
     "text": [
      "Train set size:  40000\n",
      "Validation set size:  5000\n",
      "Test set size:  5000\n"
     ]
    }
   ],
   "source": [
    "print(\"Train set size: \", len(df_train))\n",
    "print(\"Validation set size: \", len(df_validate))\n",
    "print(\"Test set size: \", len(df_test))"
   ]
  },
  {
   "cell_type": "code",
   "execution_count": 8,
   "metadata": {
    "ExecuteTime": {
     "end_time": "2019-03-31T11:40:56.787052Z",
     "start_time": "2019-03-31T11:40:56.406037Z"
    }
   },
   "outputs": [],
   "source": [
    "num_words = []\n",
    "def count(x):\n",
    "    for sen in x:\n",
    "        num_words.append(len(sen))\n",
    "num_sens = df_train.Processed_Reviews.apply(len)\n",
    "_ = df_train.Processed_Reviews.apply(count)"
   ]
  },
  {
   "cell_type": "code",
   "execution_count": 9,
   "metadata": {
    "ExecuteTime": {
     "end_time": "2019-03-31T11:40:57.430764Z",
     "start_time": "2019-03-31T11:40:56.790059Z"
    }
   },
   "outputs": [
    {
     "data": {
      "text/plain": [
       "Text(0, 0.5, 'Counts')"
      ]
     },
     "execution_count": 9,
     "metadata": {},
     "output_type": "execute_result"
    },
    {
     "data": {
      "image/png": "[encoded data removed]",
      "text/plain": [
       "<Figure size 432x288 with 1 Axes>"
      ]
     },
     "metadata": {
      "needs_background": "light"
     },
     "output_type": "display_data"
    }
   ],
   "source": [
    "plt.figure()\n",
    "_ = plt.hist(num_sens, bins = 50)\n",
    "plt.title('Distribution of num of sentence in one review')\n",
    "plt.xlabel('num')\n",
    "plt.ylabel('Counts')"
   ]
  },
  {
   "cell_type": "code",
   "execution_count": 10,
   "metadata": {
    "ExecuteTime": {
     "end_time": "2019-03-31T11:40:58.106565Z",
     "start_time": "2019-03-31T11:40:57.432770Z"
    }
   },
   "outputs": [
    {
     "data": {
      "text/plain": [
       "Text(0, 0.5, 'Counts')"
      ]
     },
     "execution_count": 10,
     "metadata": {},
     "output_type": "execute_result"
    },
    {
     "data": {
      "image/png": "[encoded data removed]",
      "text/plain": [
       "<Figure size 432x288 with 1 Axes>"
      ]
     },
     "metadata": {
      "needs_background": "light"
     },
     "output_type": "display_data"
    }
   ],
   "source": [
    "plt.figure()\n",
    "_ = plt.hist(num_words, bins = 50)\n",
    "plt.title('Distribution of num of words in one sentence')\n",
    "plt.xlabel('num')\n",
    "plt.ylabel('Counts')"
   ]
  },
  {
   "cell_type": "code",
   "execution_count": 11,
   "metadata": {
    "ExecuteTime": {
     "end_time": "2019-03-31T11:40:58.256964Z",
     "start_time": "2019-03-31T11:40:58.108570Z"
    }
   },
   "outputs": [],
   "source": [
    "word_count = {}\n",
    "def count_words(x):\n",
    "    for sen in x:\n",
    "        for word in sen:\n",
    "            word_count[word] = word_count.get(word, 0) + 1"
   ]
  },
  {
   "cell_type": "code",
   "execution_count": 12,
   "metadata": {
    "ExecuteTime": {
     "end_time": "2019-03-31T11:41:02.966499Z",
     "start_time": "2019-03-31T11:40:58.258969Z"
    }
   },
   "outputs": [],
   "source": [
    "_ = df_train.Processed_Reviews.apply(count_words)"
   ]
  },
  {
   "cell_type": "code",
   "execution_count": 13,
   "metadata": {
    "ExecuteTime": {
     "end_time": "2019-03-31T11:41:03.215379Z",
     "start_time": "2019-03-31T11:41:02.968505Z"
    }
   },
   "outputs": [],
   "source": [
    "df_word_count = pd.DataFrame(list(word_count.items()), columns=['word', 'count'])\n",
    "df_word_count.sort_values(by='count', ascending=False, inplace=True)\n",
    "df_word_count.set_index('word', inplace=True)"
   ]
  },
  {
   "cell_type": "code",
   "execution_count": 14,
   "metadata": {
    "ExecuteTime": {
     "end_time": "2019-03-31T11:41:03.351709Z",
     "start_time": "2019-03-31T11:41:03.218354Z"
    }
   },
   "outputs": [],
   "source": [
    "vocab_size = 20000\n",
    "df_word_count = df_word_count[:vocab_size-10]"
   ]
  },
  {
   "cell_type": "code",
   "execution_count": 15,
   "metadata": {
    "ExecuteTime": {
     "end_time": "2019-03-31T11:41:03.505152Z",
     "start_time": "2019-03-31T11:41:03.353715Z"
    }
   },
   "outputs": [],
   "source": [
    "word2num_series = df_word_count.reset_index().reset_index().set_index('word')['index'] + 10 # reverse 10 pos for padding, [UNK], [CLS]..."
   ]
  },
  {
   "cell_type": "code",
   "execution_count": 16,
   "metadata": {
    "ExecuteTime": {
     "end_time": "2019-03-31T11:41:03.632456Z",
     "start_time": "2019-03-31T11:41:03.507122Z"
    }
   },
   "outputs": [],
   "source": [
    "def word_to_num(x):\n",
    "    res = []\n",
    "    for sen in x:\n",
    "        sen_words = []\n",
    "        for word in sen:\n",
    "            if word in word2num_series:\n",
    "                sen_words.append(word2num_series[word])\n",
    "        if len(sen_words) > 0:\n",
    "            res.append(np.array(sen_words, dtype=np.uint16))\n",
    "    return np.array(res)"
   ]
  },
  {
   "cell_type": "code",
   "execution_count": 17,
   "metadata": {
    "ExecuteTime": {
     "end_time": "2019-03-31T11:41:03.758794Z",
     "start_time": "2019-03-31T11:41:03.634469Z"
    }
   },
   "outputs": [],
   "source": [
    "def create_data(df):\n",
    "    X = df.Processed_Reviews.apply(word_to_num)\n",
    "    y = df.label\n",
    "    return X, y"
   ]
  },
  {
   "cell_type": "code",
   "execution_count": 18,
   "metadata": {
    "ExecuteTime": {
     "end_time": "2019-03-31T11:43:39.501887Z",
     "start_time": "2019-03-31T11:41:03.769821Z"
    }
   },
   "outputs": [],
   "source": [
    "X_train, y_train = create_data(df_train)"
   ]
  },
  {
   "cell_type": "code",
   "execution_count": null,
   "metadata": {
    "ExecuteTime": {
     "start_time": "2019-03-31T11:37:50.809Z"
    }
   },
   "outputs": [],
   "source": [
    "X_val, y_val = create_data(df_validate)"
   ]
  },
  {
   "cell_type": "code",
   "execution_count": null,
   "metadata": {
    "ExecuteTime": {
     "start_time": "2019-03-31T11:37:50.993Z"
    }
   },
   "outputs": [],
   "source": [
    "X_test, y_test = create_data(df_test)"
   ]
  },
  {
   "cell_type": "code",
   "execution_count": null,
   "metadata": {
    "ExecuteTime": {
     "start_time": "2019-03-31T11:37:51.148Z"
    }
   },
   "outputs": [],
   "source": [
    "X_train.to_hdf('dataset/IMDB/X_train.h5', key='s', model='w')\n",
    "y_train.to_hdf('dataset/IMDB/y_train.h5', key='s', model='w')\n",
    "\n",
    "X_val.to_hdf('dataset/IMDB/X_val.h5', key='s', model='w')\n",
    "y_val.to_hdf('dataset/IMDB/y_val.h5', key='s', model='w')\n",
    "\n",
    "X_test.to_hdf('dataset/IMDB/X_test.h5', key='s', model='w')\n",
    "y_test.to_hdf('dataset/IMDB/y_test.h5', key='s', model='w')\n",
    "word2num_series.to_hdf('dataset/IMDB/word2num_series.h5', key='s', model='w')"
   ]
  },
  {
   "cell_type": "markdown",
   "metadata": {},
   "source": [
    "## Yelp Polarity"
   ]
  },
  {
   "cell_type": "code",
   "execution_count": null,
   "metadata": {
    "ExecuteTime": {
     "start_time": "2019-03-31T11:37:51.464Z"
    }
   },
   "outputs": [],
   "source": [
    "df = pd.read_csv('dataset/yelp_review_polarity_csv/train.csv', header=None)\n",
    "df_test = pd.read_csv('dataset/yelp_review_polarity_csv/test.csv', header=None)\n",
    "df.columns = ['label', 'review']\n",
    "df['label'] = df['label'].map({1:0, 2:1})\n",
    "df_test.columns = ['label', 'review']\n",
    "df_test['label'] = df_test['label'].map({1:0, 2:1})"
   ]
  },
  {
   "cell_type": "code",
   "execution_count": null,
   "metadata": {
    "ExecuteTime": {
     "start_time": "2019-03-31T11:37:51.636Z"
    }
   },
   "outputs": [],
   "source": [
    "df['Processed_Reviews'] = df['review'].apply(process)"
   ]
  },
  {
   "cell_type": "code",
   "execution_count": null,
   "metadata": {
    "ExecuteTime": {
     "start_time": "2019-03-31T11:37:51.793Z"
    }
   },
   "outputs": [],
   "source": [
    "df_test['Processed_Reviews'] = df_test['review'].apply(process)"
   ]
  },
  {
   "cell_type": "code",
   "execution_count": null,
   "metadata": {
    "ExecuteTime": {
     "start_time": "2019-03-31T11:37:51.963Z"
    }
   },
   "outputs": [],
   "source": [
    "df_train, df_validate = train_test_split(df, test_size=50000, random_state=0, stratify=df.label)"
   ]
  },
  {
   "cell_type": "code",
   "execution_count": null,
   "metadata": {
    "ExecuteTime": {
     "start_time": "2019-03-31T11:37:52.122Z"
    }
   },
   "outputs": [
    {
     "name": "stdout",
     "output_type": "stream",
     "text": [
      "Train set size:  510000\n",
      "Validation set size:  50000\n",
      "Test set size:  38000\n"
     ]
    }
   ],
   "source": [
    "print(\"Train set size: \", len(df_train))\n",
    "print(\"Validation set size: \", len(df_validate))\n",
    "print(\"Test set size: \", len(df_test))"
   ]
  },
  {
   "cell_type": "code",
   "execution_count": null,
   "metadata": {
    "ExecuteTime": {
     "start_time": "2019-03-31T11:37:52.276Z"
    }
   },
   "outputs": [],
   "source": [
    "num_words = []\n",
    "def count(x):\n",
    "    for sen in x:\n",
    "        num_words.append(len(sen))\n",
    "num_sens = df_train.Processed_Reviews.apply(len)\n",
    "_ = df_train.Processed_Reviews.apply(count)"
   ]
  },
  {
   "cell_type": "code",
   "execution_count": null,
   "metadata": {
    "ExecuteTime": {
     "start_time": "2019-03-31T11:37:52.444Z"
    }
   },
   "outputs": [
    {
     "data": {
      "text/plain": [
       "Text(0, 0.5, 'Counts')"
      ]
     },
     "execution_count": 28,
     "metadata": {},
     "output_type": "execute_result"
    },
    {
     "data": {
      "image/png": "[encoded data removed]",
      "text/plain": [
       "<Figure size 432x288 with 1 Axes>"
      ]
     },
     "metadata": {
      "needs_background": "light"
     },
     "output_type": "display_data"
    }
   ],
   "source": [
    "plt.figure()\n",
    "_ = plt.hist(num_sens, bins = 50)\n",
    "plt.title('Distribution of num of sentence in one review')\n",
    "plt.xlabel('num')\n",
    "plt.ylabel('Counts')"
   ]
  },
  {
   "cell_type": "code",
   "execution_count": null,
   "metadata": {
    "ExecuteTime": {
     "start_time": "2019-03-31T11:37:52.608Z"
    }
   },
   "outputs": [
    {
     "data": {
      "text/plain": [
       "Text(0, 0.5, 'Counts')"
      ]
     },
     "execution_count": 29,
     "metadata": {},
     "output_type": "execute_result"
    },
    {
     "data": {
      "image/png": "[encoded data removed]",
      "text/plain": [
       "<Figure size 432x288 with 1 Axes>"
      ]
     },
     "metadata": {
      "needs_background": "light"
     },
     "output_type": "display_data"
    }
   ],
   "source": [
    "plt.figure()\n",
    "_ = plt.hist(num_words, bins = 100)\n",
    "plt.title('Distribution of num of words in one sentence')\n",
    "plt.xlabel('num')\n",
    "plt.ylabel('Counts')"
   ]
  },
  {
   "cell_type": "code",
   "execution_count": null,
   "metadata": {
    "ExecuteTime": {
     "start_time": "2019-03-31T11:37:52.778Z"
    }
   },
   "outputs": [],
   "source": [
    "word_count = {}\n",
    "def count_words(x):\n",
    "    for sen in x:\n",
    "        for word in sen:\n",
    "            word_count[word] = word_count.get(word, 0) + 1"
   ]
  },
  {
   "cell_type": "code",
   "execution_count": null,
   "metadata": {
    "ExecuteTime": {
     "start_time": "2019-03-31T11:37:52.944Z"
    }
   },
   "outputs": [],
   "source": [
    "_ = df_train.Processed_Reviews.apply(count_words)"
   ]
  },
  {
   "cell_type": "code",
   "execution_count": null,
   "metadata": {
    "ExecuteTime": {
     "start_time": "2019-03-31T11:37:53.113Z"
    }
   },
   "outputs": [],
   "source": [
    "df_word_count = pd.DataFrame(list(word_count.items()), columns=['word', 'count'])\n",
    "df_word_count.sort_values(by='count', ascending=False, inplace=True)\n",
    "df_word_count.set_index('word', inplace=True)"
   ]
  },
  {
   "cell_type": "code",
   "execution_count": null,
   "metadata": {
    "ExecuteTime": {
     "start_time": "2019-03-31T11:37:53.284Z"
    }
   },
   "outputs": [],
   "source": [
    "vocab_size = 40000\n",
    "df_word_count = df_word_count[:vocab_size-10]"
   ]
  },
  {
   "cell_type": "code",
   "execution_count": null,
   "metadata": {
    "ExecuteTime": {
     "start_time": "2019-03-31T11:37:53.447Z"
    }
   },
   "outputs": [],
   "source": [
    "word2num_series = df_word_count.reset_index().reset_index().set_index('word')['index'] + 10 # reverse 10 pos for padding, [UNK], [CLS]..."
   ]
  },
  {
   "cell_type": "code",
   "execution_count": null,
   "metadata": {
    "ExecuteTime": {
     "start_time": "2019-03-31T11:37:53.611Z"
    }
   },
   "outputs": [],
   "source": [
    "def word_to_num(x):\n",
    "    res = []\n",
    "    for sen in x:\n",
    "        sen_words = []\n",
    "        for word in sen:\n",
    "            if word in word2num_series:\n",
    "                sen_words.append(word2num_series[word])\n",
    "        if len(sen_words) > 0:\n",
    "            res.append(np.array(sen_words, dtype=np.uint16))\n",
    "    return np.array(res)"
   ]
  },
  {
   "cell_type": "code",
   "execution_count": null,
   "metadata": {
    "ExecuteTime": {
     "start_time": "2019-03-31T11:37:53.788Z"
    }
   },
   "outputs": [],
   "source": [
    "def create_data(df):\n",
    "    X = df.Processed_Reviews.apply(word_to_num)\n",
    "    y = df.label\n",
    "    return X, y"
   ]
  },
  {
   "cell_type": "code",
   "execution_count": null,
   "metadata": {
    "ExecuteTime": {
     "start_time": "2019-03-31T11:37:53.942Z"
    }
   },
   "outputs": [],
   "source": [
    "X_train, y_train = create_data(df_train)\n",
    "X_val, y_val = create_data(df_validate)\n",
    "X_test, y_test = create_data(df_test)"
   ]
  },
  {
   "cell_type": "code",
   "execution_count": null,
   "metadata": {
    "ExecuteTime": {
     "start_time": "2019-03-31T11:37:54.106Z"
    }
   },
   "outputs": [],
   "source": [
    "data_pth = 'dataset/yelp_review_polarity_csv/'\n",
    "X_train.to_hdf(data_pth + 'X_train.h5', key='s', model='w')\n",
    "y_train.to_hdf(data_pth + 'y_train.h5', key='s', model='w')\n",
    "\n",
    "X_val.to_hdf(data_pth + 'X_val.h5', key='s', model='w')\n",
    "y_val.to_hdf(data_pth + 'y_val.h5', key='s', model='w')\n",
    "\n",
    "X_test.to_hdf(data_pth + 'X_test.h5', key='s', model='w')\n",
    "y_test.to_hdf(data_pth + 'y_test.h5', key='s', model='w')\n",
    "word2num_series.to_hdf(data_pth + 'word2num_series.h5', key='s', model='w')"
   ]
  },
  {
   "cell_type": "markdown",
   "metadata": {},
   "source": [
    "## Yelp Full"
   ]
  },
  {
   "cell_type": "code",
   "execution_count": null,
   "metadata": {
    "ExecuteTime": {
     "start_time": "2019-03-31T11:37:54.446Z"
    }
   },
   "outputs": [],
   "source": [
    "data_pth = 'dataset/yelp_review_full_csv/'"
   ]
  },
  {
   "cell_type": "code",
   "execution_count": null,
   "metadata": {
    "ExecuteTime": {
     "start_time": "2019-03-31T11:37:54.612Z"
    }
   },
   "outputs": [],
   "source": [
    "df = pd.read_csv(data_pth + 'train.csv', header=None)\n",
    "df_test = pd.read_csv(data_pth + 'test.csv', header=None)\n",
    "df.columns = ['label', 'review']\n",
    "df_test.columns = ['label', 'review']"
   ]
  },
  {
   "cell_type": "code",
   "execution_count": null,
   "metadata": {
    "ExecuteTime": {
     "start_time": "2019-03-31T11:37:54.783Z"
    }
   },
   "outputs": [
    {
     "name": "stdout",
     "output_type": "stream",
     "text": [
      "Train set size:  600000\n",
      "Validation set size:  50000\n",
      "Test set size:  50000\n"
     ]
    }
   ],
   "source": [
    "df['Processed_Reviews'] = df['review'].apply(process)\n",
    "df_test['Processed_Reviews'] = df_test['review'].apply(process)\n",
    "df_train, df_validate = train_test_split(df, test_size=50000, random_state=0, stratify=df.label)\n",
    "print(\"Train set size: \", len(df_train))\n",
    "print(\"Validation set size: \", len(df_validate))\n",
    "print(\"Test set size: \", len(df_test))"
   ]
  },
  {
   "cell_type": "code",
   "execution_count": null,
   "metadata": {
    "ExecuteTime": {
     "start_time": "2019-03-31T11:37:54.952Z"
    }
   },
   "outputs": [],
   "source": [
    "num_words = []\n",
    "def count(x):\n",
    "    for sen in x:\n",
    "        num_words.append(len(sen))\n",
    "num_sens = df_train.Processed_Reviews.apply(len)\n",
    "_ = df_train.Processed_Reviews.apply(count)"
   ]
  },
  {
   "cell_type": "code",
   "execution_count": null,
   "metadata": {
    "ExecuteTime": {
     "start_time": "2019-03-31T11:37:55.115Z"
    }
   },
   "outputs": [
    {
     "data": {
      "text/plain": [
       "Text(0, 0.5, 'Counts')"
      ]
     },
     "execution_count": 43,
     "metadata": {},
     "output_type": "execute_result"
    },
    {
     "data": {
      "image/png": "[encoded data removed]",
      "text/plain": [
       "<Figure size 432x288 with 1 Axes>"
      ]
     },
     "metadata": {
      "needs_background": "light"
     },
     "output_type": "display_data"
    }
   ],
   "source": [
    "plt.figure()\n",
    "_ = plt.hist(num_sens, bins = 50)\n",
    "plt.title('Distribution of num of sentence in one review')\n",
    "plt.xlabel('num')\n",
    "plt.ylabel('Counts')"
   ]
  },
  {
   "cell_type": "code",
   "execution_count": null,
   "metadata": {
    "ExecuteTime": {
     "start_time": "2019-03-31T11:37:55.279Z"
    }
   },
   "outputs": [
    {
     "data": {
      "text/plain": [
       "Text(0, 0.5, 'Counts')"
      ]
     },
     "execution_count": 44,
     "metadata": {},
     "output_type": "execute_result"
    },
    {
     "data": {
      "image/png": "[encoded data removed]",
      "text/plain": [
       "<Figure size 432x288 with 1 Axes>"
      ]
     },
     "metadata": {
      "needs_background": "light"
     },
     "output_type": "display_data"
    }
   ],
   "source": [
    "plt.figure()\n",
    "_ = plt.hist(num_words, bins = 100)\n",
    "plt.title('Distribution of num of words in one sentence')\n",
    "plt.xlabel('num')\n",
    "plt.ylabel('Counts')"
   ]
  },
  {
   "cell_type": "code",
   "execution_count": null,
   "metadata": {
    "ExecuteTime": {
     "start_time": "2019-03-31T11:37:55.446Z"
    }
   },
   "outputs": [],
   "source": [
    "word_count = {}\n",
    "def count_words(x):\n",
    "    for sen in x:\n",
    "        for word in sen:\n",
    "            word_count[word] = word_count.get(word, 0) + 1\n",
    "_ = df_train.Processed_Reviews.apply(count_words)"
   ]
  },
  {
   "cell_type": "code",
   "execution_count": null,
   "metadata": {
    "ExecuteTime": {
     "start_time": "2019-03-31T11:37:55.615Z"
    }
   },
   "outputs": [],
   "source": [
    "df_word_count = pd.DataFrame(list(word_count.items()), columns=['word', 'count'])\n",
    "df_word_count.sort_values(by='count', ascending=False, inplace=True)\n",
    "df_word_count.set_index('word', inplace=True)"
   ]
  },
  {
   "cell_type": "code",
   "execution_count": null,
   "metadata": {
    "ExecuteTime": {
     "start_time": "2019-03-31T11:37:55.789Z"
    }
   },
   "outputs": [],
   "source": [
    "vocab_size = 40000\n",
    "df_word_count = df_word_count[:vocab_size-10]"
   ]
  },
  {
   "cell_type": "code",
   "execution_count": null,
   "metadata": {
    "ExecuteTime": {
     "start_time": "2019-03-31T11:37:55.959Z"
    }
   },
   "outputs": [],
   "source": [
    "word2num_series = df_word_count.reset_index().reset_index().set_index('word')['index'] + 10 # reverse 10 pos for padding, [UNK], [CLS]..."
   ]
  },
  {
   "cell_type": "code",
   "execution_count": null,
   "metadata": {
    "ExecuteTime": {
     "start_time": "2019-03-31T11:37:56.128Z"
    }
   },
   "outputs": [],
   "source": [
    "def word_to_num(x):\n",
    "    res = []\n",
    "    for sen in x:\n",
    "        sen_words = []\n",
    "        for word in sen:\n",
    "            if word in word2num_series:\n",
    "                sen_words.append(word2num_series[word])\n",
    "        if len(sen_words) > 0:\n",
    "            res.append(np.array(sen_words, dtype=np.uint16))\n",
    "    return np.array(res)"
   ]
  },
  {
   "cell_type": "code",
   "execution_count": null,
   "metadata": {
    "ExecuteTime": {
     "start_time": "2019-03-31T11:37:56.294Z"
    }
   },
   "outputs": [],
   "source": [
    "def create_data(df):\n",
    "    X = df.Processed_Reviews.apply(word_to_num)\n",
    "    y = df.label\n",
    "    return X, y"
   ]
  },
  {
   "cell_type": "code",
   "execution_count": null,
   "metadata": {
    "ExecuteTime": {
     "start_time": "2019-03-31T11:37:56.461Z"
    }
   },
   "outputs": [],
   "source": [
    "X_train, y_train = create_data(df_train)\n",
    "X_val, y_val = create_data(df_validate)\n",
    "X_test, y_test = create_data(df_test)"
   ]
  },
  {
   "cell_type": "code",
   "execution_count": null,
   "metadata": {
    "ExecuteTime": {
     "start_time": "2019-03-31T11:37:56.633Z"
    }
   },
   "outputs": [],
   "source": [
    "X_train.to_hdf(data_pth + 'X_train.h5', key='s', model='w')\n",
    "y_train.to_hdf(data_pth + 'y_train.h5', key='s', model='w')\n",
    "\n",
    "X_val.to_hdf(data_pth + 'X_val.h5', key='s', model='w')\n",
    "y_val.to_hdf(data_pth + 'y_val.h5', key='s', model='w')\n",
    "\n",
    "X_test.to_hdf(data_pth + 'X_test.h5', key='s', model='w')\n",
    "y_test.to_hdf(data_pth + 'y_test.h5', key='s', model='w')\n",
    "word2num_series.to_hdf(data_pth + 'word2num_series.h5', key='s', model='w')"
   ]
  },
  {
   "cell_type": "markdown",
   "metadata": {},
   "source": [
    "## Douban"
   ]
  },
  {
   "cell_type": "code",
   "execution_count": 7,
   "metadata": {
    "ExecuteTime": {
     "end_time": "2019-04-01T13:59:59.144202Z",
     "start_time": "2019-04-01T13:59:58.993476Z"
    }
   },
   "outputs": [],
   "source": [
    "data_pth = 'dataset/Douban/'"
   ]
  },
  {
   "cell_type": "code",
   "execution_count": 8,
   "metadata": {
    "ExecuteTime": {
     "end_time": "2019-04-01T14:00:05.592605Z",
     "start_time": "2019-04-01T14:00:00.107710Z"
    }
   },
   "outputs": [],
   "source": [
    "df = pd.read_csv(data_pth + 'train.csv')\n",
    "df_test = pd.read_csv(data_pth + 'test.csv')"
   ]
  },
  {
   "cell_type": "code",
   "execution_count": 10,
   "metadata": {
    "ExecuteTime": {
     "end_time": "2019-04-01T14:08:48.473621Z",
     "start_time": "2019-04-01T14:02:15.355538Z"
    }
   },
   "outputs": [
    {
     "name": "stdout",
     "output_type": "stream",
     "text": [
      "Train set size:  550000\n",
      "Validation set size:  50000\n",
      "Test set size:  100000\n"
     ]
    }
   ],
   "source": [
    "df['Processed_Reviews'] = df['content'].apply(process_zh)\n",
    "df_test['Processed_Reviews'] = df_test['content'].apply(process_zh)\n",
    "df_train, df_validate = train_test_split(df, test_size=50000, random_state=0, stratify=df.label)\n",
    "print(\"Train set size: \", len(df_train))\n",
    "print(\"Validation set size: \", len(df_validate))\n",
    "print(\"Test set size: \", len(df_test))"
   ]
  },
  {
   "cell_type": "code",
   "execution_count": 11,
   "metadata": {
    "ExecuteTime": {
     "end_time": "2019-04-01T14:08:50.204286Z",
     "start_time": "2019-04-01T14:08:48.477159Z"
    }
   },
   "outputs": [],
   "source": [
    "num_words = []\n",
    "def count(x):\n",
    "    for sen in x:\n",
    "        num_words.append(len(sen))\n",
    "num_sens = df_train.Processed_Reviews.apply(len)\n",
    "_ = df_train.Processed_Reviews.apply(count)"
   ]
  },
  {
   "cell_type": "code",
   "execution_count": 12,
   "metadata": {
    "ExecuteTime": {
     "end_time": "2019-04-01T14:08:51.066373Z",
     "start_time": "2019-04-01T14:08:50.206292Z"
    }
   },
   "outputs": [
    {
     "data": {
      "text/plain": [
       "Text(0, 0.5, 'Counts')"
      ]
     },
     "execution_count": 12,
     "metadata": {},
     "output_type": "execute_result"
    },
    {
     "data": {
      "image/png": "[encoded data removed]",
      "text/plain": [
       "<Figure size 432x288 with 1 Axes>"
      ]
     },
     "metadata": {
      "needs_background": "light"
     },
     "output_type": "display_data"
    }
   ],
   "source": [
    "plt.figure()\n",
    "_ = plt.hist(num_sens, bins = 50)\n",
    "plt.title('Distribution of num of sentence in one review')\n",
    "plt.xlabel('num')\n",
    "plt.ylabel('Counts')"
   ]
  },
  {
   "cell_type": "code",
   "execution_count": 13,
   "metadata": {
    "ExecuteTime": {
     "end_time": "2019-04-01T14:08:52.161214Z",
     "start_time": "2019-04-01T14:08:51.069883Z"
    }
   },
   "outputs": [
    {
     "data": {
      "text/plain": [
       "Text(0, 0.5, 'Counts')"
      ]
     },
     "execution_count": 13,
     "metadata": {},
     "output_type": "execute_result"
    },
    {
     "data": {
      "image/png": "[encoded data removed]",
      "text/plain": [
       "<Figure size 432x288 with 1 Axes>"
      ]
     },
     "metadata": {
      "needs_background": "light"
     },
     "output_type": "display_data"
    }
   ],
   "source": [
    "plt.figure()\n",
    "_ = plt.hist(num_words, bins = 100)\n",
    "plt.title('Distribution of num of words in one sentence')\n",
    "plt.xlabel('num')\n",
    "plt.ylabel('Counts')"
   ]
  },
  {
   "cell_type": "code",
   "execution_count": 14,
   "metadata": {
    "ExecuteTime": {
     "end_time": "2019-04-01T14:13:42.257760Z",
     "start_time": "2019-04-01T14:13:31.472210Z"
    }
   },
   "outputs": [],
   "source": [
    "word_count = {}\n",
    "def count_words(x):\n",
    "    for sen in x:\n",
    "        for word in sen:\n",
    "            word_count[word] = word_count.get(word, 0) + 1\n",
    "_ = df_train.Processed_Reviews.apply(count_words)"
   ]
  },
  {
   "cell_type": "code",
   "execution_count": 29,
   "metadata": {
    "ExecuteTime": {
     "end_time": "2019-04-01T14:30:08.472728Z",
     "start_time": "2019-04-01T14:30:07.930425Z"
    }
   },
   "outputs": [],
   "source": [
    "df_word_count = pd.DataFrame(list(word_count.items()), columns=['word', 'count'])\n",
    "df_word_count.sort_values(by='count', ascending=False, inplace=True)\n",
    "df_word_count.set_index('word', inplace=True)"
   ]
  },
  {
   "cell_type": "code",
   "execution_count": 30,
   "metadata": {
    "ExecuteTime": {
     "end_time": "2019-04-01T14:30:12.040718Z",
     "start_time": "2019-04-01T14:30:11.854195Z"
    }
   },
   "outputs": [],
   "source": [
    "vocab_size = 40000\n",
    "df_word_count = df_word_count[1:vocab_size-10]"
   ]
  },
  {
   "cell_type": "code",
   "execution_count": 33,
   "metadata": {
    "ExecuteTime": {
     "end_time": "2019-04-01T14:31:35.753480Z",
     "start_time": "2019-04-01T14:31:35.290294Z"
    }
   },
   "outputs": [],
   "source": [
    "word2num_series = df_word_count.reset_index().reset_index().set_index('word')['index'] + 10 # reverse 10 pos for padding, [UNK], [CLS]..."
   ]
  },
  {
   "cell_type": "code",
   "execution_count": 35,
   "metadata": {
    "ExecuteTime": {
     "end_time": "2019-04-01T14:31:50.878460Z",
     "start_time": "2019-04-01T14:31:50.731061Z"
    }
   },
   "outputs": [],
   "source": [
    "def word_to_num(x):\n",
    "    res = []\n",
    "    for sen in x:\n",
    "        sen_words = []\n",
    "        for word in sen:\n",
    "            if word in word2num_series:\n",
    "                sen_words.append(word2num_series[word])\n",
    "        if len(sen_words) > 0:\n",
    "            res.append(np.array(sen_words, dtype=np.uint16))\n",
    "    return np.array(res)"
   ]
  },
  {
   "cell_type": "code",
   "execution_count": 36,
   "metadata": {
    "ExecuteTime": {
     "end_time": "2019-04-01T14:31:53.755596Z",
     "start_time": "2019-04-01T14:31:53.611745Z"
    }
   },
   "outputs": [],
   "source": [
    "def create_data(df):\n",
    "    X = df.Processed_Reviews.apply(word_to_num)\n",
    "    y = df.label\n",
    "    return X, y"
   ]
  },
  {
   "cell_type": "code",
   "execution_count": 37,
   "metadata": {
    "ExecuteTime": {
     "end_time": "2019-04-01T14:36:55.588399Z",
     "start_time": "2019-04-01T14:31:54.749817Z"
    }
   },
   "outputs": [],
   "source": [
    "X_train, y_train = create_data(df_train)\n",
    "X_val, y_val = create_data(df_validate)\n",
    "X_test, y_test = create_data(df_test)"
   ]
  },
  {
   "cell_type": "code",
   "execution_count": 38,
   "metadata": {
    "ExecuteTime": {
     "end_time": "2019-04-01T14:37:22.525730Z",
     "start_time": "2019-04-01T14:36:55.592410Z"
    }
   },
   "outputs": [],
   "source": [
    "X_train.to_hdf(data_pth + 'X_train.h5', key='s', model='w')\n",
    "y_train.to_hdf(data_pth + 'y_train.h5', key='s', model='w')\n",
    "\n",
    "X_val.to_hdf(data_pth + 'X_val.h5', key='s', model='w')\n",
    "y_val.to_hdf(data_pth + 'y_val.h5', key='s', model='w')\n",
    "\n",
    "X_test.to_hdf(data_pth + 'X_test.h5', key='s', model='w')\n",
    "y_test.to_hdf(data_pth + 'y_test.h5', key='s', model='w')\n",
    "word2num_series.to_hdf(data_pth + 'word2num_series.h5', key='s', model='w')"
   ]
  },
  {
   "cell_type": "code",
   "execution_count": 39,
   "metadata": {
    "ExecuteTime": {
     "end_time": "2019-04-01T14:37:31.181779Z",
     "start_time": "2019-04-01T14:37:22.528699Z"
    }
   },
   "outputs": [],
   "source": [
    "X_train = pd.read_hdf(data_pth + 'X_train.h5', key='s')"
   ]
  },
  {
   "cell_type": "code",
   "execution_count": null,
   "metadata": {},
   "outputs": [],
   "source": []
  }
 ],
 "metadata": {
  "kernelspec": {
   "display_name": "Python 3",
   "language": "python",
   "name": "python3"
  },
  "language_info": {
   "codemirror_mode": {
    "name": "ipython",
    "version": 3
   },
   "file_extension": ".py",
   "mimetype": "text/x-python",
   "name": "python",
   "nbconvert_exporter": "python",
   "pygments_lexer": "ipython3",
   "version": "3.6.1"
  },
  "varInspector": {
   "cols": {
    "lenName": 16,
    "lenType": 16,
    "lenVar": 40
   },
   "kernels_config": {
    "python": {
     "delete_cmd_postfix": "",
     "delete_cmd_prefix": "del ",
     "library": "var_list.py",
     "varRefreshCmd": "print(var_dic_list())"
    },
    "r": {
     "delete_cmd_postfix": ") ",
     "delete_cmd_prefix": "rm(",
     "library": "var_list.r",
     "varRefreshCmd": "cat(var_dic_list()) "
    }
   },
   "types_to_exclude": [
    "module",
    "function",
    "builtin_function_or_method",
    "instance",
    "_Feature"
   ],
   "window_display": false
  }
 },
 "nbformat": 4,
 "nbformat_minor": 2
}
