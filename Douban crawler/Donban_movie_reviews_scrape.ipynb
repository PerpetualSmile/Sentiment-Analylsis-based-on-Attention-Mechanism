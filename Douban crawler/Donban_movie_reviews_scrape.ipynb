{
 "cells": [
  {
   "cell_type": "markdown",
   "metadata": {},
   "source": [
    "# Douban Movie Review Scrape"
   ]
  },
  {
   "cell_type": "code",
   "execution_count": 1,
   "metadata": {
    "ExecuteTime": {
     "end_time": "2019-03-20T12:25:36.363432Z",
     "start_time": "2019-03-20T12:25:34.767190Z"
    }
   },
   "outputs": [],
   "source": [
    "import requests\n",
    "from requests.exceptions import RequestException\n",
    "import pandas as pd\n",
    "from bs4 import BeautifulSoup\n",
    "import time\n",
    "import random\n",
    "from tqdm import tqdm_notebook\n",
    "import numpy as np\n",
    "import json\n",
    "import queue\n",
    "import os"
   ]
  },
  {
   "cell_type": "markdown",
   "metadata": {},
   "source": [
    "## Get movies info for doulist"
   ]
  },
  {
   "cell_type": "markdown",
   "metadata": {},
   "source": [
    "## https://www.douban.com/doulist/13712178/\n",
    "## https://www.douban.com/doulist/43745992/\n",
    "## https://www.douban.com/doulist/43938254/\n",
    "## https://www.douban.com/doulist/41896950/"
   ]
  },
  {
   "cell_type": "code",
   "execution_count": 2,
   "metadata": {
    "ExecuteTime": {
     "end_time": "2019-03-18T01:22:38.528241Z",
     "start_time": "2019-03-18T01:22:38.523201Z"
    }
   },
   "outputs": [],
   "source": [
    "def get_one_page(url):\n",
    "    try:\n",
    "        headers = {\n",
    "            'User-Agent': 'Mozilla/5.0 (Windows NT 10.0; Win64; x64) AppleWebKit/537.36 (KHTML, like Gecko) Chrome/72.0.3626.121 Safari/537.36'\n",
    "        }\n",
    "        response = requests.get(url, headers=headers)\n",
    "        if response.status_code == 200:\n",
    "            return response.text\n",
    "        return None\n",
    "    except RequestException:\n",
    "        return None"
   ]
  },
  {
   "cell_type": "code",
   "execution_count": 96,
   "metadata": {
    "ExecuteTime": {
     "end_time": "2019-03-09T03:47:50.772081Z",
     "start_time": "2019-03-09T03:47:50.770076Z"
    }
   },
   "outputs": [],
   "source": [
    "doulist = '41896950'\n",
    "end = 1850"
   ]
  },
  {
   "cell_type": "code",
   "execution_count": 97,
   "metadata": {
    "ExecuteTime": {
     "end_time": "2019-03-09T03:47:51.258374Z",
     "start_time": "2019-03-09T03:47:51.251355Z"
    }
   },
   "outputs": [],
   "source": [
    "def get_movie_info(html):\n",
    "    soup = BeautifulSoup(html, 'lxml')\n",
    "    global df_movies\n",
    "    for item in soup.find_all(\"div\", class_=\"doulist-item\"):\n",
    "        try:\n",
    "            title = item.find(\"div\", class_=\"title\").a\n",
    "            href = title['href']\n",
    "            name = title.get_text().strip()\n",
    "            rate_tag = item.find(\"span\", class_=\"rating_nums\")\n",
    "            rating = float(rate_tag.string)\n",
    "            comment_nums = item.find(\"span\", class_=None).string\n",
    "            df_movies = df_movies.append(pd.Series([name, rating, comment_nums, href], index=['name', 'rating', 'comment_nums', 'href']), ignore_index=True)\n",
    "        except:\n",
    "            pass"
   ]
  },
  {
   "cell_type": "code",
   "execution_count": 98,
   "metadata": {
    "ExecuteTime": {
     "end_time": "2019-03-09T03:47:51.732635Z",
     "start_time": "2019-03-09T03:47:51.723610Z"
    }
   },
   "outputs": [],
   "source": [
    "df_movies = pd.DataFrame(columns=['name', 'rating', 'comment_nums', 'href'])\n",
    "def scrape_movie_href():\n",
    "    for i in tqdm(range(0, end+25, 25)):\n",
    "        url = 'https://www.douban.com/doulist/'+ doulist + '/?start=' + str(i)\n",
    "        html = get_one_page(url)\n",
    "        get_movie_info(html)\n",
    "        time.sleep(random.randint(2, 4))"
   ]
  },
  {
   "cell_type": "code",
   "execution_count": 99,
   "metadata": {
    "ExecuteTime": {
     "end_time": "2019-03-09T03:53:49.132005Z",
     "start_time": "2019-03-09T03:47:52.278085Z"
    },
    "scrolled": true
   },
   "outputs": [
    {
     "name": "stderr",
     "output_type": "stream",
     "text": [
      "100%|██████████████████████████████████████████████████████████████████████████████████| 75/75 [05:56<00:00,  4.35s/it]\n"
     ]
    }
   ],
   "source": [
    "scrape_movie_href()"
   ]
  },
  {
   "cell_type": "code",
   "execution_count": 100,
   "metadata": {
    "ExecuteTime": {
     "end_time": "2019-03-09T03:53:49.169113Z",
     "start_time": "2019-03-09T03:53:49.135014Z"
    }
   },
   "outputs": [
    {
     "data": {
      "text/html": [
       "<div>\n",
       "<style scoped>\n",
       "    .dataframe tbody tr th:only-of-type {\n",
       "        vertical-align: middle;\n",
       "    }\n",
       "\n",
       "    .dataframe tbody tr th {\n",
       "        vertical-align: top;\n",
       "    }\n",
       "\n",
       "    .dataframe thead th {\n",
       "        text-align: right;\n",
       "    }\n",
       "</style>\n",
       "<table border=\"1\" class=\"dataframe\">\n",
       "  <thead>\n",
       "    <tr style=\"text-align: right;\">\n",
       "      <th></th>\n",
       "      <th>name</th>\n",
       "      <th>rating</th>\n",
       "      <th>comment_nums</th>\n",
       "      <th>href</th>\n",
       "    </tr>\n",
       "  </thead>\n",
       "  <tbody>\n",
       "    <tr>\n",
       "      <th>0</th>\n",
       "      <td>泥之河 泥の河</td>\n",
       "      <td>8.8</td>\n",
       "      <td>(2622人评价)</td>\n",
       "      <td>https://movie.douban.com/subject/1303065/</td>\n",
       "    </tr>\n",
       "    <tr>\n",
       "      <th>1</th>\n",
       "      <td>谢利 Chéri</td>\n",
       "      <td>7.2</td>\n",
       "      <td>(8403人评价)</td>\n",
       "      <td>https://movie.douban.com/subject/3008244/</td>\n",
       "    </tr>\n",
       "    <tr>\n",
       "      <th>2</th>\n",
       "      <td>苏州河</td>\n",
       "      <td>7.9</td>\n",
       "      <td>(109429人评价)</td>\n",
       "      <td>https://movie.douban.com/subject/1299661/</td>\n",
       "    </tr>\n",
       "    <tr>\n",
       "      <th>3</th>\n",
       "      <td>鱼缸 Fish Tank</td>\n",
       "      <td>7.4</td>\n",
       "      <td>(25791人评价)</td>\n",
       "      <td>https://movie.douban.com/subject/3073875/</td>\n",
       "    </tr>\n",
       "    <tr>\n",
       "      <th>4</th>\n",
       "      <td>挽歌 Elegy</td>\n",
       "      <td>7.6</td>\n",
       "      <td>(16983人评价)</td>\n",
       "      <td>https://movie.douban.com/subject/3504940/</td>\n",
       "    </tr>\n",
       "    <tr>\n",
       "      <th>5</th>\n",
       "      <td>谜情公寓 Wicker Park</td>\n",
       "      <td>7.5</td>\n",
       "      <td>(15016人评价)</td>\n",
       "      <td>https://movie.douban.com/subject/1309080/</td>\n",
       "    </tr>\n",
       "    <tr>\n",
       "      <th>6</th>\n",
       "      <td>足迹 Sleuth</td>\n",
       "      <td>7.5</td>\n",
       "      <td>(12490人评价)</td>\n",
       "      <td>https://movie.douban.com/subject/1887455/</td>\n",
       "    </tr>\n",
       "    <tr>\n",
       "      <th>7</th>\n",
       "      <td>爱情的结果 Le conseguenze dell'amore</td>\n",
       "      <td>7.8</td>\n",
       "      <td>(1071人评价)</td>\n",
       "      <td>https://movie.douban.com/subject/1437260/</td>\n",
       "    </tr>\n",
       "    <tr>\n",
       "      <th>8</th>\n",
       "      <td>曼德拉 Mandela: Long Walk to Freedom</td>\n",
       "      <td>6.9</td>\n",
       "      <td>(2861人评价)</td>\n",
       "      <td>https://movie.douban.com/subject/11614065/</td>\n",
       "    </tr>\n",
       "    <tr>\n",
       "      <th>9</th>\n",
       "      <td>成为简·奥斯汀 Becoming Jane</td>\n",
       "      <td>8.2</td>\n",
       "      <td>(171001人评价)</td>\n",
       "      <td>https://movie.douban.com/subject/1920805/</td>\n",
       "    </tr>\n",
       "    <tr>\n",
       "      <th>10</th>\n",
       "      <td>人鬼情未了 Ghost</td>\n",
       "      <td>8.2</td>\n",
       "      <td>(156461人评价)</td>\n",
       "      <td>https://movie.douban.com/subject/1293203/</td>\n",
       "    </tr>\n",
       "    <tr>\n",
       "      <th>11</th>\n",
       "      <td>追风筝的人 The Kite Runner</td>\n",
       "      <td>8.2</td>\n",
       "      <td>(112570人评价)</td>\n",
       "      <td>https://movie.douban.com/subject/1937502/</td>\n",
       "    </tr>\n",
       "    <tr>\n",
       "      <th>12</th>\n",
       "      <td>岁月的童话 おもひでぽろぽろ</td>\n",
       "      <td>8.5</td>\n",
       "      <td>(85196人评价)</td>\n",
       "      <td>https://movie.douban.com/subject/1291588/</td>\n",
       "    </tr>\n",
       "    <tr>\n",
       "      <th>13</th>\n",
       "      <td>天使之恋 天使の恋</td>\n",
       "      <td>7.4</td>\n",
       "      <td>(91771人评价)</td>\n",
       "      <td>https://movie.douban.com/subject/4196129/</td>\n",
       "    </tr>\n",
       "    <tr>\n",
       "      <th>14</th>\n",
       "      <td>艺伎回忆录 Memoirs of a Geisha</td>\n",
       "      <td>7.3</td>\n",
       "      <td>(135581人评价)</td>\n",
       "      <td>https://movie.douban.com/subject/1309059/</td>\n",
       "    </tr>\n",
       "    <tr>\n",
       "      <th>15</th>\n",
       "      <td>聚焦 Spotlight</td>\n",
       "      <td>8.8</td>\n",
       "      <td>(159505人评价)</td>\n",
       "      <td>https://movie.douban.com/subject/25954475/</td>\n",
       "    </tr>\n",
       "    <tr>\n",
       "      <th>16</th>\n",
       "      <td>房间 Room</td>\n",
       "      <td>8.8</td>\n",
       "      <td>(206457人评价)</td>\n",
       "      <td>https://movie.douban.com/subject/25724855/</td>\n",
       "    </tr>\n",
       "    <tr>\n",
       "      <th>17</th>\n",
       "      <td>布鲁克林 Brooklyn</td>\n",
       "      <td>7.8</td>\n",
       "      <td>(67392人评价)</td>\n",
       "      <td>https://movie.douban.com/subject/10741220/</td>\n",
       "    </tr>\n",
       "    <tr>\n",
       "      <th>18</th>\n",
       "      <td>大空头 The Big Short</td>\n",
       "      <td>8.4</td>\n",
       "      <td>(110747人评价)</td>\n",
       "      <td>https://movie.douban.com/subject/26303622/</td>\n",
       "    </tr>\n",
       "    <tr>\n",
       "      <th>19</th>\n",
       "      <td>云中漫步 A Walk in the Clouds</td>\n",
       "      <td>7.8</td>\n",
       "      <td>(59906人评价)</td>\n",
       "      <td>https://movie.douban.com/subject/1300945/</td>\n",
       "    </tr>\n",
       "    <tr>\n",
       "      <th>20</th>\n",
       "      <td>天伦之旅 Everybody's Fine</td>\n",
       "      <td>8.6</td>\n",
       "      <td>(67790人评价)</td>\n",
       "      <td>https://movie.douban.com/subject/3041749/</td>\n",
       "    </tr>\n",
       "    <tr>\n",
       "      <th>21</th>\n",
       "      <td>午夜巴塞罗那 Vicky Cristina Barcelona</td>\n",
       "      <td>7.8</td>\n",
       "      <td>(178306人评价)</td>\n",
       "      <td>https://movie.douban.com/subject/1981242/</td>\n",
       "    </tr>\n",
       "    <tr>\n",
       "      <th>22</th>\n",
       "      <td>迫在眉梢 John Q</td>\n",
       "      <td>8.5</td>\n",
       "      <td>(33088人评价)</td>\n",
       "      <td>https://movie.douban.com/subject/1306439/</td>\n",
       "    </tr>\n",
       "    <tr>\n",
       "      <th>23</th>\n",
       "      <td>活埋 Buried</td>\n",
       "      <td>7.8</td>\n",
       "      <td>(86550人评价)</td>\n",
       "      <td>https://movie.douban.com/subject/3819877/</td>\n",
       "    </tr>\n",
       "    <tr>\n",
       "      <th>24</th>\n",
       "      <td>逃离德黑兰 Argo</td>\n",
       "      <td>8.2</td>\n",
       "      <td>(193505人评价)</td>\n",
       "      <td>https://movie.douban.com/subject/6549903/</td>\n",
       "    </tr>\n",
       "    <tr>\n",
       "      <th>25</th>\n",
       "      <td>布鲁克斯先生 Mr. Brooks</td>\n",
       "      <td>7.6</td>\n",
       "      <td>(25382人评价)</td>\n",
       "      <td>https://movie.douban.com/subject/1949321/</td>\n",
       "    </tr>\n",
       "    <tr>\n",
       "      <th>26</th>\n",
       "      <td>慕尼黑 Munich</td>\n",
       "      <td>7.8</td>\n",
       "      <td>(23335人评价)</td>\n",
       "      <td>https://movie.douban.com/subject/1438338/</td>\n",
       "    </tr>\n",
       "    <tr>\n",
       "      <th>27</th>\n",
       "      <td>割腕者的天堂 Wristcutters: A Love Story</td>\n",
       "      <td>7.6</td>\n",
       "      <td>(12261人评价)</td>\n",
       "      <td>https://movie.douban.com/subject/1918208/</td>\n",
       "    </tr>\n",
       "    <tr>\n",
       "      <th>28</th>\n",
       "      <td>尽情游戏 Micmacs à tire-larigot</td>\n",
       "      <td>8.1</td>\n",
       "      <td>(23698人评价)</td>\n",
       "      <td>https://movie.douban.com/subject/2355582/</td>\n",
       "    </tr>\n",
       "    <tr>\n",
       "      <th>29</th>\n",
       "      <td>午夜巴黎 Midnight in Paris</td>\n",
       "      <td>8.2</td>\n",
       "      <td>(199913人评价)</td>\n",
       "      <td>https://movie.douban.com/subject/4319218/</td>\n",
       "    </tr>\n",
       "    <tr>\n",
       "      <th>...</th>\n",
       "      <td>...</td>\n",
       "      <td>...</td>\n",
       "      <td>...</td>\n",
       "      <td>...</td>\n",
       "    </tr>\n",
       "    <tr>\n",
       "      <th>1733</th>\n",
       "      <td>柏林苍穹下 Der Himmel über Berlin</td>\n",
       "      <td>8.5</td>\n",
       "      <td>(24642人评价)</td>\n",
       "      <td>https://movie.douban.com/subject/1292504/</td>\n",
       "    </tr>\n",
       "    <tr>\n",
       "      <th>1734</th>\n",
       "      <td>玛戈王后 La Reine Margot</td>\n",
       "      <td>7.8</td>\n",
       "      <td>(26519人评价)</td>\n",
       "      <td>https://movie.douban.com/subject/1300802/</td>\n",
       "    </tr>\n",
       "    <tr>\n",
       "      <th>1735</th>\n",
       "      <td>借着雨点说爱你 いま、会いにゆきます</td>\n",
       "      <td>8.4</td>\n",
       "      <td>(25033人评价)</td>\n",
       "      <td>https://movie.douban.com/subject/1395080/</td>\n",
       "    </tr>\n",
       "    <tr>\n",
       "      <th>1736</th>\n",
       "      <td>只是爱着你 ただ、君を愛してる</td>\n",
       "      <td>8.0</td>\n",
       "      <td>(101085人评价)</td>\n",
       "      <td>https://movie.douban.com/subject/1915403/</td>\n",
       "    </tr>\n",
       "    <tr>\n",
       "      <th>1737</th>\n",
       "      <td>无敌破坏王2：大闹互联网 Ralph Breaks the Internet</td>\n",
       "      <td>8.1</td>\n",
       "      <td>(188355人评价)</td>\n",
       "      <td>https://movie.douban.com/subject/20438964/</td>\n",
       "    </tr>\n",
       "    <tr>\n",
       "      <th>1738</th>\n",
       "      <td>驯龙高手3 How To Train Your Dragon: The Hidden World</td>\n",
       "      <td>7.6</td>\n",
       "      <td>(67141人评价)</td>\n",
       "      <td>https://movie.douban.com/subject/19899707/</td>\n",
       "    </tr>\n",
       "    <tr>\n",
       "      <th>1739</th>\n",
       "      <td>偷天陷阱 Entrapment</td>\n",
       "      <td>7.8</td>\n",
       "      <td>(81384人评价)</td>\n",
       "      <td>https://movie.douban.com/subject/1300069/</td>\n",
       "    </tr>\n",
       "    <tr>\n",
       "      <th>1740</th>\n",
       "      <td>赌城风云 Casino</td>\n",
       "      <td>8.2</td>\n",
       "      <td>(22308人评价)</td>\n",
       "      <td>https://movie.douban.com/subject/1299799/</td>\n",
       "    </tr>\n",
       "    <tr>\n",
       "      <th>1741</th>\n",
       "      <td>大买卖 The Score</td>\n",
       "      <td>7.0</td>\n",
       "      <td>(9526人评价)</td>\n",
       "      <td>https://movie.douban.com/subject/1296867/</td>\n",
       "    </tr>\n",
       "    <tr>\n",
       "      <th>1742</th>\n",
       "      <td>完美无瑕 Flawless</td>\n",
       "      <td>7.5</td>\n",
       "      <td>(12209人评价)</td>\n",
       "      <td>https://movie.douban.com/subject/2132290/</td>\n",
       "    </tr>\n",
       "    <tr>\n",
       "      <th>1743</th>\n",
       "      <td>宠儿 The Favourite</td>\n",
       "      <td>7.4</td>\n",
       "      <td>(34718人评价)</td>\n",
       "      <td>https://movie.douban.com/subject/26628282/</td>\n",
       "    </tr>\n",
       "    <tr>\n",
       "      <th>1744</th>\n",
       "      <td>玻璃先生 Glass</td>\n",
       "      <td>6.3</td>\n",
       "      <td>(2425人评价)</td>\n",
       "      <td>https://movie.douban.com/subject/27031237/</td>\n",
       "    </tr>\n",
       "    <tr>\n",
       "      <th>1745</th>\n",
       "      <td>想要拥抱你 抱きしめたい -真実の物語-</td>\n",
       "      <td>7.2</td>\n",
       "      <td>(8989人评价)</td>\n",
       "      <td>https://movie.douban.com/subject/21335021/</td>\n",
       "    </tr>\n",
       "    <tr>\n",
       "      <th>1746</th>\n",
       "      <td>坂本龙一：终曲 Ryuichi Sakamoto: CODA</td>\n",
       "      <td>8.9</td>\n",
       "      <td>(7397人评价)</td>\n",
       "      <td>https://movie.douban.com/subject/26984189/</td>\n",
       "    </tr>\n",
       "    <tr>\n",
       "      <th>1747</th>\n",
       "      <td>大黄蜂 Bumblebee</td>\n",
       "      <td>7.1</td>\n",
       "      <td>(211809人评价)</td>\n",
       "      <td>https://movie.douban.com/subject/26394152/</td>\n",
       "    </tr>\n",
       "    <tr>\n",
       "      <th>1748</th>\n",
       "      <td>我们无法成为野兽 獣になれない私たち</td>\n",
       "      <td>7.7</td>\n",
       "      <td>(50992人评价)</td>\n",
       "      <td>https://movie.douban.com/subject/30290917/</td>\n",
       "    </tr>\n",
       "    <tr>\n",
       "      <th>1749</th>\n",
       "      <td>生死时速 Speed</td>\n",
       "      <td>8.1</td>\n",
       "      <td>(82272人评价)</td>\n",
       "      <td>https://movie.douban.com/subject/1293167/</td>\n",
       "    </tr>\n",
       "    <tr>\n",
       "      <th>1750</th>\n",
       "      <td>莎乐美 Salomé</td>\n",
       "      <td>8.3</td>\n",
       "      <td>(858人评价)</td>\n",
       "      <td>https://movie.douban.com/subject/25986782/</td>\n",
       "    </tr>\n",
       "    <tr>\n",
       "      <th>1751</th>\n",
       "      <td>恋爱写真 恋愛寫眞</td>\n",
       "      <td>7.6</td>\n",
       "      <td>(18477人评价)</td>\n",
       "      <td>https://movie.douban.com/subject/1307755/</td>\n",
       "    </tr>\n",
       "    <tr>\n",
       "      <th>1752</th>\n",
       "      <td>琳达！琳达！琳达！ リンダ リンダ リンダ</td>\n",
       "      <td>7.6</td>\n",
       "      <td>(4770人评价)</td>\n",
       "      <td>https://movie.douban.com/subject/1432699/</td>\n",
       "    </tr>\n",
       "    <tr>\n",
       "      <th>1753</th>\n",
       "      <td>大象席地而坐</td>\n",
       "      <td>8.0</td>\n",
       "      <td>(64146人评价)</td>\n",
       "      <td>https://movie.douban.com/subject/27172891/</td>\n",
       "    </tr>\n",
       "    <tr>\n",
       "      <th>1754</th>\n",
       "      <td>有顶天酒店 THE 有頂天ホテル</td>\n",
       "      <td>8.0</td>\n",
       "      <td>(11527人评价)</td>\n",
       "      <td>https://movie.douban.com/subject/1482316/</td>\n",
       "    </tr>\n",
       "    <tr>\n",
       "      <th>1755</th>\n",
       "      <td>绿皮书 Green Book</td>\n",
       "      <td>8.9</td>\n",
       "      <td>(296668人评价)</td>\n",
       "      <td>https://movie.douban.com/subject/27060077/</td>\n",
       "    </tr>\n",
       "    <tr>\n",
       "      <th>1756</th>\n",
       "      <td>茶泡饭之味 お茶漬の味</td>\n",
       "      <td>8.2</td>\n",
       "      <td>(3778人评价)</td>\n",
       "      <td>https://movie.douban.com/subject/1306183/</td>\n",
       "    </tr>\n",
       "    <tr>\n",
       "      <th>1757</th>\n",
       "      <td>世界之战 War of the Worlds</td>\n",
       "      <td>6.5</td>\n",
       "      <td>(54352人评价)</td>\n",
       "      <td>https://movie.douban.com/subject/1309044/</td>\n",
       "    </tr>\n",
       "    <tr>\n",
       "      <th>1758</th>\n",
       "      <td>人类之子 Children of Men</td>\n",
       "      <td>7.5</td>\n",
       "      <td>(45726人评价)</td>\n",
       "      <td>https://movie.douban.com/subject/1478064/</td>\n",
       "    </tr>\n",
       "    <tr>\n",
       "      <th>1759</th>\n",
       "      <td>阿瓦隆 アヴァロン</td>\n",
       "      <td>7.3</td>\n",
       "      <td>(3234人评价)</td>\n",
       "      <td>https://movie.douban.com/subject/1298688/</td>\n",
       "    </tr>\n",
       "    <tr>\n",
       "      <th>1760</th>\n",
       "      <td>蒸汽男孩 スチームボーイ</td>\n",
       "      <td>7.7</td>\n",
       "      <td>(18692人评价)</td>\n",
       "      <td>https://movie.douban.com/subject/1291576/</td>\n",
       "    </tr>\n",
       "    <tr>\n",
       "      <th>1761</th>\n",
       "      <td>2010</td>\n",
       "      <td>7.8</td>\n",
       "      <td>(7408人评价)</td>\n",
       "      <td>https://movie.douban.com/subject/1293572/</td>\n",
       "    </tr>\n",
       "    <tr>\n",
       "      <th>1762</th>\n",
       "      <td>地久天长</td>\n",
       "      <td>8.0</td>\n",
       "      <td>(580人评价)</td>\n",
       "      <td>https://movie.douban.com/subject/26715636/</td>\n",
       "    </tr>\n",
       "  </tbody>\n",
       "</table>\n",
       "<p>1763 rows × 4 columns</p>\n",
       "</div>"
      ],
      "text/plain": [
       "                                                  name  rating comment_nums  \\\n",
       "0                                              泥之河 泥の河     8.8    (2622人评价)   \n",
       "1                                             谢利 Chéri     7.2    (8403人评价)   \n",
       "2                                                  苏州河     7.9  (109429人评价)   \n",
       "3                                         鱼缸 Fish Tank     7.4   (25791人评价)   \n",
       "4                                             挽歌 Elegy     7.6   (16983人评价)   \n",
       "5                                     谜情公寓 Wicker Park     7.5   (15016人评价)   \n",
       "6                                            足迹 Sleuth     7.5   (12490人评价)   \n",
       "7                      爱情的结果 Le conseguenze dell'amore     7.8    (1071人评价)   \n",
       "8                    曼德拉 Mandela: Long Walk to Freedom     6.9    (2861人评价)   \n",
       "9                                成为简·奥斯汀 Becoming Jane     8.2  (171001人评价)   \n",
       "10                                         人鬼情未了 Ghost     8.2  (156461人评价)   \n",
       "11                               追风筝的人 The Kite Runner     8.2  (112570人评价)   \n",
       "12                                      岁月的童话 おもひでぽろぽろ     8.5   (85196人评价)   \n",
       "13                                           天使之恋 天使の恋     7.4   (91771人评价)   \n",
       "14                           艺伎回忆录 Memoirs of a Geisha     7.3  (135581人评价)   \n",
       "15                                        聚焦 Spotlight     8.8  (159505人评价)   \n",
       "16                                             房间 Room     8.8  (206457人评价)   \n",
       "17                                       布鲁克林 Brooklyn     7.8   (67392人评价)   \n",
       "18                                   大空头 The Big Short     8.4  (110747人评价)   \n",
       "19                           云中漫步 A Walk in the Clouds     7.8   (59906人评价)   \n",
       "20                               天伦之旅 Everybody's Fine     8.6   (67790人评价)   \n",
       "21                     午夜巴塞罗那 Vicky Cristina Barcelona     7.8  (178306人评价)   \n",
       "22                                         迫在眉梢 John Q     8.5   (33088人评价)   \n",
       "23                                           活埋 Buried     7.8   (86550人评价)   \n",
       "24                                          逃离德黑兰 Argo     8.2  (193505人评价)   \n",
       "25                                   布鲁克斯先生 Mr. Brooks     7.6   (25382人评价)   \n",
       "26                                          慕尼黑 Munich     7.8   (23335人评价)   \n",
       "27                   割腕者的天堂 Wristcutters: A Love Story     7.6   (12261人评价)   \n",
       "28                         尽情游戏 Micmacs à tire-larigot     8.1   (23698人评价)   \n",
       "29                              午夜巴黎 Midnight in Paris     8.2  (199913人评价)   \n",
       "...                                                ...     ...          ...   \n",
       "1733                      柏林苍穹下 Der Himmel über Berlin     8.5   (24642人评价)   \n",
       "1734                              玛戈王后 La Reine Margot     7.8   (26519人评价)   \n",
       "1735                                借着雨点说爱你 いま、会いにゆきます     8.4   (25033人评价)   \n",
       "1736                                   只是爱着你 ただ、君を愛してる     8.0  (101085人评价)   \n",
       "1737            无敌破坏王2：大闹互联网 Ralph Breaks the Internet     8.1  (188355人评价)   \n",
       "1738  驯龙高手3 How To Train Your Dragon: The Hidden World     7.6   (67141人评价)   \n",
       "1739                                   偷天陷阱 Entrapment     7.8   (81384人评价)   \n",
       "1740                                       赌城风云 Casino     8.2   (22308人评价)   \n",
       "1741                                     大买卖 The Score     7.0    (9526人评价)   \n",
       "1742                                     完美无瑕 Flawless     7.5   (12209人评价)   \n",
       "1743                                  宠儿 The Favourite     7.4   (34718人评价)   \n",
       "1744                                        玻璃先生 Glass     6.3    (2425人评价)   \n",
       "1745                              想要拥抱你 抱きしめたい -真実の物語-     7.2    (8989人评价)   \n",
       "1746                    坂本龙一：终曲 Ryuichi Sakamoto: CODA     8.9    (7397人评价)   \n",
       "1747                                     大黄蜂 Bumblebee     7.1  (211809人评价)   \n",
       "1748                                我们无法成为野兽 獣になれない私たち     7.7   (50992人评价)   \n",
       "1749                                        生死时速 Speed     8.1   (82272人评价)   \n",
       "1750                                        莎乐美 Salomé     8.3     (858人评价)   \n",
       "1751                                         恋爱写真 恋愛寫眞     7.6   (18477人评价)   \n",
       "1752                             琳达！琳达！琳达！ リンダ リンダ リンダ     7.6    (4770人评价)   \n",
       "1753                                            大象席地而坐     8.0   (64146人评价)   \n",
       "1754                                  有顶天酒店 THE 有頂天ホテル     8.0   (11527人评价)   \n",
       "1755                                    绿皮书 Green Book     8.9  (296668人评价)   \n",
       "1756                                       茶泡饭之味 お茶漬の味     8.2    (3778人评价)   \n",
       "1757                            世界之战 War of the Worlds     6.5   (54352人评价)   \n",
       "1758                              人类之子 Children of Men     7.5   (45726人评价)   \n",
       "1759                                         阿瓦隆 アヴァロン     7.3    (3234人评价)   \n",
       "1760                                      蒸汽男孩 スチームボーイ     7.7   (18692人评价)   \n",
       "1761                                              2010     7.8    (7408人评价)   \n",
       "1762                                              地久天长     8.0     (580人评价)   \n",
       "\n",
       "                                            href  \n",
       "0      https://movie.douban.com/subject/1303065/  \n",
       "1      https://movie.douban.com/subject/3008244/  \n",
       "2      https://movie.douban.com/subject/1299661/  \n",
       "3      https://movie.douban.com/subject/3073875/  \n",
       "4      https://movie.douban.com/subject/3504940/  \n",
       "5      https://movie.douban.com/subject/1309080/  \n",
       "6      https://movie.douban.com/subject/1887455/  \n",
       "7      https://movie.douban.com/subject/1437260/  \n",
       "8     https://movie.douban.com/subject/11614065/  \n",
       "9      https://movie.douban.com/subject/1920805/  \n",
       "10     https://movie.douban.com/subject/1293203/  \n",
       "11     https://movie.douban.com/subject/1937502/  \n",
       "12     https://movie.douban.com/subject/1291588/  \n",
       "13     https://movie.douban.com/subject/4196129/  \n",
       "14     https://movie.douban.com/subject/1309059/  \n",
       "15    https://movie.douban.com/subject/25954475/  \n",
       "16    https://movie.douban.com/subject/25724855/  \n",
       "17    https://movie.douban.com/subject/10741220/  \n",
       "18    https://movie.douban.com/subject/26303622/  \n",
       "19     https://movie.douban.com/subject/1300945/  \n",
       "20     https://movie.douban.com/subject/3041749/  \n",
       "21     https://movie.douban.com/subject/1981242/  \n",
       "22     https://movie.douban.com/subject/1306439/  \n",
       "23     https://movie.douban.com/subject/3819877/  \n",
       "24     https://movie.douban.com/subject/6549903/  \n",
       "25     https://movie.douban.com/subject/1949321/  \n",
       "26     https://movie.douban.com/subject/1438338/  \n",
       "27     https://movie.douban.com/subject/1918208/  \n",
       "28     https://movie.douban.com/subject/2355582/  \n",
       "29     https://movie.douban.com/subject/4319218/  \n",
       "...                                          ...  \n",
       "1733   https://movie.douban.com/subject/1292504/  \n",
       "1734   https://movie.douban.com/subject/1300802/  \n",
       "1735   https://movie.douban.com/subject/1395080/  \n",
       "1736   https://movie.douban.com/subject/1915403/  \n",
       "1737  https://movie.douban.com/subject/20438964/  \n",
       "1738  https://movie.douban.com/subject/19899707/  \n",
       "1739   https://movie.douban.com/subject/1300069/  \n",
       "1740   https://movie.douban.com/subject/1299799/  \n",
       "1741   https://movie.douban.com/subject/1296867/  \n",
       "1742   https://movie.douban.com/subject/2132290/  \n",
       "1743  https://movie.douban.com/subject/26628282/  \n",
       "1744  https://movie.douban.com/subject/27031237/  \n",
       "1745  https://movie.douban.com/subject/21335021/  \n",
       "1746  https://movie.douban.com/subject/26984189/  \n",
       "1747  https://movie.douban.com/subject/26394152/  \n",
       "1748  https://movie.douban.com/subject/30290917/  \n",
       "1749   https://movie.douban.com/subject/1293167/  \n",
       "1750  https://movie.douban.com/subject/25986782/  \n",
       "1751   https://movie.douban.com/subject/1307755/  \n",
       "1752   https://movie.douban.com/subject/1432699/  \n",
       "1753  https://movie.douban.com/subject/27172891/  \n",
       "1754   https://movie.douban.com/subject/1482316/  \n",
       "1755  https://movie.douban.com/subject/27060077/  \n",
       "1756   https://movie.douban.com/subject/1306183/  \n",
       "1757   https://movie.douban.com/subject/1309044/  \n",
       "1758   https://movie.douban.com/subject/1478064/  \n",
       "1759   https://movie.douban.com/subject/1298688/  \n",
       "1760   https://movie.douban.com/subject/1291576/  \n",
       "1761   https://movie.douban.com/subject/1293572/  \n",
       "1762  https://movie.douban.com/subject/26715636/  \n",
       "\n",
       "[1763 rows x 4 columns]"
      ]
     },
     "execution_count": 100,
     "metadata": {},
     "output_type": "execute_result"
    }
   ],
   "source": [
    "df_movies"
   ]
  },
  {
   "cell_type": "code",
   "execution_count": 102,
   "metadata": {
    "ExecuteTime": {
     "end_time": "2019-03-09T03:54:06.467094Z",
     "start_time": "2019-03-09T03:54:06.463083Z"
    }
   },
   "outputs": [
    {
     "data": {
      "text/plain": [
       "1763"
      ]
     },
     "execution_count": 102,
     "metadata": {},
     "output_type": "execute_result"
    }
   ],
   "source": [
    "len(df_movies)"
   ]
  },
  {
   "cell_type": "code",
   "execution_count": 103,
   "metadata": {
    "ExecuteTime": {
     "end_time": "2019-03-09T03:54:08.202708Z",
     "start_time": "2019-03-09T03:54:08.181652Z"
    }
   },
   "outputs": [],
   "source": [
    "df_movies.to_csv('doulist_{}.csv'.format(doulist), index=False)"
   ]
  },
  {
   "cell_type": "markdown",
   "metadata": {},
   "source": [
    "## Get all movies on Douban (to get more reviews)"
   ]
  },
  {
   "cell_type": "code",
   "execution_count": 50,
   "metadata": {
    "ExecuteTime": {
     "end_time": "2019-03-18T01:43:24.181536Z",
     "start_time": "2019-03-18T01:43:24.173521Z"
    }
   },
   "outputs": [],
   "source": [
    "df_movies = pd.DataFrame(columns=['name', 'rating', 'href'])"
   ]
  },
  {
   "cell_type": "code",
   "execution_count": 129,
   "metadata": {
    "ExecuteTime": {
     "end_time": "2019-03-18T03:14:49.423291Z",
     "start_time": "2019-03-18T03:09:20.955413Z"
    }
   },
   "outputs": [
    {
     "data": {
      "application/vnd.jupyter.widget-view+json": {
       "model_id": "99824fa520614a22a0c9a6575b1064a8",
       "version_major": 2,
       "version_minor": 0
      },
      "text/plain": [
       "HBox(children=(IntProgress(value=0, max=500), HTML(value='')))"
      ]
     },
     "metadata": {},
     "output_type": "display_data"
    }
   ],
   "source": [
    "rate_range = (0, 0)\n",
    "for offset in tqdm_notebook(range(0, 10000, 20)):\n",
    "    url = 'https://movie.douban.com/j/new_search_subjects?sort=U&range={},{}&tags=%E7%94%B5%E5%BD%B1&start={}'.format(rate_range[0], rate_range[1], offset)\n",
    "    html = get_one_page(url)\n",
    "    res = json.loads(html)\n",
    "    df_res = pd.DataFrame(map(lambda x: (x.get('title', None), x.get('rate', None), x.get('url', None)), res.get('data')), columns=['name', 'rating', 'href'])\n",
    "    if len(df_res) == 0:\n",
    "        break\n",
    "    df_movies = df_movies.append(df_res)\n",
    "    time.sleep(0.1)"
   ]
  },
  {
   "cell_type": "code",
   "execution_count": 134,
   "metadata": {
    "ExecuteTime": {
     "end_time": "2019-03-18T03:18:59.034479Z",
     "start_time": "2019-03-18T03:18:58.836905Z"
    },
    "scrolled": true
   },
   "outputs": [],
   "source": [
    "df_movies.drop_duplicates(subset='name').to_csv('movies.csv', index=None)"
   ]
  },
  {
   "cell_type": "code",
   "execution_count": 219,
   "metadata": {
    "ExecuteTime": {
     "end_time": "2019-03-18T06:46:33.732875Z",
     "start_time": "2019-03-18T06:46:33.729867Z"
    }
   },
   "outputs": [],
   "source": [
    "filenames = os.listdir('./result/')"
   ]
  },
  {
   "cell_type": "code",
   "execution_count": 220,
   "metadata": {
    "ExecuteTime": {
     "end_time": "2019-03-18T06:47:21.706845Z",
     "start_time": "2019-03-18T06:47:21.287589Z"
    }
   },
   "outputs": [],
   "source": [
    "df = pd.DataFrame()\n",
    "for file in filenames:\n",
    "    df = df.append(pd.read_csv('./result/' + file))"
   ]
  },
  {
   "cell_type": "code",
   "execution_count": 226,
   "metadata": {
    "ExecuteTime": {
     "end_time": "2019-03-18T06:48:36.978424Z",
     "start_time": "2019-03-18T06:48:36.715582Z"
    }
   },
   "outputs": [],
   "source": [
    "df.comment_nums = df.comment_nums.str.extract('(\\d+)')"
   ]
  },
  {
   "cell_type": "code",
   "execution_count": 229,
   "metadata": {
    "ExecuteTime": {
     "end_time": "2019-03-18T06:49:10.676167Z",
     "start_time": "2019-03-18T06:49:10.650569Z"
    }
   },
   "outputs": [],
   "source": [
    "df.dropna(inplace=True)"
   ]
  },
  {
   "cell_type": "code",
   "execution_count": 235,
   "metadata": {
    "ExecuteTime": {
     "end_time": "2019-03-18T06:50:34.447639Z",
     "start_time": "2019-03-18T06:50:34.430589Z"
    }
   },
   "outputs": [],
   "source": [
    "df.comment_nums = df.comment_nums.astype(int)"
   ]
  },
  {
   "cell_type": "code",
   "execution_count": 236,
   "metadata": {
    "ExecuteTime": {
     "end_time": "2019-03-18T06:50:35.349253Z",
     "start_time": "2019-03-18T06:50:35.334213Z"
    }
   },
   "outputs": [],
   "source": [
    "df.sort_values(by='comment_nums', inplace=True, ascending=False)"
   ]
  },
  {
   "cell_type": "code",
   "execution_count": 248,
   "metadata": {
    "ExecuteTime": {
     "end_time": "2019-03-18T06:59:19.232483Z",
     "start_time": "2019-03-18T06:59:19.223932Z"
    }
   },
   "outputs": [],
   "source": [
    "df = df[df.comment_nums > 100]"
   ]
  },
  {
   "cell_type": "code",
   "execution_count": 277,
   "metadata": {
    "ExecuteTime": {
     "end_time": "2019-03-18T07:10:21.033737Z",
     "start_time": "2019-03-18T07:10:21.006665Z"
    }
   },
   "outputs": [],
   "source": [
    "r = pd.read_csv('movie_info.csv')"
   ]
  },
  {
   "cell_type": "code",
   "execution_count": 282,
   "metadata": {
    "ExecuteTime": {
     "end_time": "2019-03-18T07:11:42.912113Z",
     "start_time": "2019-03-18T07:11:42.906097Z"
    }
   },
   "outputs": [
    {
     "data": {
      "text/plain": [
       "'https://movie.douban.com/subject/26266893/'"
      ]
     },
     "execution_count": 282,
     "metadata": {},
     "output_type": "execute_result"
    }
   ],
   "source": [
    "df.iloc[0]['href']"
   ]
  },
  {
   "cell_type": "code",
   "execution_count": 285,
   "metadata": {
    "ExecuteTime": {
     "end_time": "2019-03-18T07:12:43.686149Z",
     "start_time": "2019-03-18T07:12:43.481778Z"
    }
   },
   "outputs": [
    {
     "name": "stderr",
     "output_type": "stream",
     "text": [
      "d:\\anaconda\\lib\\site-packages\\pandas\\core\\frame.py:3940: SettingWithCopyWarning: \n",
      "A value is trying to be set on a copy of a slice from a DataFrame\n",
      "\n",
      "See the caveats in the documentation: http://pandas.pydata.org/pandas-docs/stable/indexing.html#indexing-view-versus-copy\n",
      "  errors=errors)\n"
     ]
    }
   ],
   "source": [
    "df.drop('comment_href', axis=1, inplace=True)"
   ]
  },
  {
   "cell_type": "code",
   "execution_count": 288,
   "metadata": {
    "ExecuteTime": {
     "end_time": "2019-03-18T07:13:34.474826Z",
     "start_time": "2019-03-18T07:13:30.750881Z"
    }
   },
   "outputs": [],
   "source": [
    "df = df[df.apply(lambda x: x['href'] not in r.href.values, axis=1)]"
   ]
  },
  {
   "cell_type": "code",
   "execution_count": 290,
   "metadata": {
    "ExecuteTime": {
     "end_time": "2019-03-18T07:15:13.574081Z",
     "start_time": "2019-03-18T07:15:13.569067Z"
    }
   },
   "outputs": [
    {
     "data": {
      "text/plain": [
       "16711"
      ]
     },
     "execution_count": 290,
     "metadata": {},
     "output_type": "execute_result"
    }
   ],
   "source": [
    "len(df)"
   ]
  },
  {
   "cell_type": "code",
   "execution_count": 203,
   "metadata": {
    "ExecuteTime": {
     "end_time": "2019-03-18T03:40:43.873736Z",
     "start_time": "2019-03-18T03:40:43.868721Z"
    }
   },
   "outputs": [],
   "source": [
    "table = queue.Queue()\n",
    "failed_url = queue.Queue()"
   ]
  },
  {
   "cell_type": "code",
   "execution_count": 204,
   "metadata": {
    "ExecuteTime": {
     "end_time": "2019-03-18T03:40:48.833861Z",
     "start_time": "2019-03-18T03:40:48.824779Z"
    }
   },
   "outputs": [],
   "source": [
    "headers = {\n",
    "            'User-Agent': 'Mozilla/5.0 (Windows NT 10.0; Win64; x64) AppleWebKit/537.36 (KHTML, like Gecko) Chrome/72.0.3626.121 Safari/537.36'\n",
    "        }\n",
    "def fetch(url):\n",
    "    try:\n",
    "#         response = requests.get(PROXY_POOL_URL, timeout=100)\n",
    "#         assert response.status_code == 200\n",
    "#         proxy = response.text\n",
    "\n",
    "#         proxies = {'http': 'http://'+proxy, 'https': 'https://'+proxy}\n",
    "        response = requests.get(url, headers=headers, timeout=50)\n",
    "        assert response.status_code == 200\n",
    "        response.encoding = 'utf-8'\n",
    "        return response.text\n",
    "    except:\n",
    "        return None\n",
    "\n",
    "    \n",
    "def parser(html, movie):\n",
    "    if not html:\n",
    "        failed_url.put(movie)\n",
    "        return None\n",
    "    try:\n",
    "        soup = BeautifulSoup(html, 'lxml')\n",
    "        items = list(soup.find_all(\"ul\", class_=\"fleft CommentTabs\"))\n",
    "        if len(items) == 0:\n",
    "            failed_url.put(movie)\n",
    "            return None\n",
    "        for item in items:\n",
    "            comment_nums = item.find(\"li\", class_=\"is-active\").get_text().strip()\n",
    "            #comment = item.find('p').get_text().strip()\n",
    "            content = np.array([*movie, comment_nums])\n",
    "            table.put(content)\n",
    "    except:\n",
    "        print('parser error')\n",
    "        pass\n",
    "\n",
    "\n",
    "def download(movie):\n",
    "    html = fetch(movie[3])\n",
    "    parser(html, movie)"
   ]
  },
  {
   "cell_type": "code",
   "execution_count": 197,
   "metadata": {
    "ExecuteTime": {
     "end_time": "2019-03-18T03:40:36.413911Z",
     "start_time": "2019-03-18T03:40:36.409900Z"
    }
   },
   "outputs": [
    {
     "ename": "IndentationError",
     "evalue": "unindent does not match any outer indentation level (<tokenize>, line 9)",
     "output_type": "error",
     "traceback": [
      "\u001b[1;36m  File \u001b[1;32m\"<tokenize>\"\u001b[1;36m, line \u001b[1;32m9\u001b[0m\n\u001b[1;33m    </ul>\u001b[0m\n\u001b[1;37m    ^\u001b[0m\n\u001b[1;31mIndentationError\u001b[0m\u001b[1;31m:\u001b[0m unindent does not match any outer indentation level\n"
     ]
    }
   ],
   "source": [
    "<ul class=\"fleft CommentTabs\">\n",
    "            <li class=\"is-active\">\n",
    "                <span>看过(8)</span>\n",
    "            </li>\n",
    "\n",
    "            <li>\n",
    "                <a href=\"?status=F\">想看(2)</a>\n",
    "            </li>\n",
    "    </ul>"
   ]
  },
  {
   "cell_type": "code",
   "execution_count": 205,
   "metadata": {
    "ExecuteTime": {
     "end_time": "2019-03-18T03:40:55.569381Z",
     "start_time": "2019-03-18T03:40:55.559353Z"
    },
    "scrolled": true
   },
   "outputs": [
    {
     "data": {
      "text/html": [
       "<div>\n",
       "<style scoped>\n",
       "    .dataframe tbody tr th:only-of-type {\n",
       "        vertical-align: middle;\n",
       "    }\n",
       "\n",
       "    .dataframe tbody tr th {\n",
       "        vertical-align: top;\n",
       "    }\n",
       "\n",
       "    .dataframe thead th {\n",
       "        text-align: right;\n",
       "    }\n",
       "</style>\n",
       "<table border=\"1\" class=\"dataframe\">\n",
       "  <thead>\n",
       "    <tr style=\"text-align: right;\">\n",
       "      <th></th>\n",
       "      <th>name</th>\n",
       "      <th>rating</th>\n",
       "      <th>href</th>\n",
       "      <th>comment_href</th>\n",
       "    </tr>\n",
       "  </thead>\n",
       "  <tbody>\n",
       "    <tr>\n",
       "      <th>0</th>\n",
       "      <td>肖申克的救赎</td>\n",
       "      <td>9.6</td>\n",
       "      <td>https://movie.douban.com/subject/1292052/</td>\n",
       "      <td>https://movie.douban.com/subject/1292052/comme...</td>\n",
       "    </tr>\n",
       "    <tr>\n",
       "      <th>1</th>\n",
       "      <td>我不是药神</td>\n",
       "      <td>9.0</td>\n",
       "      <td>https://movie.douban.com/subject/26752088/</td>\n",
       "      <td>https://movie.douban.com/subject/26752088/comm...</td>\n",
       "    </tr>\n",
       "    <tr>\n",
       "      <th>2</th>\n",
       "      <td>泰坦尼克号</td>\n",
       "      <td>9.3</td>\n",
       "      <td>https://movie.douban.com/subject/1292722/</td>\n",
       "      <td>https://movie.douban.com/subject/1292722/comme...</td>\n",
       "    </tr>\n",
       "    <tr>\n",
       "      <th>3</th>\n",
       "      <td>这个杀手不太冷</td>\n",
       "      <td>9.4</td>\n",
       "      <td>https://movie.douban.com/subject/1295644/</td>\n",
       "      <td>https://movie.douban.com/subject/1295644/comme...</td>\n",
       "    </tr>\n",
       "    <tr>\n",
       "      <th>4</th>\n",
       "      <td>疯狂动物城</td>\n",
       "      <td>9.2</td>\n",
       "      <td>https://movie.douban.com/subject/25662329/</td>\n",
       "      <td>https://movie.douban.com/subject/25662329/comm...</td>\n",
       "    </tr>\n",
       "  </tbody>\n",
       "</table>\n",
       "</div>"
      ],
      "text/plain": [
       "      name  rating                                        href  \\\n",
       "0   肖申克的救赎     9.6   https://movie.douban.com/subject/1292052/   \n",
       "1    我不是药神     9.0  https://movie.douban.com/subject/26752088/   \n",
       "2    泰坦尼克号     9.3   https://movie.douban.com/subject/1292722/   \n",
       "3  这个杀手不太冷     9.4   https://movie.douban.com/subject/1295644/   \n",
       "4    疯狂动物城     9.2  https://movie.douban.com/subject/25662329/   \n",
       "\n",
       "                                        comment_href  \n",
       "0  https://movie.douban.com/subject/1292052/comme...  \n",
       "1  https://movie.douban.com/subject/26752088/comm...  \n",
       "2  https://movie.douban.com/subject/1292722/comme...  \n",
       "3  https://movie.douban.com/subject/1295644/comme...  \n",
       "4  https://movie.douban.com/subject/25662329/comm...  "
      ]
     },
     "execution_count": 205,
     "metadata": {},
     "output_type": "execute_result"
    }
   ],
   "source": [
    "df.head()"
   ]
  },
  {
   "cell_type": "code",
   "execution_count": 213,
   "metadata": {
    "ExecuteTime": {
     "end_time": "2019-03-18T03:42:21.518834Z",
     "start_time": "2019-03-18T03:42:21.242566Z"
    }
   },
   "outputs": [],
   "source": [
    "download(df.values[0])"
   ]
  },
  {
   "cell_type": "code",
   "execution_count": 207,
   "metadata": {
    "ExecuteTime": {
     "end_time": "2019-03-18T03:41:00.777338Z",
     "start_time": "2019-03-18T03:41:00.759289Z"
    }
   },
   "outputs": [
    {
     "data": {
      "text/plain": [
       "'https://movie.douban.com/subject/26794427/comments?status=P'"
      ]
     },
     "execution_count": 207,
     "metadata": {},
     "output_type": "execute_result"
    }
   ],
   "source": [
    "df.values[-1][3]"
   ]
  },
  {
   "cell_type": "code",
   "execution_count": 208,
   "metadata": {
    "ExecuteTime": {
     "end_time": "2019-03-18T03:41:03.065553Z",
     "start_time": "2019-03-18T03:41:03.053526Z"
    }
   },
   "outputs": [],
   "source": [
    "df_res = pd.DataFrame(list(table.queue), columns=['name', 'rating', 'href','comment_href', 'comment_nums'])\n",
    "df_failed = pd.DataFrame(list(failed_url.queue), columns=['name', 'rating', 'href', 'comment_href'])"
   ]
  },
  {
   "cell_type": "code",
   "execution_count": 209,
   "metadata": {
    "ExecuteTime": {
     "end_time": "2019-03-18T03:41:03.489290Z",
     "start_time": "2019-03-18T03:41:03.480266Z"
    }
   },
   "outputs": [
    {
     "data": {
      "text/html": [
       "<div>\n",
       "<style scoped>\n",
       "    .dataframe tbody tr th:only-of-type {\n",
       "        vertical-align: middle;\n",
       "    }\n",
       "\n",
       "    .dataframe tbody tr th {\n",
       "        vertical-align: top;\n",
       "    }\n",
       "\n",
       "    .dataframe thead th {\n",
       "        text-align: right;\n",
       "    }\n",
       "</style>\n",
       "<table border=\"1\" class=\"dataframe\">\n",
       "  <thead>\n",
       "    <tr style=\"text-align: right;\">\n",
       "      <th></th>\n",
       "      <th>name</th>\n",
       "      <th>rating</th>\n",
       "      <th>href</th>\n",
       "      <th>comment_href</th>\n",
       "      <th>comment_nums</th>\n",
       "    </tr>\n",
       "  </thead>\n",
       "  <tbody>\n",
       "    <tr>\n",
       "      <th>0</th>\n",
       "      <td>肖申克的救赎</td>\n",
       "      <td>9.6</td>\n",
       "      <td>https://movie.douban.com/subject/1292052/</td>\n",
       "      <td>https://movie.douban.com/subject/1292052/comme...</td>\n",
       "      <td>看过(266508)</td>\n",
       "    </tr>\n",
       "  </tbody>\n",
       "</table>\n",
       "</div>"
      ],
      "text/plain": [
       "     name rating                                       href  \\\n",
       "0  肖申克的救赎    9.6  https://movie.douban.com/subject/1292052/   \n",
       "\n",
       "                                        comment_href comment_nums  \n",
       "0  https://movie.douban.com/subject/1292052/comme...   看过(266508)  "
      ]
     },
     "execution_count": 209,
     "metadata": {},
     "output_type": "execute_result"
    }
   ],
   "source": [
    "df_res"
   ]
  },
  {
   "cell_type": "code",
   "execution_count": 104,
   "metadata": {
    "ExecuteTime": {
     "end_time": "2019-03-18T02:43:38.449694Z",
     "start_time": "2019-03-18T02:43:38.446685Z"
    }
   },
   "outputs": [],
   "source": [
    "final_res = df_movies"
   ]
  },
  {
   "cell_type": "code",
   "execution_count": null,
   "metadata": {},
   "outputs": [],
   "source": [
    "df_movies = pd.DataFrame(columns=['name', 'rating', 'comment_nums', 'href'])\n",
    "def scrape_movie_href():\n",
    "    for i in tqdm(range(0, end+25, 25)):\n",
    "        url = 'https://www.douban.com/doulist/'+ doulist + '/?start=' + str(i)\n",
    "        html = get_one_page(url)\n",
    "        get_movie_info(html)\n",
    "        time.sleep(random.randint(2, 4))"
   ]
  },
  {
   "cell_type": "markdown",
   "metadata": {},
   "source": [
    "## Combine movies and remove duplicate "
   ]
  },
  {
   "cell_type": "code",
   "execution_count": 104,
   "metadata": {
    "ExecuteTime": {
     "end_time": "2019-03-09T03:56:57.142521Z",
     "start_time": "2019-03-09T03:56:57.067321Z"
    }
   },
   "outputs": [],
   "source": [
    "df1 = pd.read_csv('doulist_13712178.csv')\n",
    "df2 = pd.read_csv('doulist_41896950.csv')\n",
    "df3 = pd.read_csv('doulist_43745992.csv')\n",
    "df4 = pd.read_csv('doulist_43938254.csv')"
   ]
  },
  {
   "cell_type": "code",
   "execution_count": 109,
   "metadata": {
    "ExecuteTime": {
     "end_time": "2019-03-09T04:00:15.607928Z",
     "start_time": "2019-03-09T04:00:15.600910Z"
    }
   },
   "outputs": [],
   "source": [
    "df = pd.concat((df1, df2, df3, df4), axis=0)"
   ]
  },
  {
   "cell_type": "code",
   "execution_count": 120,
   "metadata": {
    "ExecuteTime": {
     "end_time": "2019-03-09T04:03:13.125026Z",
     "start_time": "2019-03-09T04:03:13.117005Z"
    }
   },
   "outputs": [],
   "source": [
    "df.drop_duplicates(subset='href', inplace=True)"
   ]
  },
  {
   "cell_type": "code",
   "execution_count": 132,
   "metadata": {
    "ExecuteTime": {
     "end_time": "2019-03-09T04:11:32.420985Z",
     "start_time": "2019-03-09T04:11:32.405944Z"
    }
   },
   "outputs": [],
   "source": [
    "df.comment_nums = df.comment_nums.str.extract('(\\d+)').astype(int)"
   ]
  },
  {
   "cell_type": "code",
   "execution_count": 136,
   "metadata": {
    "ExecuteTime": {
     "end_time": "2019-03-09T04:13:14.219859Z",
     "start_time": "2019-03-09T04:13:14.213813Z"
    }
   },
   "outputs": [],
   "source": [
    "df = df.sort_values(by='comment_nums', ascending=False).reset_index(drop=True)"
   ]
  },
  {
   "cell_type": "code",
   "execution_count": 138,
   "metadata": {
    "ExecuteTime": {
     "end_time": "2019-03-09T04:13:54.831804Z",
     "start_time": "2019-03-09T04:13:54.792702Z"
    }
   },
   "outputs": [],
   "source": [
    "df.to_csv('movie_info.csv', index=False)"
   ]
  },
  {
   "cell_type": "markdown",
   "metadata": {},
   "source": [
    "## Get movie reviews"
   ]
  },
  {
   "cell_type": "code",
   "execution_count": 296,
   "metadata": {
    "ExecuteTime": {
     "end_time": "2019-03-18T07:18:22.005437Z",
     "start_time": "2019-03-18T07:18:22.002428Z"
    }
   },
   "outputs": [],
   "source": [
    "# movies = pd.read_csv('movie_info.csv')"
   ]
  },
  {
   "cell_type": "code",
   "execution_count": 302,
   "metadata": {
    "ExecuteTime": {
     "end_time": "2019-03-18T07:26:39.495582Z",
     "start_time": "2019-03-18T07:26:39.491064Z"
    }
   },
   "outputs": [
    {
     "data": {
      "text/plain": [
       "16711"
      ]
     },
     "execution_count": 302,
     "metadata": {},
     "output_type": "execute_result"
    }
   ],
   "source": [
    "len(df)"
   ]
  },
  {
   "cell_type": "code",
   "execution_count": 303,
   "metadata": {
    "ExecuteTime": {
     "end_time": "2019-03-18T07:27:33.395555Z",
     "start_time": "2019-03-18T07:27:33.390027Z"
    }
   },
   "outputs": [],
   "source": [
    "# movies_0_1000 = movies.iloc[0:1000] # get 100 negative , 100 positive for every movie\n",
    "# movies_1000_3000 = movies.iloc[1000:2000] # get 40 negative , 40 positive for every movie\n",
    "# movies_3000_3500 = movies.iloc[2000:3500] # get 20 negative , 20 postive for every movie\n",
    "\n",
    "\n",
    "movies_0_3000 = df.iloc[0:3000] # get 40 negative , 40 positive for every movie\n",
    "movies_3000_16000 = df.iloc[3000:16000] # get 20 negative , 20 positive for every movie"
   ]
  },
  {
   "cell_type": "code",
   "execution_count": 308,
   "metadata": {
    "ExecuteTime": {
     "end_time": "2019-03-18T07:29:40.249676Z",
     "start_time": "2019-03-18T07:29:39.887917Z"
    }
   },
   "outputs": [
    {
     "name": "stderr",
     "output_type": "stream",
     "text": [
      "d:\\anaconda\\lib\\site-packages\\pandas\\core\\frame.py:4025: SettingWithCopyWarning: \n",
      "A value is trying to be set on a copy of a slice from a DataFrame\n",
      "\n",
      "See the caveats in the documentation: http://pandas.pydata.org/pandas-docs/stable/indexing.html#indexing-view-versus-copy\n",
      "  return super(DataFrame, self).rename(**kwargs)\n"
     ]
    }
   ],
   "source": [
    "movies_0_3000.rename(columns={'href': 'subject_href'}, inplace=True)\n",
    "movies_3000_16000.rename(columns={'href': 'subject_href'}, inplace=True)"
   ]
  },
  {
   "cell_type": "code",
   "execution_count": 333,
   "metadata": {
    "ExecuteTime": {
     "end_time": "2019-03-18T07:51:15.559241Z",
     "start_time": "2019-03-18T07:51:15.550218Z"
    }
   },
   "outputs": [],
   "source": [
    "columns = ['name', 'rating', 'comment_nums', 'subject_href', 'comment_href','label']\n",
    "df_reviews_url = pd.DataFrame(columns=columns)"
   ]
  },
  {
   "cell_type": "code",
   "execution_count": 338,
   "metadata": {
    "ExecuteTime": {
     "end_time": "2019-03-18T07:52:40.094194Z",
     "start_time": "2019-03-18T07:52:40.091192Z"
    }
   },
   "outputs": [],
   "source": [
    "#movies = movies_0_3000\n",
    "movies = movies_3000_16000"
   ]
  },
  {
   "cell_type": "code",
   "execution_count": 339,
   "metadata": {
    "ExecuteTime": {
     "end_time": "2019-03-18T07:57:32.888635Z",
     "start_time": "2019-03-18T07:52:40.444347Z"
    }
   },
   "outputs": [],
   "source": [
    "for movie in movies.values:\n",
    "    movie = list(movie)\n",
    "    url = movie[2]\n",
    "    for offset in range(0, 20, 20):\n",
    "        for review_type in ['l', 'h']:\n",
    "            movie.append(url + 'comments?start={}&limit=20&sort=new_score&status=P&percent_type={}'.format(offset, review_type))\n",
    "            movie.append(review_type)\n",
    "            df_reviews_url = df_reviews_url.append(pd.Series(movie, index=columns), ignore_index=True)\n",
    "            movie.pop()\n",
    "            movie.pop()"
   ]
  },
  {
   "cell_type": "code",
   "execution_count": 341,
   "metadata": {
    "ExecuteTime": {
     "end_time": "2019-03-18T07:59:46.724199Z",
     "start_time": "2019-03-18T07:59:46.715495Z"
    }
   },
   "outputs": [],
   "source": [
    "df_reviews_url.label = df_reviews_url.label.map({'h':1, 'l':0})"
   ]
  },
  {
   "cell_type": "code",
   "execution_count": 345,
   "metadata": {
    "ExecuteTime": {
     "end_time": "2019-03-18T08:01:11.311063Z",
     "start_time": "2019-03-18T08:01:11.303009Z"
    }
   },
   "outputs": [],
   "source": [
    "df_reviews_url.rename(columns={'comment_nums': 'subject_href', 'subject_href': 'comment_nums'}, inplace=True)"
   ]
  },
  {
   "cell_type": "code",
   "execution_count": 346,
   "metadata": {
    "ExecuteTime": {
     "end_time": "2019-03-18T08:01:13.001531Z",
     "start_time": "2019-03-18T08:01:12.996405Z"
    }
   },
   "outputs": [
    {
     "data": {
      "text/plain": [
       "38000"
      ]
     },
     "execution_count": 346,
     "metadata": {},
     "output_type": "execute_result"
    }
   ],
   "source": [
    "len(df_reviews_url)"
   ]
  },
  {
   "cell_type": "code",
   "execution_count": 347,
   "metadata": {
    "ExecuteTime": {
     "end_time": "2019-03-18T08:01:32.921397Z",
     "start_time": "2019-03-18T08:01:32.590941Z"
    }
   },
   "outputs": [],
   "source": [
    "df_reviews_url.to_csv('reviews_url.csv', index=False)"
   ]
  },
  {
   "cell_type": "code",
   "execution_count": 198,
   "metadata": {
    "ExecuteTime": {
     "end_time": "2019-03-09T04:41:54.428904Z",
     "start_time": "2019-03-09T04:41:54.426899Z"
    }
   },
   "outputs": [],
   "source": [
    "#df_0_1000 = df_reviews_url\n",
    "#df_1000_2000 = df_reviews_url\n",
    "#df_2000_3500 = df_reviews_url"
   ]
  },
  {
   "cell_type": "code",
   "execution_count": 201,
   "metadata": {
    "ExecuteTime": {
     "end_time": "2019-03-09T04:43:41.354798Z",
     "start_time": "2019-03-09T04:43:41.344772Z"
    }
   },
   "outputs": [],
   "source": [
    "df = pd.concat((df_0_1000, df_1000_2000, df_2000_3500), axis=0)"
   ]
  },
  {
   "cell_type": "code",
   "execution_count": 205,
   "metadata": {
    "ExecuteTime": {
     "end_time": "2019-03-09T04:44:49.693523Z",
     "start_time": "2019-03-09T04:44:49.531057Z"
    }
   },
   "outputs": [],
   "source": [
    "df_reviews_url.to_csv('reviews_url.csv', index=False)"
   ]
  },
  {
   "cell_type": "markdown",
   "metadata": {},
   "source": [
    "## Run the multiprocess scrape with proxy pool in VSCODE"
   ]
  },
  {
   "cell_type": "markdown",
   "metadata": {},
   "source": [
    "## Combine all the results and remove redundant"
   ]
  },
  {
   "cell_type": "code",
   "execution_count": 117,
   "metadata": {
    "ExecuteTime": {
     "end_time": "2019-03-09T14:07:24.047691Z",
     "start_time": "2019-03-09T14:07:24.044683Z"
    }
   },
   "outputs": [],
   "source": [
    "filenames = os.listdir('final/')"
   ]
  },
  {
   "cell_type": "code",
   "execution_count": 118,
   "metadata": {
    "ExecuteTime": {
     "end_time": "2019-03-09T14:07:24.404640Z",
     "start_time": "2019-03-09T14:07:24.399626Z"
    }
   },
   "outputs": [
    {
     "data": {
      "text/plain": [
       "['100.csv',\n",
       " '120.csv',\n",
       " '1262.csv',\n",
       " '23863.csv',\n",
       " '240.csv',\n",
       " '241.csv',\n",
       " '2525.csv',\n",
       " '3379.csv',\n",
       " '3525.csv',\n",
       " '3749.csv',\n",
       " '537.csv',\n",
       " '57793.csv',\n",
       " '62286.csv',\n",
       " '66406.csv',\n",
       " '692.csv',\n",
       " '81704.csv',\n",
       " '8983.csv',\n",
       " '9256.csv',\n",
       " '9734.csv']"
      ]
     },
     "execution_count": 118,
     "metadata": {},
     "output_type": "execute_result"
    }
   ],
   "source": [
    "filenames"
   ]
  },
  {
   "cell_type": "code",
   "execution_count": 119,
   "metadata": {
    "ExecuteTime": {
     "end_time": "2019-03-09T14:07:26.691752Z",
     "start_time": "2019-03-09T14:07:24.830802Z"
    }
   },
   "outputs": [],
   "source": [
    "df = pd.concat([pd.read_csv('final/' + filename) for filename in filenames], axis=0)"
   ]
  },
  {
   "cell_type": "code",
   "execution_count": 120,
   "metadata": {
    "ExecuteTime": {
     "end_time": "2019-03-09T14:07:26.698739Z",
     "start_time": "2019-03-09T14:07:26.693726Z"
    }
   },
   "outputs": [
    {
     "data": {
      "text/plain": [
       "336394"
      ]
     },
     "execution_count": 120,
     "metadata": {},
     "output_type": "execute_result"
    }
   ],
   "source": [
    "len(df)"
   ]
  },
  {
   "cell_type": "code",
   "execution_count": 121,
   "metadata": {
    "ExecuteTime": {
     "end_time": "2019-03-09T14:07:26.745864Z",
     "start_time": "2019-03-09T14:07:26.700744Z"
    }
   },
   "outputs": [
    {
     "data": {
      "text/html": [
       "<div>\n",
       "<style scoped>\n",
       "    .dataframe tbody tr th:only-of-type {\n",
       "        vertical-align: middle;\n",
       "    }\n",
       "\n",
       "    .dataframe tbody tr th {\n",
       "        vertical-align: top;\n",
       "    }\n",
       "\n",
       "    .dataframe thead th {\n",
       "        text-align: right;\n",
       "    }\n",
       "</style>\n",
       "<table border=\"1\" class=\"dataframe\">\n",
       "  <thead>\n",
       "    <tr style=\"text-align: right;\">\n",
       "      <th></th>\n",
       "      <th>name</th>\n",
       "      <th>rating</th>\n",
       "      <th>comment_nums</th>\n",
       "      <th>subject_href</th>\n",
       "      <th>comment_href</th>\n",
       "      <th>label</th>\n",
       "      <th>content</th>\n",
       "    </tr>\n",
       "  </thead>\n",
       "  <tbody>\n",
       "    <tr>\n",
       "      <th>0</th>\n",
       "      <td>孤胆特工 아저씨</td>\n",
       "      <td>8.1</td>\n",
       "      <td>134767</td>\n",
       "      <td>https://movie.douban.com/subject/4249355/</td>\n",
       "      <td>https://movie.douban.com/subject/4249355/comme...</td>\n",
       "      <td>1</td>\n",
       "      <td>少女漫画。</td>\n",
       "    </tr>\n",
       "    <tr>\n",
       "      <th>1</th>\n",
       "      <td>孤胆特工 아저씨</td>\n",
       "      <td>8.1</td>\n",
       "      <td>134767</td>\n",
       "      <td>https://movie.douban.com/subject/4249355/</td>\n",
       "      <td>https://movie.douban.com/subject/4249355/comme...</td>\n",
       "      <td>1</td>\n",
       "      <td>身手敏捷剪辑凌厉感情内敛的~大叔</td>\n",
       "    </tr>\n",
       "    <tr>\n",
       "      <th>2</th>\n",
       "      <td>孤胆特工 아저씨</td>\n",
       "      <td>8.1</td>\n",
       "      <td>134767</td>\n",
       "      <td>https://movie.douban.com/subject/4249355/</td>\n",
       "      <td>https://movie.douban.com/subject/4249355/comme...</td>\n",
       "      <td>1</td>\n",
       "      <td>主演很出色</td>\n",
       "    </tr>\n",
       "    <tr>\n",
       "      <th>3</th>\n",
       "      <td>孤胆特工 아저씨</td>\n",
       "      <td>8.1</td>\n",
       "      <td>134767</td>\n",
       "      <td>https://movie.douban.com/subject/4249355/</td>\n",
       "      <td>https://movie.douban.com/subject/4249355/comme...</td>\n",
       "      <td>1</td>\n",
       "      <td>say huh！</td>\n",
       "    </tr>\n",
       "    <tr>\n",
       "      <th>4</th>\n",
       "      <td>孤胆特工 아저씨</td>\n",
       "      <td>8.1</td>\n",
       "      <td>134767</td>\n",
       "      <td>https://movie.douban.com/subject/4249355/</td>\n",
       "      <td>https://movie.douban.com/subject/4249355/comme...</td>\n",
       "      <td>1</td>\n",
       "      <td>“高中生电影”P.S：Brabus碰撞不弹开气囊吗？那看来要小心购买~</td>\n",
       "    </tr>\n",
       "  </tbody>\n",
       "</table>\n",
       "</div>"
      ],
      "text/plain": [
       "       name  rating  comment_nums                               subject_href  \\\n",
       "0  孤胆特工 아저씨     8.1        134767  https://movie.douban.com/subject/4249355/   \n",
       "1  孤胆特工 아저씨     8.1        134767  https://movie.douban.com/subject/4249355/   \n",
       "2  孤胆特工 아저씨     8.1        134767  https://movie.douban.com/subject/4249355/   \n",
       "3  孤胆特工 아저씨     8.1        134767  https://movie.douban.com/subject/4249355/   \n",
       "4  孤胆特工 아저씨     8.1        134767  https://movie.douban.com/subject/4249355/   \n",
       "\n",
       "                                        comment_href  label  \\\n",
       "0  https://movie.douban.com/subject/4249355/comme...      1   \n",
       "1  https://movie.douban.com/subject/4249355/comme...      1   \n",
       "2  https://movie.douban.com/subject/4249355/comme...      1   \n",
       "3  https://movie.douban.com/subject/4249355/comme...      1   \n",
       "4  https://movie.douban.com/subject/4249355/comme...      1   \n",
       "\n",
       "                               content  \n",
       "0                                少女漫画。  \n",
       "1                     身手敏捷剪辑凌厉感情内敛的~大叔  \n",
       "2                                主演很出色  \n",
       "3                             say huh！  \n",
       "4  “高中生电影”P.S：Brabus碰撞不弹开气囊吗？那看来要小心购买~  "
      ]
     },
     "execution_count": 121,
     "metadata": {},
     "output_type": "execute_result"
    }
   ],
   "source": [
    "df.head()"
   ]
  },
  {
   "cell_type": "code",
   "execution_count": 122,
   "metadata": {
    "ExecuteTime": {
     "end_time": "2019-03-09T14:07:27.629244Z",
     "start_time": "2019-03-09T14:07:27.421660Z"
    }
   },
   "outputs": [],
   "source": [
    "df = df.drop_duplicates(subset='content')"
   ]
  },
  {
   "cell_type": "code",
   "execution_count": 123,
   "metadata": {
    "ExecuteTime": {
     "end_time": "2019-03-09T14:07:28.427335Z",
     "start_time": "2019-03-09T14:07:28.423330Z"
    }
   },
   "outputs": [
    {
     "data": {
      "text/plain": [
       "327675"
      ]
     },
     "execution_count": 123,
     "metadata": {},
     "output_type": "execute_result"
    }
   ],
   "source": [
    "len(df)"
   ]
  },
  {
   "cell_type": "code",
   "execution_count": 124,
   "metadata": {
    "ExecuteTime": {
     "end_time": "2019-03-09T14:07:31.255854Z",
     "start_time": "2019-03-09T14:07:31.063343Z"
    }
   },
   "outputs": [],
   "source": [
    "df.dropna(inplace=True)"
   ]
  },
  {
   "cell_type": "code",
   "execution_count": 125,
   "metadata": {
    "ExecuteTime": {
     "end_time": "2019-03-09T14:07:31.415279Z",
     "start_time": "2019-03-09T14:07:31.388207Z"
    }
   },
   "outputs": [],
   "source": [
    "df.drop(['comment_nums', 'subject_href'], axis=1, inplace=True)"
   ]
  },
  {
   "cell_type": "code",
   "execution_count": 126,
   "metadata": {
    "ExecuteTime": {
     "end_time": "2019-03-09T14:07:32.442040Z",
     "start_time": "2019-03-09T14:07:31.751171Z"
    }
   },
   "outputs": [],
   "source": [
    "# shuffle\n",
    "for _ in range(10):\n",
    "    df = df.sample(frac=1)"
   ]
  },
  {
   "cell_type": "code",
   "execution_count": 127,
   "metadata": {
    "ExecuteTime": {
     "end_time": "2019-03-09T14:07:36.232086Z",
     "start_time": "2019-03-09T14:07:36.228074Z"
    }
   },
   "outputs": [],
   "source": [
    "df.reset_index(drop=True, inplace=True)"
   ]
  },
  {
   "cell_type": "code",
   "execution_count": 128,
   "metadata": {
    "ExecuteTime": {
     "end_time": "2019-03-09T14:07:36.660223Z",
     "start_time": "2019-03-09T14:07:36.628138Z"
    }
   },
   "outputs": [
    {
     "data": {
      "text/html": [
       "<div>\n",
       "<style scoped>\n",
       "    .dataframe tbody tr th:only-of-type {\n",
       "        vertical-align: middle;\n",
       "    }\n",
       "\n",
       "    .dataframe tbody tr th {\n",
       "        vertical-align: top;\n",
       "    }\n",
       "\n",
       "    .dataframe thead th {\n",
       "        text-align: right;\n",
       "    }\n",
       "</style>\n",
       "<table border=\"1\" class=\"dataframe\">\n",
       "  <thead>\n",
       "    <tr style=\"text-align: right;\">\n",
       "      <th></th>\n",
       "      <th>name</th>\n",
       "      <th>rating</th>\n",
       "      <th>comment_href</th>\n",
       "      <th>label</th>\n",
       "      <th>content</th>\n",
       "    </tr>\n",
       "  </thead>\n",
       "  <tbody>\n",
       "    <tr>\n",
       "      <th>0</th>\n",
       "      <td>情书 Love Letter</td>\n",
       "      <td>8.9</td>\n",
       "      <td>https://movie.douban.com/subject/1292220/comme...</td>\n",
       "      <td>1</td>\n",
       "      <td>岩井俊二認為回憶是推動自己現在的一大原動力。一般人以為過去是過去，現在是現在，兩者互無關係。...</td>\n",
       "    </tr>\n",
       "    <tr>\n",
       "      <th>1</th>\n",
       "      <td>房间 Room</td>\n",
       "      <td>8.8</td>\n",
       "      <td>https://movie.douban.com/subject/25724855/comm...</td>\n",
       "      <td>1</td>\n",
       "      <td>今年Jacob要是入围了就又没小李子什么事儿了。</td>\n",
       "    </tr>\n",
       "    <tr>\n",
       "      <th>2</th>\n",
       "      <td>美国丽人 American Beauty</td>\n",
       "      <td>8.5</td>\n",
       "      <td>https://movie.douban.com/subject/1292062/comme...</td>\n",
       "      <td>1</td>\n",
       "      <td>请善待深柜，不然会流血牺牲。</td>\n",
       "    </tr>\n",
       "    <tr>\n",
       "      <th>3</th>\n",
       "      <td>夏洛特的网 Charlotte's Web</td>\n",
       "      <td>7.9</td>\n",
       "      <td>https://movie.douban.com/subject/1457218/comme...</td>\n",
       "      <td>0</td>\n",
       "      <td>不是所有猪都有这种好运气。。愚蠢又无聊的人类，等待蜘蛛给他们的神迹。。</td>\n",
       "    </tr>\n",
       "    <tr>\n",
       "      <th>4</th>\n",
       "      <td>云中漫步 A Walk in the Clouds</td>\n",
       "      <td>7.8</td>\n",
       "      <td>https://movie.douban.com/subject/1300945/comme...</td>\n",
       "      <td>1</td>\n",
       "      <td>这真是件好事，你再也没有巧克力可以推销了  \\n哈哈哈哈哈 外祖父好阔爱 当初还纳闷咋那么爱...</td>\n",
       "    </tr>\n",
       "    <tr>\n",
       "      <th>5</th>\n",
       "      <td>假结婚 The Proposal</td>\n",
       "      <td>7.1</td>\n",
       "      <td>https://movie.douban.com/subject/3011102/comme...</td>\n",
       "      <td>1</td>\n",
       "      <td>因为是和你一起看的,所以再烂的片都是好片.</td>\n",
       "    </tr>\n",
       "    <tr>\n",
       "      <th>6</th>\n",
       "      <td>天才一族 The Royal Tenenbaums</td>\n",
       "      <td>8.1</td>\n",
       "      <td>https://movie.douban.com/subject/1306031/comme...</td>\n",
       "      <td>0</td>\n",
       "      <td>对这种风格的片喜欢不了，也许我就是适合看大俗片</td>\n",
       "    </tr>\n",
       "    <tr>\n",
       "      <th>7</th>\n",
       "      <td>空中大灌篮 Space Jam</td>\n",
       "      <td>7.0</td>\n",
       "      <td>https://movie.douban.com/subject/1300659/comme...</td>\n",
       "      <td>1</td>\n",
       "      <td>不知道为何，喜欢这部超过拯救兔子罗杰，大概是因为太爱宾尼兔~~~</td>\n",
       "    </tr>\n",
       "    <tr>\n",
       "      <th>8</th>\n",
       "      <td>马戏之王 The Greatest Showman</td>\n",
       "      <td>7.7</td>\n",
       "      <td>https://movie.douban.com/subject/3914513/comme...</td>\n",
       "      <td>0</td>\n",
       "      <td>既然是马戏之王，叙事的核心本就该落脚在马戏上，或者至少马戏要作为重要的推动情节发展元素。但这...</td>\n",
       "    </tr>\n",
       "    <tr>\n",
       "      <th>9</th>\n",
       "      <td>无法无天 Lawless</td>\n",
       "      <td>7.3</td>\n",
       "      <td>https://movie.douban.com/subject/3025809/comme...</td>\n",
       "      <td>1</td>\n",
       "      <td>编剧是NICK CAVE!!!!!!收个编剧还可以送配乐啊……</td>\n",
       "    </tr>\n",
       "    <tr>\n",
       "      <th>10</th>\n",
       "      <td>老手 베테랑</td>\n",
       "      <td>7.6</td>\n",
       "      <td>https://movie.douban.com/subject/25728010/comm...</td>\n",
       "      <td>1</td>\n",
       "      <td>确实港片气质，黄政民过火，刘亚仁癫狂。PS：韩国85后终于出了扛鼎之人，我国呢？</td>\n",
       "    </tr>\n",
       "    <tr>\n",
       "      <th>11</th>\n",
       "      <td>一九四二</td>\n",
       "      <td>7.5</td>\n",
       "      <td>https://movie.douban.com/subject/6011805/comme...</td>\n",
       "      <td>1</td>\n",
       "      <td>打一星的人的良心在哪？</td>\n",
       "    </tr>\n",
       "    <tr>\n",
       "      <th>12</th>\n",
       "      <td>西北偏北 North by Northwest</td>\n",
       "      <td>8.2</td>\n",
       "      <td>https://movie.douban.com/subject/1295872/comme...</td>\n",
       "      <td>1</td>\n",
       "      <td>即使是60年后看仍然悬念迭起目不转睛， 部分手法显得老旧，但这也是技术进步的必经之路。经典的...</td>\n",
       "    </tr>\n",
       "    <tr>\n",
       "      <th>13</th>\n",
       "      <td>香水 Perfume: The Story of a Murderer</td>\n",
       "      <td>8.5</td>\n",
       "      <td>https://movie.douban.com/subject/1760622/comme...</td>\n",
       "      <td>1</td>\n",
       "      <td>那个导演继续着他对于影片的想象力，但是没有原著精彩。</td>\n",
       "    </tr>\n",
       "    <tr>\n",
       "      <th>14</th>\n",
       "      <td>伯德小姐 Lady Bird</td>\n",
       "      <td>7.9</td>\n",
       "      <td>https://movie.douban.com/subject/26588314/comm...</td>\n",
       "      <td>1</td>\n",
       "      <td>实在是很喜欢，太喜欢罗南妹子了。Sacramento选的很妙，顺便表达下宗教观念和政治立场。...</td>\n",
       "    </tr>\n",
       "    <tr>\n",
       "      <th>15</th>\n",
       "      <td>一步之遥</td>\n",
       "      <td>6.4</td>\n",
       "      <td>https://movie.douban.com/subject/6126442/comme...</td>\n",
       "      <td>0</td>\n",
       "      <td>@国金百丽宫 全片无一人有灵魂。一个杰出却依旧没有逃过自我的人，而且很可能这就是他的结局了，...</td>\n",
       "    </tr>\n",
       "    <tr>\n",
       "      <th>16</th>\n",
       "      <td>葬礼上的死亡 Death at a Funeral</td>\n",
       "      <td>8.1</td>\n",
       "      <td>https://movie.douban.com/subject/2003389/comme...</td>\n",
       "      <td>1</td>\n",
       "      <td>混乱精致，搞笑感人，深沉轻扬，话痨留白，无论戏里戏外这都是足够轻松的一场观影之旅，英伦喜剧的...</td>\n",
       "    </tr>\n",
       "    <tr>\n",
       "      <th>17</th>\n",
       "      <td>天才瑞普利 The Talented Mr. Ripley</td>\n",
       "      <td>8.2</td>\n",
       "      <td>https://movie.douban.com/subject/1295045/comme...</td>\n",
       "      <td>1</td>\n",
       "      <td>好故事。逻辑强，细节处处俱到。可惜主角虽说演技好，就太丑了点。不然我不会对最后他没有被绳之以...</td>\n",
       "    </tr>\n",
       "    <tr>\n",
       "      <th>18</th>\n",
       "      <td>我自己的爱达荷 My Own Private Idaho</td>\n",
       "      <td>8.2</td>\n",
       "      <td>https://movie.douban.com/subject/1292792/comme...</td>\n",
       "      <td>1</td>\n",
       "      <td>红了一个里维斯，死了一个菲尼克斯。</td>\n",
       "    </tr>\n",
       "    <tr>\n",
       "      <th>19</th>\n",
       "      <td>梅子鸡之味 Poulet aux prunes</td>\n",
       "      <td>8.0</td>\n",
       "      <td>https://movie.douban.com/subject/5151357/comme...</td>\n",
       "      <td>0</td>\n",
       "      <td>浪费我那么多时间又不知所云，气死我了。</td>\n",
       "    </tr>\n",
       "    <tr>\n",
       "      <th>20</th>\n",
       "      <td>变形金刚5：最后的骑士 Transformers: The Last Knight</td>\n",
       "      <td>4.9</td>\n",
       "      <td>https://movie.douban.com/subject/25824686/comm...</td>\n",
       "      <td>0</td>\n",
       "      <td>感觉看了好几部片子，从《星球大战：：山寨BB8的觉醒》、《亚瑟王密码》、《独立日：更大更强更...</td>\n",
       "    </tr>\n",
       "    <tr>\n",
       "      <th>21</th>\n",
       "      <td>战马 War Horse</td>\n",
       "      <td>8.1</td>\n",
       "      <td>https://movie.douban.com/subject/4206436/comme...</td>\n",
       "      <td>1</td>\n",
       "      <td>好感人</td>\n",
       "    </tr>\n",
       "    <tr>\n",
       "      <th>22</th>\n",
       "      <td>茜茜公主3 Sissi - Schicksalsjahre einer Kaiserin</td>\n",
       "      <td>8.4</td>\n",
       "      <td>https://movie.douban.com/subject/1297644/comme...</td>\n",
       "      <td>1</td>\n",
       "      <td>整个茜茜系列中最难以忘怀的就是美丽的实景拍摄，华丽的装扮，施耐德的本色发挥以及上译那批老人的...</td>\n",
       "    </tr>\n",
       "    <tr>\n",
       "      <th>23</th>\n",
       "      <td>神偷奶爸 Despicable Me</td>\n",
       "      <td>8.5</td>\n",
       "      <td>https://movie.douban.com/subject/3287562/comme...</td>\n",
       "      <td>1</td>\n",
       "      <td>开场很好 结尾弱了 香蕉们太可爱 加一星</td>\n",
       "    </tr>\n",
       "    <tr>\n",
       "      <th>24</th>\n",
       "      <td>泰迪熊 Ted</td>\n",
       "      <td>7.0</td>\n",
       "      <td>https://movie.douban.com/subject/4807924/comme...</td>\n",
       "      <td>0</td>\n",
       "      <td>或许因为期望过高，整体让人失望。没有海量的笑点，没有流畅的叙事。ted本身也不够贱——除了卖...</td>\n",
       "    </tr>\n",
       "    <tr>\n",
       "      <th>25</th>\n",
       "      <td>龙门飞甲</td>\n",
       "      <td>6.7</td>\n",
       "      <td>https://movie.douban.com/subject/4896304/comme...</td>\n",
       "      <td>0</td>\n",
       "      <td>跟新龙门客栈比，真是有点差，港片怎么了？武侠怎么了？</td>\n",
       "    </tr>\n",
       "    <tr>\n",
       "      <th>26</th>\n",
       "      <td>海豚湾 The Cove</td>\n",
       "      <td>9.3</td>\n",
       "      <td>https://movie.douban.com/subject/3442220/comme...</td>\n",
       "      <td>1</td>\n",
       "      <td>正如银河系漫游指南开场所说\"so long and thanks for all the f...</td>\n",
       "    </tr>\n",
       "    <tr>\n",
       "      <th>27</th>\n",
       "      <td>天堂可以等待 Heaven Can Wait</td>\n",
       "      <td>8.0</td>\n",
       "      <td>https://movie.douban.com/subject/1293608/comme...</td>\n",
       "      <td>0</td>\n",
       "      <td>还是黑白的刘别谦好呀～这部technicolor颜色有点太艳丽。虽然还是轻快的节奏但是故事和...</td>\n",
       "    </tr>\n",
       "    <tr>\n",
       "      <th>28</th>\n",
       "      <td>电锯惊魂2 Saw II</td>\n",
       "      <td>8.2</td>\n",
       "      <td>https://movie.douban.com/subject/1309045/comme...</td>\n",
       "      <td>0</td>\n",
       "      <td>剧本下降明显。沦为机关秀...</td>\n",
       "    </tr>\n",
       "    <tr>\n",
       "      <th>29</th>\n",
       "      <td>指环王1：魔戒再现 The Lord of the Rings: The Fellowshi...</td>\n",
       "      <td>9.0</td>\n",
       "      <td>https://movie.douban.com/subject/1291571/comme...</td>\n",
       "      <td>0</td>\n",
       "      <td>感觉乱七八糟的就开始了，对于这种魔幻小说没有太大好感//看完小说觉得稍微能够理解了。但是不管...</td>\n",
       "    </tr>\n",
       "    <tr>\n",
       "      <th>...</th>\n",
       "      <td>...</td>\n",
       "      <td>...</td>\n",
       "      <td>...</td>\n",
       "      <td>...</td>\n",
       "      <td>...</td>\n",
       "    </tr>\n",
       "    <tr>\n",
       "      <th>327644</th>\n",
       "      <td>歌舞青春 High School Musical</td>\n",
       "      <td>7.7</td>\n",
       "      <td>https://movie.douban.com/subject/1765009/comme...</td>\n",
       "      <td>1</td>\n",
       "      <td>青春和音乐，很无敌的组合</td>\n",
       "    </tr>\n",
       "    <tr>\n",
       "      <th>327645</th>\n",
       "      <td>非常完美</td>\n",
       "      <td>5.9</td>\n",
       "      <td>https://movie.douban.com/subject/3240208/comme...</td>\n",
       "      <td>1</td>\n",
       "      <td>相当凑合</td>\n",
       "    </tr>\n",
       "    <tr>\n",
       "      <th>327646</th>\n",
       "      <td>速度与激情4 Fast &amp; Furious</td>\n",
       "      <td>7.7</td>\n",
       "      <td>https://movie.douban.com/subject/2132930/comme...</td>\n",
       "      <td>1</td>\n",
       "      <td>炫赛车和车技啊</td>\n",
       "    </tr>\n",
       "    <tr>\n",
       "      <th>327647</th>\n",
       "      <td>爱比死更冷 Liebe ist kälter als der Tod</td>\n",
       "      <td>7.3</td>\n",
       "      <td>https://movie.douban.com/subject/1307684/comme...</td>\n",
       "      <td>1</td>\n",
       "      <td>德国素描群像。舞台框景的先验之作。极简的法X，就如香特尔的《你我他她》或者寺山的《双头女》。...</td>\n",
       "    </tr>\n",
       "    <tr>\n",
       "      <th>327648</th>\n",
       "      <td>大鱼海棠</td>\n",
       "      <td>6.7</td>\n",
       "      <td>https://movie.douban.com/subject/5045678/comme...</td>\n",
       "      <td>1</td>\n",
       "      <td>好看。建立了自己的世界观。椿的抉择任性，伤害了所有的人，最后她舍弃生命来为自己赎罪，这点打动...</td>\n",
       "    </tr>\n",
       "    <tr>\n",
       "      <th>327649</th>\n",
       "      <td>百元之恋 百円の恋</td>\n",
       "      <td>8.3</td>\n",
       "      <td>https://movie.douban.com/subject/25761178/comm...</td>\n",
       "      <td>1</td>\n",
       "      <td>废物一生只想赢一次。前后两截是完全不同的画风，确实挺好看</td>\n",
       "    </tr>\n",
       "    <tr>\n",
       "      <th>327650</th>\n",
       "      <td>少林足球</td>\n",
       "      <td>7.6</td>\n",
       "      <td>https://movie.douban.com/subject/1297747/comme...</td>\n",
       "      <td>0</td>\n",
       "      <td>在复出前就是搞笑桥段，在复出后就是尬桥段，很奇怪。无论如何，如果在后辈面前把这个片拿出来说这...</td>\n",
       "    </tr>\n",
       "    <tr>\n",
       "      <th>327651</th>\n",
       "      <td>变形金刚2 Transformers: Revenge of the Fallen</td>\n",
       "      <td>7.6</td>\n",
       "      <td>https://movie.douban.com/subject/2146991/comme...</td>\n",
       "      <td>0</td>\n",
       "      <td>墨菲斯他们扫盲说变形金刚不是科幻，那么标签似乎没得怎么加了~(*^__^*) 嘻嘻……，觉得...</td>\n",
       "    </tr>\n",
       "    <tr>\n",
       "      <th>327652</th>\n",
       "      <td>泰山 Tarzan</td>\n",
       "      <td>7.6</td>\n",
       "      <td>https://movie.douban.com/subject/1294766/comme...</td>\n",
       "      <td>0</td>\n",
       "      <td>可惜了这个名字，印象不好</td>\n",
       "    </tr>\n",
       "    <tr>\n",
       "      <th>327653</th>\n",
       "      <td>从你的全世界路过</td>\n",
       "      <td>5.2</td>\n",
       "      <td>https://movie.douban.com/subject/26280528/comm...</td>\n",
       "      <td>1</td>\n",
       "      <td>老家县城看的电影，影院就在初中隔壁，那个串串摊还在，电影结束后吃了一下，味道还是那个味道，只...</td>\n",
       "    </tr>\n",
       "    <tr>\n",
       "      <th>327654</th>\n",
       "      <td>猎人之夜 The Night of the Hunter</td>\n",
       "      <td>8.0</td>\n",
       "      <td>https://movie.douban.com/subject/1293582/comme...</td>\n",
       "      <td>1</td>\n",
       "      <td>Film noir风格的fairy tale. 自从看了Psycho之后我好像特别会喜爱这种...</td>\n",
       "    </tr>\n",
       "    <tr>\n",
       "      <th>327655</th>\n",
       "      <td>整蛊专家 整蠱專家</td>\n",
       "      <td>7.5</td>\n",
       "      <td>https://movie.douban.com/subject/1299680/comme...</td>\n",
       "      <td>1</td>\n",
       "      <td>本片算是提携刘德华的吧？遗憾的是一只没有石斑瑜配音版本。</td>\n",
       "    </tr>\n",
       "    <tr>\n",
       "      <th>327656</th>\n",
       "      <td>生化危机4：战神再生 Resident Evil: Afterlife</td>\n",
       "      <td>6.4</td>\n",
       "      <td>https://movie.douban.com/subject/3041294/comme...</td>\n",
       "      <td>0</td>\n",
       "      <td>還是會繼續看的... 囧rz</td>\n",
       "    </tr>\n",
       "    <tr>\n",
       "      <th>327657</th>\n",
       "      <td>第六感 The Sixth Sense</td>\n",
       "      <td>8.8</td>\n",
       "      <td>https://movie.douban.com/subject/1297630/comme...</td>\n",
       "      <td>1</td>\n",
       "      <td>一部以结局见长的电影，同时又兼具惊悚与爱，perfect!Haley Joel Osment...</td>\n",
       "    </tr>\n",
       "    <tr>\n",
       "      <th>327658</th>\n",
       "      <td>意大利式离婚 Divorzio all'italiana</td>\n",
       "      <td>8.4</td>\n",
       "      <td>https://movie.douban.com/subject/1303186/comme...</td>\n",
       "      <td>0</td>\n",
       "      <td>好久没遇到 翻译极差,故事发展极难看,音乐极催人入眠的片了,一无是处到极点.也是了不起.</td>\n",
       "    </tr>\n",
       "    <tr>\n",
       "      <th>327659</th>\n",
       "      <td>亲切的金子 친절한 금자씨</td>\n",
       "      <td>7.6</td>\n",
       "      <td>https://movie.douban.com/subject/1412579/comme...</td>\n",
       "      <td>0</td>\n",
       "      <td>除了对我进行了拉拉的恶心启蒙，其他我都记不起来……</td>\n",
       "    </tr>\n",
       "    <tr>\n",
       "      <th>327660</th>\n",
       "      <td>克莱默夫妇 Kramer vs. Kramer</td>\n",
       "      <td>8.5</td>\n",
       "      <td>https://movie.douban.com/subject/1300685/comme...</td>\n",
       "      <td>1</td>\n",
       "      <td>女性主义背景大大的加分，有趣的是它并不强调从“女性”视角出发，反倒只给予了Joanna一定审...</td>\n",
       "    </tr>\n",
       "    <tr>\n",
       "      <th>327661</th>\n",
       "      <td>醉乡民谣 Inside Llewyn Davis</td>\n",
       "      <td>8.1</td>\n",
       "      <td>https://movie.douban.com/subject/6887029/comme...</td>\n",
       "      <td>1</td>\n",
       "      <td>科恩兄弟用一个有才华的loser永远是个loser的故事让我回到了此前一直纠结的选择之中，他...</td>\n",
       "    </tr>\n",
       "    <tr>\n",
       "      <th>327662</th>\n",
       "      <td>驯龙高手2 How to Train Your Dragon 2</td>\n",
       "      <td>7.9</td>\n",
       "      <td>https://movie.douban.com/subject/4824512/comme...</td>\n",
       "      <td>1</td>\n",
       "      <td>男主的族长爸爸领便当了~~不开心~~但失踪20年的妈咪又找回来了~~好开心</td>\n",
       "    </tr>\n",
       "    <tr>\n",
       "      <th>327663</th>\n",
       "      <td>花魁 さくらん</td>\n",
       "      <td>8.1</td>\n",
       "      <td>https://movie.douban.com/subject/1850963/comme...</td>\n",
       "      <td>0</td>\n",
       "      <td>好一般，土屋安娜长得更一般。。。</td>\n",
       "    </tr>\n",
       "    <tr>\n",
       "      <th>327664</th>\n",
       "      <td>穆赫兰道 Mulholland Dr.</td>\n",
       "      <td>8.3</td>\n",
       "      <td>https://movie.douban.com/subject/1292217/comme...</td>\n",
       "      <td>0</td>\n",
       "      <td>我和大脑袋一直在等着把故事交代清楚的N分钟营救，不想自己的智商遭到了莫大的嘲讽，看了影评才懂...</td>\n",
       "    </tr>\n",
       "    <tr>\n",
       "      <th>327665</th>\n",
       "      <td>秋天的故事 Conte d'automne</td>\n",
       "      <td>8.3</td>\n",
       "      <td>https://movie.douban.com/subject/1294140/comme...</td>\n",
       "      <td>1</td>\n",
       "      <td>Si la vie est un voyage, on y souhaite plein b...</td>\n",
       "    </tr>\n",
       "    <tr>\n",
       "      <th>327666</th>\n",
       "      <td>菲洛梅娜 Philomena</td>\n",
       "      <td>8.4</td>\n",
       "      <td>https://movie.douban.com/subject/19973780/comm...</td>\n",
       "      <td>1</td>\n",
       "      <td>影片总体的基调是温婉的，即使在情感凝聚最为浓烈的时刻，也是保持适度的克制。</td>\n",
       "    </tr>\n",
       "    <tr>\n",
       "      <th>327667</th>\n",
       "      <td>长江七号</td>\n",
       "      <td>6.6</td>\n",
       "      <td>https://movie.douban.com/subject/1961963/comme...</td>\n",
       "      <td>1</td>\n",
       "      <td>不知道为什么评论很多都说不好看 当时还记得自己看哭了 还有很多好笑的点啊</td>\n",
       "    </tr>\n",
       "    <tr>\n",
       "      <th>327668</th>\n",
       "      <td>埃及艳后的任务 Astérix &amp; Obélix: Mission Cléopâtre</td>\n",
       "      <td>7.1</td>\n",
       "      <td>https://movie.douban.com/subject/1305010/comme...</td>\n",
       "      <td>0</td>\n",
       "      <td>这部电影是用来说明法国人有多二的么？尽管他们把它在这部电影里称之为喜剧</td>\n",
       "    </tr>\n",
       "    <tr>\n",
       "      <th>327669</th>\n",
       "      <td>向左走．向右走</td>\n",
       "      <td>6.9</td>\n",
       "      <td>https://movie.douban.com/subject/1308587/comme...</td>\n",
       "      <td>0</td>\n",
       "      <td>国产爱情电影中不错的了</td>\n",
       "    </tr>\n",
       "    <tr>\n",
       "      <th>327670</th>\n",
       "      <td>无敌破坏王2：大闹互联网 Ralph Breaks the Internet</td>\n",
       "      <td>8.1</td>\n",
       "      <td>https://movie.douban.com/subject/20438964/comm...</td>\n",
       "      <td>1</td>\n",
       "      <td>果然是不负期待！年初有《头号玩家》，年底有《无敌破坏王2》，各种彩蛋根本看不过来，对竞价拍卖...</td>\n",
       "    </tr>\n",
       "    <tr>\n",
       "      <th>327671</th>\n",
       "      <td>女朋友○男朋友</td>\n",
       "      <td>7.5</td>\n",
       "      <td>https://movie.douban.com/subject/6829652/comme...</td>\n",
       "      <td>0</td>\n",
       "      <td>后面完全不知道导演想干嘛</td>\n",
       "    </tr>\n",
       "    <tr>\n",
       "      <th>327672</th>\n",
       "      <td>可可西里</td>\n",
       "      <td>8.7</td>\n",
       "      <td>https://movie.douban.com/subject/1308857/comme...</td>\n",
       "      <td>1</td>\n",
       "      <td>中国大陆</td>\n",
       "    </tr>\n",
       "    <tr>\n",
       "      <th>327673</th>\n",
       "      <td>早间主播 Morning Glory</td>\n",
       "      <td>7.7</td>\n",
       "      <td>https://movie.douban.com/subject/3392569/comme...</td>\n",
       "      <td>1</td>\n",
       "      <td>我从来不看美国的剧情片，但冲着海量笑点，去看了，但实际上笑点没有我想象中那么多……这样的励志...</td>\n",
       "    </tr>\n",
       "  </tbody>\n",
       "</table>\n",
       "<p>327674 rows × 5 columns</p>\n",
       "</div>"
      ],
      "text/plain": [
       "                                                     name  rating  \\\n",
       "0                                          情书 Love Letter     8.9   \n",
       "1                                                 房间 Room     8.8   \n",
       "2                                    美国丽人 American Beauty     8.5   \n",
       "3                                   夏洛特的网 Charlotte's Web     7.9   \n",
       "4                               云中漫步 A Walk in the Clouds     7.8   \n",
       "5                                        假结婚 The Proposal     7.1   \n",
       "6                               天才一族 The Royal Tenenbaums     8.1   \n",
       "7                                         空中大灌篮 Space Jam     7.0   \n",
       "8                               马戏之王 The Greatest Showman     7.7   \n",
       "9                                            无法无天 Lawless     7.3   \n",
       "10                                                 老手 베테랑     7.6   \n",
       "11                                                   一九四二     7.5   \n",
       "12                                西北偏北 North by Northwest     8.2   \n",
       "13                    香水 Perfume: The Story of a Murderer     8.5   \n",
       "14                                         伯德小姐 Lady Bird     7.9   \n",
       "15                                                   一步之遥     6.4   \n",
       "16                              葬礼上的死亡 Death at a Funeral     8.1   \n",
       "17                          天才瑞普利 The Talented Mr. Ripley     8.2   \n",
       "18                           我自己的爱达荷 My Own Private Idaho     8.2   \n",
       "19                                梅子鸡之味 Poulet aux prunes     8.0   \n",
       "20              变形金刚5：最后的骑士 Transformers: The Last Knight     4.9   \n",
       "21                                           战马 War Horse     8.1   \n",
       "22           茜茜公主3 Sissi - Schicksalsjahre einer Kaiserin     8.4   \n",
       "23                                     神偷奶爸 Despicable Me     8.5   \n",
       "24                                                泰迪熊 Ted     7.0   \n",
       "25                                                   龙门飞甲     6.7   \n",
       "26                                           海豚湾 The Cove     9.3   \n",
       "27                                 天堂可以等待 Heaven Can Wait     8.0   \n",
       "28                                           电锯惊魂2 Saw II     8.2   \n",
       "29      指环王1：魔戒再现 The Lord of the Rings: The Fellowshi...     9.0   \n",
       "...                                                   ...     ...   \n",
       "327644                           歌舞青春 High School Musical     7.7   \n",
       "327645                                               非常完美     5.9   \n",
       "327646                              速度与激情4 Fast & Furious     7.7   \n",
       "327647                 爱比死更冷 Liebe ist kälter als der Tod     7.3   \n",
       "327648                                               大鱼海棠     6.7   \n",
       "327649                                          百元之恋 百円の恋     8.3   \n",
       "327650                                               少林足球     7.6   \n",
       "327651          变形金刚2 Transformers: Revenge of the Fallen     7.6   \n",
       "327652                                          泰山 Tarzan     7.6   \n",
       "327653                                           从你的全世界路过     5.2   \n",
       "327654                       猎人之夜 The Night of the Hunter     8.0   \n",
       "327655                                          整蛊专家 整蠱專家     7.5   \n",
       "327656                生化危机4：战神再生 Resident Evil: Afterlife     6.4   \n",
       "327657                                第六感 The Sixth Sense     8.8   \n",
       "327658                       意大利式离婚 Divorzio all'italiana     8.4   \n",
       "327659                                      亲切的金子 친절한 금자씨     7.6   \n",
       "327660                            克莱默夫妇 Kramer vs. Kramer     8.5   \n",
       "327661                           醉乡民谣 Inside Llewyn Davis     8.1   \n",
       "327662                   驯龙高手2 How to Train Your Dragon 2     7.9   \n",
       "327663                                            花魁 さくらん     8.1   \n",
       "327664                                穆赫兰道 Mulholland Dr.     8.3   \n",
       "327665                              秋天的故事 Conte d'automne     8.3   \n",
       "327666                                     菲洛梅娜 Philomena     8.4   \n",
       "327667                                               长江七号     6.6   \n",
       "327668        埃及艳后的任务 Astérix & Obélix: Mission Cléopâtre     7.1   \n",
       "327669                                            向左走．向右走     6.9   \n",
       "327670             无敌破坏王2：大闹互联网 Ralph Breaks the Internet     8.1   \n",
       "327671                                            女朋友○男朋友     7.5   \n",
       "327672                                               可可西里     8.7   \n",
       "327673                                 早间主播 Morning Glory     7.7   \n",
       "\n",
       "                                             comment_href  label  \\\n",
       "0       https://movie.douban.com/subject/1292220/comme...      1   \n",
       "1       https://movie.douban.com/subject/25724855/comm...      1   \n",
       "2       https://movie.douban.com/subject/1292062/comme...      1   \n",
       "3       https://movie.douban.com/subject/1457218/comme...      0   \n",
       "4       https://movie.douban.com/subject/1300945/comme...      1   \n",
       "5       https://movie.douban.com/subject/3011102/comme...      1   \n",
       "6       https://movie.douban.com/subject/1306031/comme...      0   \n",
       "7       https://movie.douban.com/subject/1300659/comme...      1   \n",
       "8       https://movie.douban.com/subject/3914513/comme...      0   \n",
       "9       https://movie.douban.com/subject/3025809/comme...      1   \n",
       "10      https://movie.douban.com/subject/25728010/comm...      1   \n",
       "11      https://movie.douban.com/subject/6011805/comme...      1   \n",
       "12      https://movie.douban.com/subject/1295872/comme...      1   \n",
       "13      https://movie.douban.com/subject/1760622/comme...      1   \n",
       "14      https://movie.douban.com/subject/26588314/comm...      1   \n",
       "15      https://movie.douban.com/subject/6126442/comme...      0   \n",
       "16      https://movie.douban.com/subject/2003389/comme...      1   \n",
       "17      https://movie.douban.com/subject/1295045/comme...      1   \n",
       "18      https://movie.douban.com/subject/1292792/comme...      1   \n",
       "19      https://movie.douban.com/subject/5151357/comme...      0   \n",
       "20      https://movie.douban.com/subject/25824686/comm...      0   \n",
       "21      https://movie.douban.com/subject/4206436/comme...      1   \n",
       "22      https://movie.douban.com/subject/1297644/comme...      1   \n",
       "23      https://movie.douban.com/subject/3287562/comme...      1   \n",
       "24      https://movie.douban.com/subject/4807924/comme...      0   \n",
       "25      https://movie.douban.com/subject/4896304/comme...      0   \n",
       "26      https://movie.douban.com/subject/3442220/comme...      1   \n",
       "27      https://movie.douban.com/subject/1293608/comme...      0   \n",
       "28      https://movie.douban.com/subject/1309045/comme...      0   \n",
       "29      https://movie.douban.com/subject/1291571/comme...      0   \n",
       "...                                                   ...    ...   \n",
       "327644  https://movie.douban.com/subject/1765009/comme...      1   \n",
       "327645  https://movie.douban.com/subject/3240208/comme...      1   \n",
       "327646  https://movie.douban.com/subject/2132930/comme...      1   \n",
       "327647  https://movie.douban.com/subject/1307684/comme...      1   \n",
       "327648  https://movie.douban.com/subject/5045678/comme...      1   \n",
       "327649  https://movie.douban.com/subject/25761178/comm...      1   \n",
       "327650  https://movie.douban.com/subject/1297747/comme...      0   \n",
       "327651  https://movie.douban.com/subject/2146991/comme...      0   \n",
       "327652  https://movie.douban.com/subject/1294766/comme...      0   \n",
       "327653  https://movie.douban.com/subject/26280528/comm...      1   \n",
       "327654  https://movie.douban.com/subject/1293582/comme...      1   \n",
       "327655  https://movie.douban.com/subject/1299680/comme...      1   \n",
       "327656  https://movie.douban.com/subject/3041294/comme...      0   \n",
       "327657  https://movie.douban.com/subject/1297630/comme...      1   \n",
       "327658  https://movie.douban.com/subject/1303186/comme...      0   \n",
       "327659  https://movie.douban.com/subject/1412579/comme...      0   \n",
       "327660  https://movie.douban.com/subject/1300685/comme...      1   \n",
       "327661  https://movie.douban.com/subject/6887029/comme...      1   \n",
       "327662  https://movie.douban.com/subject/4824512/comme...      1   \n",
       "327663  https://movie.douban.com/subject/1850963/comme...      0   \n",
       "327664  https://movie.douban.com/subject/1292217/comme...      0   \n",
       "327665  https://movie.douban.com/subject/1294140/comme...      1   \n",
       "327666  https://movie.douban.com/subject/19973780/comm...      1   \n",
       "327667  https://movie.douban.com/subject/1961963/comme...      1   \n",
       "327668  https://movie.douban.com/subject/1305010/comme...      0   \n",
       "327669  https://movie.douban.com/subject/1308587/comme...      0   \n",
       "327670  https://movie.douban.com/subject/20438964/comm...      1   \n",
       "327671  https://movie.douban.com/subject/6829652/comme...      0   \n",
       "327672  https://movie.douban.com/subject/1308857/comme...      1   \n",
       "327673  https://movie.douban.com/subject/3392569/comme...      1   \n",
       "\n",
       "                                                  content  \n",
       "0       岩井俊二認為回憶是推動自己現在的一大原動力。一般人以為過去是過去，現在是現在，兩者互無關係。...  \n",
       "1                                今年Jacob要是入围了就又没小李子什么事儿了。  \n",
       "2                                          请善待深柜，不然会流血牺牲。  \n",
       "3                     不是所有猪都有这种好运气。。愚蠢又无聊的人类，等待蜘蛛给他们的神迹。。  \n",
       "4       这真是件好事，你再也没有巧克力可以推销了  \\n哈哈哈哈哈 外祖父好阔爱 当初还纳闷咋那么爱...  \n",
       "5                                   因为是和你一起看的,所以再烂的片都是好片.  \n",
       "6                                 对这种风格的片喜欢不了，也许我就是适合看大俗片  \n",
       "7                        不知道为何，喜欢这部超过拯救兔子罗杰，大概是因为太爱宾尼兔~~~  \n",
       "8       既然是马戏之王，叙事的核心本就该落脚在马戏上，或者至少马戏要作为重要的推动情节发展元素。但这...  \n",
       "9                         编剧是NICK CAVE!!!!!!收个编剧还可以送配乐啊……  \n",
       "10               确实港片气质，黄政民过火，刘亚仁癫狂。PS：韩国85后终于出了扛鼎之人，我国呢？  \n",
       "11                                            打一星的人的良心在哪？  \n",
       "12      即使是60年后看仍然悬念迭起目不转睛， 部分手法显得老旧，但这也是技术进步的必经之路。经典的...  \n",
       "13                             那个导演继续着他对于影片的想象力，但是没有原著精彩。  \n",
       "14      实在是很喜欢，太喜欢罗南妹子了。Sacramento选的很妙，顺便表达下宗教观念和政治立场。...  \n",
       "15      @国金百丽宫 全片无一人有灵魂。一个杰出却依旧没有逃过自我的人，而且很可能这就是他的结局了，...  \n",
       "16      混乱精致，搞笑感人，深沉轻扬，话痨留白，无论戏里戏外这都是足够轻松的一场观影之旅，英伦喜剧的...  \n",
       "17      好故事。逻辑强，细节处处俱到。可惜主角虽说演技好，就太丑了点。不然我不会对最后他没有被绳之以...  \n",
       "18                                      红了一个里维斯，死了一个菲尼克斯。  \n",
       "19                                    浪费我那么多时间又不知所云，气死我了。  \n",
       "20      感觉看了好几部片子，从《星球大战：：山寨BB8的觉醒》、《亚瑟王密码》、《独立日：更大更强更...  \n",
       "21                                                    好感人  \n",
       "22      整个茜茜系列中最难以忘怀的就是美丽的实景拍摄，华丽的装扮，施耐德的本色发挥以及上译那批老人的...  \n",
       "23                                   开场很好 结尾弱了 香蕉们太可爱 加一星  \n",
       "24      或许因为期望过高，整体让人失望。没有海量的笑点，没有流畅的叙事。ted本身也不够贱——除了卖...  \n",
       "25                             跟新龙门客栈比，真是有点差，港片怎么了？武侠怎么了？  \n",
       "26      正如银河系漫游指南开场所说\"so long and thanks for all the f...  \n",
       "27      还是黑白的刘别谦好呀～这部technicolor颜色有点太艳丽。虽然还是轻快的节奏但是故事和...  \n",
       "28                                        剧本下降明显。沦为机关秀...  \n",
       "29      感觉乱七八糟的就开始了，对于这种魔幻小说没有太大好感//看完小说觉得稍微能够理解了。但是不管...  \n",
       "...                                                   ...  \n",
       "327644                                       青春和音乐，很无敌的组合  \n",
       "327645                                               相当凑合  \n",
       "327646                                            炫赛车和车技啊  \n",
       "327647  德国素描群像。舞台框景的先验之作。极简的法X，就如香特尔的《你我他她》或者寺山的《双头女》。...  \n",
       "327648  好看。建立了自己的世界观。椿的抉择任性，伤害了所有的人，最后她舍弃生命来为自己赎罪，这点打动...  \n",
       "327649                       废物一生只想赢一次。前后两截是完全不同的画风，确实挺好看  \n",
       "327650  在复出前就是搞笑桥段，在复出后就是尬桥段，很奇怪。无论如何，如果在后辈面前把这个片拿出来说这...  \n",
       "327651  墨菲斯他们扫盲说变形金刚不是科幻，那么标签似乎没得怎么加了~(*^__^*) 嘻嘻……，觉得...  \n",
       "327652                                       可惜了这个名字，印象不好  \n",
       "327653  老家县城看的电影，影院就在初中隔壁，那个串串摊还在，电影结束后吃了一下，味道还是那个味道，只...  \n",
       "327654  Film noir风格的fairy tale. 自从看了Psycho之后我好像特别会喜爱这种...  \n",
       "327655                       本片算是提携刘德华的吧？遗憾的是一只没有石斑瑜配音版本。  \n",
       "327656                                     還是會繼續看的... 囧rz  \n",
       "327657  一部以结局见长的电影，同时又兼具惊悚与爱，perfect!Haley Joel Osment...  \n",
       "327658       好久没遇到 翻译极差,故事发展极难看,音乐极催人入眠的片了,一无是处到极点.也是了不起.  \n",
       "327659                          除了对我进行了拉拉的恶心启蒙，其他我都记不起来……  \n",
       "327660  女性主义背景大大的加分，有趣的是它并不强调从“女性”视角出发，反倒只给予了Joanna一定审...  \n",
       "327661  科恩兄弟用一个有才华的loser永远是个loser的故事让我回到了此前一直纠结的选择之中，他...  \n",
       "327662              男主的族长爸爸领便当了~~不开心~~但失踪20年的妈咪又找回来了~~好开心  \n",
       "327663                                   好一般，土屋安娜长得更一般。。。  \n",
       "327664  我和大脑袋一直在等着把故事交代清楚的N分钟营救，不想自己的智商遭到了莫大的嘲讽，看了影评才懂...  \n",
       "327665  Si la vie est un voyage, on y souhaite plein b...  \n",
       "327666              影片总体的基调是温婉的，即使在情感凝聚最为浓烈的时刻，也是保持适度的克制。  \n",
       "327667               不知道为什么评论很多都说不好看 当时还记得自己看哭了 还有很多好笑的点啊  \n",
       "327668                这部电影是用来说明法国人有多二的么？尽管他们把它在这部电影里称之为喜剧  \n",
       "327669                                        国产爱情电影中不错的了  \n",
       "327670  果然是不负期待！年初有《头号玩家》，年底有《无敌破坏王2》，各种彩蛋根本看不过来，对竞价拍卖...  \n",
       "327671                                       后面完全不知道导演想干嘛  \n",
       "327672                                               中国大陆  \n",
       "327673  我从来不看美国的剧情片，但冲着海量笑点，去看了，但实际上笑点没有我想象中那么多……这样的励志...  \n",
       "\n",
       "[327674 rows x 5 columns]"
      ]
     },
     "execution_count": 128,
     "metadata": {},
     "output_type": "execute_result"
    }
   ],
   "source": [
    "df"
   ]
  },
  {
   "cell_type": "code",
   "execution_count": 129,
   "metadata": {
    "ExecuteTime": {
     "end_time": "2019-03-09T14:07:41.025866Z",
     "start_time": "2019-03-09T14:07:40.898491Z"
    }
   },
   "outputs": [],
   "source": [
    "df['len'] = df.content.apply(len)"
   ]
  },
  {
   "cell_type": "code",
   "execution_count": 130,
   "metadata": {
    "ExecuteTime": {
     "end_time": "2019-03-09T14:07:42.120767Z",
     "start_time": "2019-03-09T14:07:41.295547Z"
    }
   },
   "outputs": [],
   "source": [
    "df['english'] = df.content.str.count('([a-zA-Z])')"
   ]
  },
  {
   "cell_type": "code",
   "execution_count": 131,
   "metadata": {
    "ExecuteTime": {
     "end_time": "2019-03-09T14:07:42.895802Z",
     "start_time": "2019-03-09T14:07:42.887780Z"
    }
   },
   "outputs": [],
   "source": [
    "df['ratio_zh_en'] = df['english']/df['len']"
   ]
  },
  {
   "cell_type": "code",
   "execution_count": 132,
   "metadata": {
    "ExecuteTime": {
     "end_time": "2019-03-09T14:07:43.292858Z",
     "start_time": "2019-03-09T14:07:43.290852Z"
    }
   },
   "outputs": [],
   "source": [
    "import jieba"
   ]
  },
  {
   "cell_type": "code",
   "execution_count": 133,
   "metadata": {
    "ExecuteTime": {
     "end_time": "2019-03-09T14:09:24.626273Z",
     "start_time": "2019-03-09T14:07:43.751102Z"
    }
   },
   "outputs": [],
   "source": [
    "df['cut_len'] = df.content.apply(lambda x: len(list(jieba.cut(x))))"
   ]
  },
  {
   "cell_type": "code",
   "execution_count": 151,
   "metadata": {
    "ExecuteTime": {
     "end_time": "2019-03-09T14:13:09.221850Z",
     "start_time": "2019-03-09T14:13:09.175727Z"
    }
   },
   "outputs": [
    {
     "data": {
      "text/plain": [
       "301417"
      ]
     },
     "execution_count": 151,
     "metadata": {},
     "output_type": "execute_result"
    }
   ],
   "source": [
    "len(df[(df.len <= 150)& (df.len >= 5)&(df.ratio_zh_en <= 0.38)&(df.cut_len >=2)])"
   ]
  },
  {
   "cell_type": "code",
   "execution_count": 152,
   "metadata": {
    "ExecuteTime": {
     "end_time": "2019-03-09T14:13:21.160623Z",
     "start_time": "2019-03-09T14:13:21.124495Z"
    }
   },
   "outputs": [],
   "source": [
    "df = df[(df.len <= 150)& (df.len >= 4)&(df.ratio_zh_en <= 0.38)&(df.cut_len >=2)]"
   ]
  },
  {
   "cell_type": "code",
   "execution_count": 153,
   "metadata": {
    "ExecuteTime": {
     "end_time": "2019-03-09T14:13:21.602768Z",
     "start_time": "2019-03-09T14:13:21.562660Z"
    }
   },
   "outputs": [],
   "source": [
    "df_nagative = df[df.label==0]\n",
    "df_positive = df[df.label==1]"
   ]
  },
  {
   "cell_type": "code",
   "execution_count": 186,
   "metadata": {
    "ExecuteTime": {
     "end_time": "2019-03-09T14:28:58.459096Z",
     "start_time": "2019-03-09T14:28:58.455084Z"
    }
   },
   "outputs": [
    {
     "data": {
      "text/plain": [
       "150000"
      ]
     },
     "execution_count": 186,
     "metadata": {},
     "output_type": "execute_result"
    }
   ],
   "source": [
    "len(df_nagative)"
   ]
  },
  {
   "cell_type": "code",
   "execution_count": 187,
   "metadata": {
    "ExecuteTime": {
     "end_time": "2019-03-09T14:28:58.883224Z",
     "start_time": "2019-03-09T14:28:58.879213Z"
    }
   },
   "outputs": [
    {
     "data": {
      "text/plain": [
       "150000"
      ]
     },
     "execution_count": 187,
     "metadata": {},
     "output_type": "execute_result"
    }
   ],
   "source": [
    "len(df_positive)"
   ]
  },
  {
   "cell_type": "code",
   "execution_count": 159,
   "metadata": {
    "ExecuteTime": {
     "end_time": "2019-03-09T14:15:41.245090Z",
     "start_time": "2019-03-09T14:15:41.219020Z"
    }
   },
   "outputs": [],
   "source": [
    "df_nagative = df_nagative.sort_values(by='ratio_zh_en')[0:150000]"
   ]
  },
  {
   "cell_type": "code",
   "execution_count": 160,
   "metadata": {
    "ExecuteTime": {
     "end_time": "2019-03-09T14:15:58.627379Z",
     "start_time": "2019-03-09T14:15:58.598300Z"
    }
   },
   "outputs": [],
   "source": [
    "df_positive = df_positive.sort_values(by='ratio_zh_en')[0:150000]"
   ]
  },
  {
   "cell_type": "code",
   "execution_count": 188,
   "metadata": {
    "ExecuteTime": {
     "end_time": "2019-03-09T14:29:02.944019Z",
     "start_time": "2019-03-09T14:29:02.787603Z"
    }
   },
   "outputs": [],
   "source": [
    "df = df_positive.append(df_nagative)"
   ]
  },
  {
   "cell_type": "code",
   "execution_count": 189,
   "metadata": {
    "ExecuteTime": {
     "end_time": "2019-03-09T14:29:07.431951Z",
     "start_time": "2019-03-09T14:29:06.722064Z"
    }
   },
   "outputs": [],
   "source": [
    "# shuffle\n",
    "for _ in range(10):\n",
    "    df = df.sample(frac=1)"
   ]
  },
  {
   "cell_type": "code",
   "execution_count": 190,
   "metadata": {
    "ExecuteTime": {
     "end_time": "2019-03-09T14:29:08.130810Z",
     "start_time": "2019-03-09T14:29:08.099733Z"
    }
   },
   "outputs": [],
   "source": [
    "df.drop(['len', 'english', 'ratio_zh_en', 'cut_len'], axis=1, inplace=True)"
   ]
  },
  {
   "cell_type": "code",
   "execution_count": 193,
   "metadata": {
    "ExecuteTime": {
     "end_time": "2019-03-09T14:29:34.199118Z",
     "start_time": "2019-03-09T14:29:31.449834Z"
    }
   },
   "outputs": [],
   "source": [
    "df.to_csv('Douban.csv', index=False)"
   ]
  },
  {
   "cell_type": "code",
   "execution_count": 173,
   "metadata": {
    "ExecuteTime": {
     "end_time": "2019-03-09T14:18:30.120149Z",
     "start_time": "2019-03-09T14:18:30.117142Z"
    }
   },
   "outputs": [],
   "source": [
    "from sklearn.model_selection import train_test_split"
   ]
  },
  {
   "cell_type": "code",
   "execution_count": 175,
   "metadata": {
    "ExecuteTime": {
     "end_time": "2019-03-09T14:24:37.664423Z",
     "start_time": "2019-03-09T14:24:37.443836Z"
    }
   },
   "outputs": [],
   "source": [
    "df_train, df_test = train_test_split(df, shuffle=True, random_state=0, test_size=0.1, stratify=df['label'])"
   ]
  },
  {
   "cell_type": "code",
   "execution_count": 181,
   "metadata": {
    "ExecuteTime": {
     "end_time": "2019-03-09T14:27:18.206268Z",
     "start_time": "2019-03-09T14:27:15.609349Z"
    }
   },
   "outputs": [],
   "source": [
    "df_train.to_csv('train.csv', index=False)"
   ]
  },
  {
   "cell_type": "code",
   "execution_count": 182,
   "metadata": {
    "ExecuteTime": {
     "end_time": "2019-03-09T14:27:32.245623Z",
     "start_time": "2019-03-09T14:27:31.962871Z"
    }
   },
   "outputs": [],
   "source": [
    "df_test.to_csv('test.csv', index=False)"
   ]
  },
  {
   "cell_type": "markdown",
   "metadata": {},
   "source": [
    "## Combine new results"
   ]
  },
  {
   "cell_type": "code",
   "execution_count": 348,
   "metadata": {
    "ExecuteTime": {
     "end_time": "2019-03-18T10:06:43.143052Z",
     "start_time": "2019-03-18T10:06:41.717747Z"
    }
   },
   "outputs": [],
   "source": [
    "df_old = pd.read_csv('Douban.csv')"
   ]
  },
  {
   "cell_type": "code",
   "execution_count": 350,
   "metadata": {
    "ExecuteTime": {
     "end_time": "2019-03-18T10:10:20.190584Z",
     "start_time": "2019-03-18T10:10:20.187075Z"
    }
   },
   "outputs": [],
   "source": [
    "filenames = os.listdir('result/')"
   ]
  },
  {
   "cell_type": "code",
   "execution_count": 352,
   "metadata": {
    "ExecuteTime": {
     "end_time": "2019-03-18T11:13:05.345274Z",
     "start_time": "2019-03-18T11:13:05.341263Z"
    }
   },
   "outputs": [
    {
     "data": {
      "text/plain": [
       "['10307.csv',\n",
       " '104664.csv',\n",
       " '162119.csv',\n",
       " '1937.csv',\n",
       " '2163.csv',\n",
       " '2327.csv',\n",
       " '241549.csv',\n",
       " '2741.csv',\n",
       " '38345.csv',\n",
       " '38980.csv',\n",
       " '59934.csv',\n",
       " '6679.csv',\n",
       " '7627.csv',\n",
       " '9371.csv',\n",
       " '938.csv',\n",
       " '957.csv']"
      ]
     },
     "execution_count": 352,
     "metadata": {},
     "output_type": "execute_result"
    }
   ],
   "source": [
    "filenames"
   ]
  },
  {
   "cell_type": "code",
   "execution_count": 353,
   "metadata": {
    "ExecuteTime": {
     "end_time": "2019-03-18T11:14:16.249141Z",
     "start_time": "2019-03-18T11:14:12.515122Z"
    }
   },
   "outputs": [],
   "source": [
    "df_new = pd.concat([pd.read_csv('result/' + filename) for filename in filenames], axis=0)"
   ]
  },
  {
   "cell_type": "code",
   "execution_count": 356,
   "metadata": {
    "ExecuteTime": {
     "end_time": "2019-03-18T11:15:53.718274Z",
     "start_time": "2019-03-18T11:15:53.678616Z"
    }
   },
   "outputs": [
    {
     "data": {
      "text/html": [
       "<div>\n",
       "<style scoped>\n",
       "    .dataframe tbody tr th:only-of-type {\n",
       "        vertical-align: middle;\n",
       "    }\n",
       "\n",
       "    .dataframe tbody tr th {\n",
       "        vertical-align: top;\n",
       "    }\n",
       "\n",
       "    .dataframe thead th {\n",
       "        text-align: right;\n",
       "    }\n",
       "</style>\n",
       "<table border=\"1\" class=\"dataframe\">\n",
       "  <thead>\n",
       "    <tr style=\"text-align: right;\">\n",
       "      <th></th>\n",
       "      <th>name</th>\n",
       "      <th>rating</th>\n",
       "      <th>subject_href</th>\n",
       "      <th>comment_nums</th>\n",
       "      <th>comment_href</th>\n",
       "      <th>label</th>\n",
       "      <th>content</th>\n",
       "    </tr>\n",
       "  </thead>\n",
       "  <tbody>\n",
       "    <tr>\n",
       "      <th>0</th>\n",
       "      <td>第八页</td>\n",
       "      <td>7.1</td>\n",
       "      <td>https://movie.douban.com/subject/6301361/</td>\n",
       "      <td>1806</td>\n",
       "      <td>https://movie.douban.com/subject/6301361/comme...</td>\n",
       "      <td>0</td>\n",
       "      <td>要美人不要江山？大扯淡</td>\n",
       "    </tr>\n",
       "    <tr>\n",
       "      <th>1</th>\n",
       "      <td>第八页</td>\n",
       "      <td>7.1</td>\n",
       "      <td>https://movie.douban.com/subject/6301361/</td>\n",
       "      <td>1806</td>\n",
       "      <td>https://movie.douban.com/subject/6301361/comme...</td>\n",
       "      <td>0</td>\n",
       "      <td>无聊又不知所谓。</td>\n",
       "    </tr>\n",
       "    <tr>\n",
       "      <th>2</th>\n",
       "      <td>第八页</td>\n",
       "      <td>7.1</td>\n",
       "      <td>https://movie.douban.com/subject/6301361/</td>\n",
       "      <td>1806</td>\n",
       "      <td>https://movie.douban.com/subject/6301361/comme...</td>\n",
       "      <td>0</td>\n",
       "      <td>惊悚P啊！！政治片一不小心就这么无聊，还有那个儿子什么的设置，太鬼扯啦。</td>\n",
       "    </tr>\n",
       "    <tr>\n",
       "      <th>3</th>\n",
       "      <td>第八页</td>\n",
       "      <td>7.1</td>\n",
       "      <td>https://movie.douban.com/subject/6301361/</td>\n",
       "      <td>1806</td>\n",
       "      <td>https://movie.douban.com/subject/6301361/comme...</td>\n",
       "      <td>0</td>\n",
       "      <td>实在太闷了。。阴谋论看的觉得到处都应该设阴谋。。。。</td>\n",
       "    </tr>\n",
       "    <tr>\n",
       "      <th>4</th>\n",
       "      <td>第八页</td>\n",
       "      <td>7.1</td>\n",
       "      <td>https://movie.douban.com/subject/6301361/</td>\n",
       "      <td>1806</td>\n",
       "      <td>https://movie.douban.com/subject/6301361/comme...</td>\n",
       "      <td>0</td>\n",
       "      <td>半小时后才看出些味道。不过相比故事背后的故事，片子的情节线索展开显得小气了很多。很难从情理上...</td>\n",
       "    </tr>\n",
       "    <tr>\n",
       "      <th>5</th>\n",
       "      <td>第八页</td>\n",
       "      <td>7.1</td>\n",
       "      <td>https://movie.douban.com/subject/6301361/</td>\n",
       "      <td>1806</td>\n",
       "      <td>https://movie.douban.com/subject/6301361/comme...</td>\n",
       "      <td>0</td>\n",
       "      <td>一般吧，特别的间谍片</td>\n",
       "    </tr>\n",
       "    <tr>\n",
       "      <th>6</th>\n",
       "      <td>第八页</td>\n",
       "      <td>7.1</td>\n",
       "      <td>https://movie.douban.com/subject/6301361/</td>\n",
       "      <td>1806</td>\n",
       "      <td>https://movie.douban.com/subject/6301361/comme...</td>\n",
       "      <td>0</td>\n",
       "      <td>剧情拖沓</td>\n",
       "    </tr>\n",
       "    <tr>\n",
       "      <th>7</th>\n",
       "      <td>第八页</td>\n",
       "      <td>7.1</td>\n",
       "      <td>https://movie.douban.com/subject/6301361/</td>\n",
       "      <td>1806</td>\n",
       "      <td>https://movie.douban.com/subject/6301361/comme...</td>\n",
       "      <td>0</td>\n",
       "      <td>英国味很浓而略显沉闷的政治阴谋悬疑片</td>\n",
       "    </tr>\n",
       "    <tr>\n",
       "      <th>8</th>\n",
       "      <td>第八页</td>\n",
       "      <td>7.1</td>\n",
       "      <td>https://movie.douban.com/subject/6301361/</td>\n",
       "      <td>1806</td>\n",
       "      <td>https://movie.douban.com/subject/6301361/comme...</td>\n",
       "      <td>0</td>\n",
       "      <td>6.4分。</td>\n",
       "    </tr>\n",
       "    <tr>\n",
       "      <th>9</th>\n",
       "      <td>第八页</td>\n",
       "      <td>7.1</td>\n",
       "      <td>https://movie.douban.com/subject/6301361/</td>\n",
       "      <td>1806</td>\n",
       "      <td>https://movie.douban.com/subject/6301361/comme...</td>\n",
       "      <td>0</td>\n",
       "      <td>英国老派政治片，主旋律，话说英美的政治片的主旋律和国内有所不同，人家总要揪出点黑幕、迫害什么...</td>\n",
       "    </tr>\n",
       "    <tr>\n",
       "      <th>10</th>\n",
       "      <td>第八页</td>\n",
       "      <td>7.1</td>\n",
       "      <td>https://movie.douban.com/subject/6301361/</td>\n",
       "      <td>1806</td>\n",
       "      <td>https://movie.douban.com/subject/6301361/comme...</td>\n",
       "      <td>0</td>\n",
       "      <td>听英国人说英语确实是一件很奇怪的事情.全片感觉不温不火,有点像男主自己本身一样,好吧,那就当...</td>\n",
       "    </tr>\n",
       "    <tr>\n",
       "      <th>11</th>\n",
       "      <td>第八页</td>\n",
       "      <td>7.1</td>\n",
       "      <td>https://movie.douban.com/subject/6301361/</td>\n",
       "      <td>1806</td>\n",
       "      <td>https://movie.douban.com/subject/6301361/comme...</td>\n",
       "      <td>0</td>\n",
       "      <td>没意思。演员也不是电影好坏的唯一保证。剧情也很重要。</td>\n",
       "    </tr>\n",
       "    <tr>\n",
       "      <th>12</th>\n",
       "      <td>第八页</td>\n",
       "      <td>7.1</td>\n",
       "      <td>https://movie.douban.com/subject/6301361/</td>\n",
       "      <td>1806</td>\n",
       "      <td>https://movie.douban.com/subject/6301361/comme...</td>\n",
       "      <td>0</td>\n",
       "      <td>节奏太慢了！故事太不惊天动地了！</td>\n",
       "    </tr>\n",
       "    <tr>\n",
       "      <th>13</th>\n",
       "      <td>第八页</td>\n",
       "      <td>7.1</td>\n",
       "      <td>https://movie.douban.com/subject/6301361/</td>\n",
       "      <td>1806</td>\n",
       "      <td>https://movie.douban.com/subject/6301361/comme...</td>\n",
       "      <td>0</td>\n",
       "      <td>做为悬疑片，剧情太闷了……</td>\n",
       "    </tr>\n",
       "    <tr>\n",
       "      <th>14</th>\n",
       "      <td>第八页</td>\n",
       "      <td>7.1</td>\n",
       "      <td>https://movie.douban.com/subject/6301361/</td>\n",
       "      <td>1806</td>\n",
       "      <td>https://movie.douban.com/subject/6301361/comme...</td>\n",
       "      <td>0</td>\n",
       "      <td>看这片有点误入歧途的感觉，不是咱的茶，又看睡着鸟。</td>\n",
       "    </tr>\n",
       "    <tr>\n",
       "      <th>15</th>\n",
       "      <td>第八页</td>\n",
       "      <td>7.1</td>\n",
       "      <td>https://movie.douban.com/subject/6301361/</td>\n",
       "      <td>1806</td>\n",
       "      <td>https://movie.douban.com/subject/6301361/comme...</td>\n",
       "      <td>0</td>\n",
       "      <td>实在实在不喜欢蕾切尔</td>\n",
       "    </tr>\n",
       "    <tr>\n",
       "      <th>16</th>\n",
       "      <td>第八页</td>\n",
       "      <td>7.1</td>\n",
       "      <td>https://movie.douban.com/subject/6301361/</td>\n",
       "      <td>1806</td>\n",
       "      <td>https://movie.douban.com/subject/6301361/comme...</td>\n",
       "      <td>0</td>\n",
       "      <td>好纠结，屁大点事情怎么表达出屎的效果？不管怎样，还是没表达出来</td>\n",
       "    </tr>\n",
       "    <tr>\n",
       "      <th>17</th>\n",
       "      <td>第八页</td>\n",
       "      <td>7.1</td>\n",
       "      <td>https://movie.douban.com/subject/6301361/</td>\n",
       "      <td>1806</td>\n",
       "      <td>https://movie.douban.com/subject/6301361/comme...</td>\n",
       "      <td>0</td>\n",
       "      <td>好好在MI5干吧 妻子个数就快超过五个了</td>\n",
       "    </tr>\n",
       "    <tr>\n",
       "      <th>18</th>\n",
       "      <td>第八页</td>\n",
       "      <td>7.1</td>\n",
       "      <td>https://movie.douban.com/subject/6301361/</td>\n",
       "      <td>1806</td>\n",
       "      <td>https://movie.douban.com/subject/6301361/comme...</td>\n",
       "      <td>0</td>\n",
       "      <td>电影本身无感。就觉得卡司里所有的人一下子都变得好老：伏地魔、吸血鬼国王、木乃伊美女、别忘了D...</td>\n",
       "    </tr>\n",
       "    <tr>\n",
       "      <th>19</th>\n",
       "      <td>第八页</td>\n",
       "      <td>7.1</td>\n",
       "      <td>https://movie.douban.com/subject/6301361/</td>\n",
       "      <td>1806</td>\n",
       "      <td>https://movie.douban.com/subject/6301361/comme...</td>\n",
       "      <td>0</td>\n",
       "      <td>我要的是激情澎湃，结果绵软沉闷</td>\n",
       "    </tr>\n",
       "    <tr>\n",
       "      <th>20</th>\n",
       "      <td>红色小提琴</td>\n",
       "      <td>8.2</td>\n",
       "      <td>https://movie.douban.com/subject/1294595/</td>\n",
       "      <td>2487</td>\n",
       "      <td>https://movie.douban.com/subject/1294595/comme...</td>\n",
       "      <td>0</td>\n",
       "      <td>故作深沉</td>\n",
       "    </tr>\n",
       "    <tr>\n",
       "      <th>21</th>\n",
       "      <td>红色小提琴</td>\n",
       "      <td>8.2</td>\n",
       "      <td>https://movie.douban.com/subject/1294595/</td>\n",
       "      <td>2487</td>\n",
       "      <td>https://movie.douban.com/subject/1294595/comme...</td>\n",
       "      <td>0</td>\n",
       "      <td>剧情缺乏张力而且冗长，简单说就是给人一种装13的感觉</td>\n",
       "    </tr>\n",
       "    <tr>\n",
       "      <th>22</th>\n",
       "      <td>红色小提琴</td>\n",
       "      <td>8.2</td>\n",
       "      <td>https://movie.douban.com/subject/1294595/</td>\n",
       "      <td>2487</td>\n",
       "      <td>https://movie.douban.com/subject/1294595/comme...</td>\n",
       "      <td>0</td>\n",
       "      <td>能拿死去老婆的尸体放血制琴的时候...法医上必定尸骨未寒.一想到这点我就不能原谅这部电影为了...</td>\n",
       "    </tr>\n",
       "    <tr>\n",
       "      <th>23</th>\n",
       "      <td>红色小提琴</td>\n",
       "      <td>8.2</td>\n",
       "      <td>https://movie.douban.com/subject/1294595/</td>\n",
       "      <td>2487</td>\n",
       "      <td>https://movie.douban.com/subject/1294595/comme...</td>\n",
       "      <td>0</td>\n",
       "      <td>2011.7.15\\n\\n开场很多悬念，让人以为会很精彩，结果中间的每个故事都软塌塌的，没头...</td>\n",
       "    </tr>\n",
       "    <tr>\n",
       "      <th>24</th>\n",
       "      <td>红色小提琴</td>\n",
       "      <td>8.2</td>\n",
       "      <td>https://movie.douban.com/subject/1294595/</td>\n",
       "      <td>2487</td>\n",
       "      <td>https://movie.douban.com/subject/1294595/comme...</td>\n",
       "      <td>0</td>\n",
       "      <td>音乐我不懂 我只觉得拍卖的几个买家的来历 是值得扩充的 ..</td>\n",
       "    </tr>\n",
       "    <tr>\n",
       "      <th>25</th>\n",
       "      <td>红色小提琴</td>\n",
       "      <td>8.2</td>\n",
       "      <td>https://movie.douban.com/subject/1294595/</td>\n",
       "      <td>2487</td>\n",
       "      <td>https://movie.douban.com/subject/1294595/comme...</td>\n",
       "      <td>0</td>\n",
       "      <td>it is not my bag of chips...昏睡了1/3的时间</td>\n",
       "    </tr>\n",
       "    <tr>\n",
       "      <th>26</th>\n",
       "      <td>红色小提琴</td>\n",
       "      <td>8.2</td>\n",
       "      <td>https://movie.douban.com/subject/1294595/</td>\n",
       "      <td>2487</td>\n",
       "      <td>https://movie.douban.com/subject/1294595/comme...</td>\n",
       "      <td>0</td>\n",
       "      <td>其实本身就没什么的故事却要讲的神神叨叨，想制造传奇厚重的效果反使得它空洞散漫。</td>\n",
       "    </tr>\n",
       "    <tr>\n",
       "      <th>27</th>\n",
       "      <td>红色小提琴</td>\n",
       "      <td>8.2</td>\n",
       "      <td>https://movie.douban.com/subject/1294595/</td>\n",
       "      <td>2487</td>\n",
       "      <td>https://movie.douban.com/subject/1294595/comme...</td>\n",
       "      <td>0</td>\n",
       "      <td>某品牌小提琴的广告；吹嘘自己 历史如何悠久 而无实质性的内容！</td>\n",
       "    </tr>\n",
       "    <tr>\n",
       "      <th>28</th>\n",
       "      <td>红色小提琴</td>\n",
       "      <td>8.2</td>\n",
       "      <td>https://movie.douban.com/subject/1294595/</td>\n",
       "      <td>2487</td>\n",
       "      <td>https://movie.douban.com/subject/1294595/comme...</td>\n",
       "      <td>0</td>\n",
       "      <td>4/10。华而不实导演拍空洞烂片，以为深沉语调塔上几个平淡乏味烂掉牙的故事就是有灵魂有深度，...</td>\n",
       "    </tr>\n",
       "    <tr>\n",
       "      <th>29</th>\n",
       "      <td>红色小提琴</td>\n",
       "      <td>8.2</td>\n",
       "      <td>https://movie.douban.com/subject/1294595/</td>\n",
       "      <td>2487</td>\n",
       "      <td>https://movie.douban.com/subject/1294595/comme...</td>\n",
       "      <td>0</td>\n",
       "      <td>除了有點兒聳人的故事和有點兒奇巧的敘事結構之外，催眠是這部電影最大的特徵。整體風格就是把古典...</td>\n",
       "    </tr>\n",
       "    <tr>\n",
       "      <th>...</th>\n",
       "      <td>...</td>\n",
       "      <td>...</td>\n",
       "      <td>...</td>\n",
       "      <td>...</td>\n",
       "      <td>...</td>\n",
       "      <td>...</td>\n",
       "      <td>...</td>\n",
       "    </tr>\n",
       "    <tr>\n",
       "      <th>927</th>\n",
       "      <td>帕罗奥图</td>\n",
       "      <td>6.2</td>\n",
       "      <td>https://movie.douban.com/subject/20501042/</td>\n",
       "      <td>325</td>\n",
       "      <td>https://movie.douban.com/subject/20501042/comm...</td>\n",
       "      <td>0</td>\n",
       "      <td>这部电影跟它想讲的青春一样迷茫。</td>\n",
       "    </tr>\n",
       "    <tr>\n",
       "      <th>928</th>\n",
       "      <td>帕罗奥图</td>\n",
       "      <td>6.2</td>\n",
       "      <td>https://movie.douban.com/subject/20501042/</td>\n",
       "      <td>325</td>\n",
       "      <td>https://movie.douban.com/subject/20501042/comm...</td>\n",
       "      <td>0</td>\n",
       "      <td>付兰兰，你！个！禽！兽！可能是因为之前有勾搭粉丝妹纸未遂被揭露的事件，看这片里他的每个镜头，...</td>\n",
       "    </tr>\n",
       "    <tr>\n",
       "      <th>929</th>\n",
       "      <td>帕罗奥图</td>\n",
       "      <td>6.2</td>\n",
       "      <td>https://movie.douban.com/subject/20501042/</td>\n",
       "      <td>325</td>\n",
       "      <td>https://movie.douban.com/subject/20501042/comm...</td>\n",
       "      <td>0</td>\n",
       "      <td>国外评分网站对“付兰兰”这部心水作评价还是蛮高的，用成年人的口吻去片面总结青春期的迷茫与躁动...</td>\n",
       "    </tr>\n",
       "    <tr>\n",
       "      <th>930</th>\n",
       "      <td>帕罗奥图</td>\n",
       "      <td>6.2</td>\n",
       "      <td>https://movie.douban.com/subject/20501042/</td>\n",
       "      <td>325</td>\n",
       "      <td>https://movie.douban.com/subject/20501042/comm...</td>\n",
       "      <td>0</td>\n",
       "      <td>不知所云的片子，结尾更是无厘头</td>\n",
       "    </tr>\n",
       "    <tr>\n",
       "      <th>931</th>\n",
       "      <td>帕罗奥图</td>\n",
       "      <td>6.2</td>\n",
       "      <td>https://movie.douban.com/subject/20501042/</td>\n",
       "      <td>325</td>\n",
       "      <td>https://movie.douban.com/subject/20501042/comm...</td>\n",
       "      <td>0</td>\n",
       "      <td>…活在別人的影子下，你永遠只能看到模糊的輪廓線，不會知道光明下真正的面貌。\\r\\n\\r\\nh...</td>\n",
       "    </tr>\n",
       "    <tr>\n",
       "      <th>932</th>\n",
       "      <td>帕罗奥图</td>\n",
       "      <td>6.2</td>\n",
       "      <td>https://movie.douban.com/subject/20501042/</td>\n",
       "      <td>325</td>\n",
       "      <td>https://movie.douban.com/subject/20501042/comm...</td>\n",
       "      <td>0</td>\n",
       "      <td>这尼玛是什么玩意啊</td>\n",
       "    </tr>\n",
       "    <tr>\n",
       "      <th>933</th>\n",
       "      <td>帕罗奥图</td>\n",
       "      <td>6.2</td>\n",
       "      <td>https://movie.douban.com/subject/20501042/</td>\n",
       "      <td>325</td>\n",
       "      <td>https://movie.douban.com/subject/20501042/comm...</td>\n",
       "      <td>0</td>\n",
       "      <td>it sucks...</td>\n",
       "    </tr>\n",
       "    <tr>\n",
       "      <th>934</th>\n",
       "      <td>帕罗奥图</td>\n",
       "      <td>6.2</td>\n",
       "      <td>https://movie.douban.com/subject/20501042/</td>\n",
       "      <td>325</td>\n",
       "      <td>https://movie.douban.com/subject/20501042/comm...</td>\n",
       "      <td>0</td>\n",
       "      <td>有一种猥琐叫“付兰兰式微笑”。</td>\n",
       "    </tr>\n",
       "    <tr>\n",
       "      <th>935</th>\n",
       "      <td>帕罗奥图</td>\n",
       "      <td>6.2</td>\n",
       "      <td>https://movie.douban.com/subject/20501042/</td>\n",
       "      <td>325</td>\n",
       "      <td>https://movie.douban.com/subject/20501042/comm...</td>\n",
       "      <td>0</td>\n",
       "      <td>james想拍的细腻,却拍成老大粗.</td>\n",
       "    </tr>\n",
       "    <tr>\n",
       "      <th>936</th>\n",
       "      <td>帕罗奥图</td>\n",
       "      <td>6.2</td>\n",
       "      <td>https://movie.douban.com/subject/20501042/</td>\n",
       "      <td>325</td>\n",
       "      <td>https://movie.douban.com/subject/20501042/comm...</td>\n",
       "      <td>0</td>\n",
       "      <td>所以呢？这片子到底想说啥 找来几个美国好看点的少男少女凑一起就行了？也就摄影 几个慢镜头加上...</td>\n",
       "    </tr>\n",
       "    <tr>\n",
       "      <th>937</th>\n",
       "      <td>怒火凤凰</td>\n",
       "      <td>5.8</td>\n",
       "      <td>https://movie.douban.com/subject/3892376/</td>\n",
       "      <td>322</td>\n",
       "      <td>https://movie.douban.com/subject/3892376/comme...</td>\n",
       "      <td>0</td>\n",
       "      <td>杰佳·亚宁的故事比托尼·贾的故事差。只有最后最后最后最后的一场打戏有一丝爆发力，其它全部阳痿。</td>\n",
       "    </tr>\n",
       "    <tr>\n",
       "      <th>938</th>\n",
       "      <td>怒火凤凰</td>\n",
       "      <td>5.8</td>\n",
       "      <td>https://movie.douban.com/subject/3892376/</td>\n",
       "      <td>322</td>\n",
       "      <td>https://movie.douban.com/subject/3892376/comme...</td>\n",
       "      <td>0</td>\n",
       "      <td>街舞+醉拳的最新诠释.几天就能上手的上乘武术.比大内总管主编的葵花宝典更加容易</td>\n",
       "    </tr>\n",
       "    <tr>\n",
       "      <th>939</th>\n",
       "      <td>怒火凤凰</td>\n",
       "      <td>5.8</td>\n",
       "      <td>https://movie.douban.com/subject/3892376/</td>\n",
       "      <td>322</td>\n",
       "      <td>https://movie.douban.com/subject/3892376/comme...</td>\n",
       "      <td>0</td>\n",
       "      <td>动作片一定要务实\\r\\n用枪来得快\\r\\n泰国酒不匝地</td>\n",
       "    </tr>\n",
       "    <tr>\n",
       "      <th>940</th>\n",
       "      <td>怒火凤凰</td>\n",
       "      <td>5.8</td>\n",
       "      <td>https://movie.douban.com/subject/3892376/</td>\n",
       "      <td>322</td>\n",
       "      <td>https://movie.douban.com/subject/3892376/comme...</td>\n",
       "      <td>0</td>\n",
       "      <td>为何不把名字改成街舞大乱斗。看来看去也就最后一场打斗戏还算看得过去。</td>\n",
       "    </tr>\n",
       "    <tr>\n",
       "      <th>941</th>\n",
       "      <td>怒火凤凰</td>\n",
       "      <td>5.8</td>\n",
       "      <td>https://movie.douban.com/subject/3892376/</td>\n",
       "      <td>322</td>\n",
       "      <td>https://movie.douban.com/subject/3892376/comme...</td>\n",
       "      <td>0</td>\n",
       "      <td>Shit</td>\n",
       "    </tr>\n",
       "    <tr>\n",
       "      <th>942</th>\n",
       "      <td>怒火凤凰</td>\n",
       "      <td>5.8</td>\n",
       "      <td>https://movie.douban.com/subject/3892376/</td>\n",
       "      <td>322</td>\n",
       "      <td>https://movie.douban.com/subject/3892376/comme...</td>\n",
       "      <td>0</td>\n",
       "      <td>除了女生的武打场面尚可猎奇一下，再无其他了......</td>\n",
       "    </tr>\n",
       "    <tr>\n",
       "      <th>943</th>\n",
       "      <td>怒火凤凰</td>\n",
       "      <td>5.8</td>\n",
       "      <td>https://movie.douban.com/subject/3892376/</td>\n",
       "      <td>322</td>\n",
       "      <td>https://movie.douban.com/subject/3892376/comme...</td>\n",
       "      <td>0</td>\n",
       "      <td>瞎设计的动作，花拳绣腿都谈不上。</td>\n",
       "    </tr>\n",
       "    <tr>\n",
       "      <th>944</th>\n",
       "      <td>怒火凤凰</td>\n",
       "      <td>5.8</td>\n",
       "      <td>https://movie.douban.com/subject/3892376/</td>\n",
       "      <td>322</td>\n",
       "      <td>https://movie.douban.com/subject/3892376/comme...</td>\n",
       "      <td>0</td>\n",
       "      <td>感谢字幕组的童鞋</td>\n",
       "    </tr>\n",
       "    <tr>\n",
       "      <th>945</th>\n",
       "      <td>怒火凤凰</td>\n",
       "      <td>5.8</td>\n",
       "      <td>https://movie.douban.com/subject/3892376/</td>\n",
       "      <td>322</td>\n",
       "      <td>https://movie.douban.com/subject/3892376/comme...</td>\n",
       "      <td>0</td>\n",
       "      <td>好烂</td>\n",
       "    </tr>\n",
       "    <tr>\n",
       "      <th>946</th>\n",
       "      <td>怒火凤凰</td>\n",
       "      <td>5.8</td>\n",
       "      <td>https://movie.douban.com/subject/3892376/</td>\n",
       "      <td>322</td>\n",
       "      <td>https://movie.douban.com/subject/3892376/comme...</td>\n",
       "      <td>0</td>\n",
       "      <td>想法还算有创意，但是剧组的执行太差</td>\n",
       "    </tr>\n",
       "    <tr>\n",
       "      <th>947</th>\n",
       "      <td>怒火凤凰</td>\n",
       "      <td>5.8</td>\n",
       "      <td>https://movie.douban.com/subject/3892376/</td>\n",
       "      <td>322</td>\n",
       "      <td>https://movie.douban.com/subject/3892376/comme...</td>\n",
       "      <td>0</td>\n",
       "      <td>这是卡波拉还是泰拳啊？</td>\n",
       "    </tr>\n",
       "    <tr>\n",
       "      <th>948</th>\n",
       "      <td>怒火凤凰</td>\n",
       "      <td>5.8</td>\n",
       "      <td>https://movie.douban.com/subject/3892376/</td>\n",
       "      <td>322</td>\n",
       "      <td>https://movie.douban.com/subject/3892376/comme...</td>\n",
       "      <td>0</td>\n",
       "      <td>泰语听起来真不适应。。</td>\n",
       "    </tr>\n",
       "    <tr>\n",
       "      <th>949</th>\n",
       "      <td>怒火凤凰</td>\n",
       "      <td>5.8</td>\n",
       "      <td>https://movie.douban.com/subject/3892376/</td>\n",
       "      <td>322</td>\n",
       "      <td>https://movie.douban.com/subject/3892376/comme...</td>\n",
       "      <td>0</td>\n",
       "      <td>20分钟都不打，关了</td>\n",
       "    </tr>\n",
       "    <tr>\n",
       "      <th>950</th>\n",
       "      <td>怒火凤凰</td>\n",
       "      <td>5.8</td>\n",
       "      <td>https://movie.douban.com/subject/3892376/</td>\n",
       "      <td>322</td>\n",
       "      <td>https://movie.douban.com/subject/3892376/comme...</td>\n",
       "      <td>0</td>\n",
       "      <td>不堪一击的剧情...除了武打...后半部分像火烧红莲寺</td>\n",
       "    </tr>\n",
       "    <tr>\n",
       "      <th>951</th>\n",
       "      <td>怒火凤凰</td>\n",
       "      <td>5.8</td>\n",
       "      <td>https://movie.douban.com/subject/3892376/</td>\n",
       "      <td>322</td>\n",
       "      <td>https://movie.douban.com/subject/3892376/comme...</td>\n",
       "      <td>0</td>\n",
       "      <td>关键时刻多亏我信春哥</td>\n",
       "    </tr>\n",
       "    <tr>\n",
       "      <th>952</th>\n",
       "      <td>怒火凤凰</td>\n",
       "      <td>5.8</td>\n",
       "      <td>https://movie.douban.com/subject/3892376/</td>\n",
       "      <td>322</td>\n",
       "      <td>https://movie.douban.com/subject/3892376/comme...</td>\n",
       "      <td>0</td>\n",
       "      <td>没见过这么烂的打斗</td>\n",
       "    </tr>\n",
       "    <tr>\n",
       "      <th>953</th>\n",
       "      <td>怒火凤凰</td>\n",
       "      <td>5.8</td>\n",
       "      <td>https://movie.douban.com/subject/3892376/</td>\n",
       "      <td>322</td>\n",
       "      <td>https://movie.douban.com/subject/3892376/comme...</td>\n",
       "      <td>0</td>\n",
       "      <td>把街舞融于动作之中很有创意，但是剧情太狗血了</td>\n",
       "    </tr>\n",
       "    <tr>\n",
       "      <th>954</th>\n",
       "      <td>怒火凤凰</td>\n",
       "      <td>5.8</td>\n",
       "      <td>https://movie.douban.com/subject/3892376/</td>\n",
       "      <td>322</td>\n",
       "      <td>https://movie.douban.com/subject/3892376/comme...</td>\n",
       "      <td>0</td>\n",
       "      <td>色彩场景还行</td>\n",
       "    </tr>\n",
       "    <tr>\n",
       "      <th>955</th>\n",
       "      <td>怒火凤凰</td>\n",
       "      <td>5.8</td>\n",
       "      <td>https://movie.douban.com/subject/3892376/</td>\n",
       "      <td>322</td>\n",
       "      <td>https://movie.douban.com/subject/3892376/comme...</td>\n",
       "      <td>0</td>\n",
       "      <td>整部电影随便从何处截屏，都可以成为一张肥猪流照片</td>\n",
       "    </tr>\n",
       "    <tr>\n",
       "      <th>956</th>\n",
       "      <td>怒火凤凰</td>\n",
       "      <td>5.8</td>\n",
       "      <td>https://movie.douban.com/subject/3892376/</td>\n",
       "      <td>322</td>\n",
       "      <td>https://movie.douban.com/subject/3892376/comme...</td>\n",
       "      <td>0</td>\n",
       "      <td>女拳霸长大了就成了徐怀钰。。。在电影的最后，女主角心中默念信春哥得永生，满血满怒原地复活，终...</td>\n",
       "    </tr>\n",
       "  </tbody>\n",
       "</table>\n",
       "<p>690638 rows × 7 columns</p>\n",
       "</div>"
      ],
      "text/plain": [
       "      name  rating                                subject_href  comment_nums  \\\n",
       "0      第八页     7.1   https://movie.douban.com/subject/6301361/          1806   \n",
       "1      第八页     7.1   https://movie.douban.com/subject/6301361/          1806   \n",
       "2      第八页     7.1   https://movie.douban.com/subject/6301361/          1806   \n",
       "3      第八页     7.1   https://movie.douban.com/subject/6301361/          1806   \n",
       "4      第八页     7.1   https://movie.douban.com/subject/6301361/          1806   \n",
       "5      第八页     7.1   https://movie.douban.com/subject/6301361/          1806   \n",
       "6      第八页     7.1   https://movie.douban.com/subject/6301361/          1806   \n",
       "7      第八页     7.1   https://movie.douban.com/subject/6301361/          1806   \n",
       "8      第八页     7.1   https://movie.douban.com/subject/6301361/          1806   \n",
       "9      第八页     7.1   https://movie.douban.com/subject/6301361/          1806   \n",
       "10     第八页     7.1   https://movie.douban.com/subject/6301361/          1806   \n",
       "11     第八页     7.1   https://movie.douban.com/subject/6301361/          1806   \n",
       "12     第八页     7.1   https://movie.douban.com/subject/6301361/          1806   \n",
       "13     第八页     7.1   https://movie.douban.com/subject/6301361/          1806   \n",
       "14     第八页     7.1   https://movie.douban.com/subject/6301361/          1806   \n",
       "15     第八页     7.1   https://movie.douban.com/subject/6301361/          1806   \n",
       "16     第八页     7.1   https://movie.douban.com/subject/6301361/          1806   \n",
       "17     第八页     7.1   https://movie.douban.com/subject/6301361/          1806   \n",
       "18     第八页     7.1   https://movie.douban.com/subject/6301361/          1806   \n",
       "19     第八页     7.1   https://movie.douban.com/subject/6301361/          1806   \n",
       "20   红色小提琴     8.2   https://movie.douban.com/subject/1294595/          2487   \n",
       "21   红色小提琴     8.2   https://movie.douban.com/subject/1294595/          2487   \n",
       "22   红色小提琴     8.2   https://movie.douban.com/subject/1294595/          2487   \n",
       "23   红色小提琴     8.2   https://movie.douban.com/subject/1294595/          2487   \n",
       "24   红色小提琴     8.2   https://movie.douban.com/subject/1294595/          2487   \n",
       "25   红色小提琴     8.2   https://movie.douban.com/subject/1294595/          2487   \n",
       "26   红色小提琴     8.2   https://movie.douban.com/subject/1294595/          2487   \n",
       "27   红色小提琴     8.2   https://movie.douban.com/subject/1294595/          2487   \n",
       "28   红色小提琴     8.2   https://movie.douban.com/subject/1294595/          2487   \n",
       "29   红色小提琴     8.2   https://movie.douban.com/subject/1294595/          2487   \n",
       "..     ...     ...                                         ...           ...   \n",
       "927   帕罗奥图     6.2  https://movie.douban.com/subject/20501042/           325   \n",
       "928   帕罗奥图     6.2  https://movie.douban.com/subject/20501042/           325   \n",
       "929   帕罗奥图     6.2  https://movie.douban.com/subject/20501042/           325   \n",
       "930   帕罗奥图     6.2  https://movie.douban.com/subject/20501042/           325   \n",
       "931   帕罗奥图     6.2  https://movie.douban.com/subject/20501042/           325   \n",
       "932   帕罗奥图     6.2  https://movie.douban.com/subject/20501042/           325   \n",
       "933   帕罗奥图     6.2  https://movie.douban.com/subject/20501042/           325   \n",
       "934   帕罗奥图     6.2  https://movie.douban.com/subject/20501042/           325   \n",
       "935   帕罗奥图     6.2  https://movie.douban.com/subject/20501042/           325   \n",
       "936   帕罗奥图     6.2  https://movie.douban.com/subject/20501042/           325   \n",
       "937   怒火凤凰     5.8   https://movie.douban.com/subject/3892376/           322   \n",
       "938   怒火凤凰     5.8   https://movie.douban.com/subject/3892376/           322   \n",
       "939   怒火凤凰     5.8   https://movie.douban.com/subject/3892376/           322   \n",
       "940   怒火凤凰     5.8   https://movie.douban.com/subject/3892376/           322   \n",
       "941   怒火凤凰     5.8   https://movie.douban.com/subject/3892376/           322   \n",
       "942   怒火凤凰     5.8   https://movie.douban.com/subject/3892376/           322   \n",
       "943   怒火凤凰     5.8   https://movie.douban.com/subject/3892376/           322   \n",
       "944   怒火凤凰     5.8   https://movie.douban.com/subject/3892376/           322   \n",
       "945   怒火凤凰     5.8   https://movie.douban.com/subject/3892376/           322   \n",
       "946   怒火凤凰     5.8   https://movie.douban.com/subject/3892376/           322   \n",
       "947   怒火凤凰     5.8   https://movie.douban.com/subject/3892376/           322   \n",
       "948   怒火凤凰     5.8   https://movie.douban.com/subject/3892376/           322   \n",
       "949   怒火凤凰     5.8   https://movie.douban.com/subject/3892376/           322   \n",
       "950   怒火凤凰     5.8   https://movie.douban.com/subject/3892376/           322   \n",
       "951   怒火凤凰     5.8   https://movie.douban.com/subject/3892376/           322   \n",
       "952   怒火凤凰     5.8   https://movie.douban.com/subject/3892376/           322   \n",
       "953   怒火凤凰     5.8   https://movie.douban.com/subject/3892376/           322   \n",
       "954   怒火凤凰     5.8   https://movie.douban.com/subject/3892376/           322   \n",
       "955   怒火凤凰     5.8   https://movie.douban.com/subject/3892376/           322   \n",
       "956   怒火凤凰     5.8   https://movie.douban.com/subject/3892376/           322   \n",
       "\n",
       "                                          comment_href  label  \\\n",
       "0    https://movie.douban.com/subject/6301361/comme...      0   \n",
       "1    https://movie.douban.com/subject/6301361/comme...      0   \n",
       "2    https://movie.douban.com/subject/6301361/comme...      0   \n",
       "3    https://movie.douban.com/subject/6301361/comme...      0   \n",
       "4    https://movie.douban.com/subject/6301361/comme...      0   \n",
       "5    https://movie.douban.com/subject/6301361/comme...      0   \n",
       "6    https://movie.douban.com/subject/6301361/comme...      0   \n",
       "7    https://movie.douban.com/subject/6301361/comme...      0   \n",
       "8    https://movie.douban.com/subject/6301361/comme...      0   \n",
       "9    https://movie.douban.com/subject/6301361/comme...      0   \n",
       "10   https://movie.douban.com/subject/6301361/comme...      0   \n",
       "11   https://movie.douban.com/subject/6301361/comme...      0   \n",
       "12   https://movie.douban.com/subject/6301361/comme...      0   \n",
       "13   https://movie.douban.com/subject/6301361/comme...      0   \n",
       "14   https://movie.douban.com/subject/6301361/comme...      0   \n",
       "15   https://movie.douban.com/subject/6301361/comme...      0   \n",
       "16   https://movie.douban.com/subject/6301361/comme...      0   \n",
       "17   https://movie.douban.com/subject/6301361/comme...      0   \n",
       "18   https://movie.douban.com/subject/6301361/comme...      0   \n",
       "19   https://movie.douban.com/subject/6301361/comme...      0   \n",
       "20   https://movie.douban.com/subject/1294595/comme...      0   \n",
       "21   https://movie.douban.com/subject/1294595/comme...      0   \n",
       "22   https://movie.douban.com/subject/1294595/comme...      0   \n",
       "23   https://movie.douban.com/subject/1294595/comme...      0   \n",
       "24   https://movie.douban.com/subject/1294595/comme...      0   \n",
       "25   https://movie.douban.com/subject/1294595/comme...      0   \n",
       "26   https://movie.douban.com/subject/1294595/comme...      0   \n",
       "27   https://movie.douban.com/subject/1294595/comme...      0   \n",
       "28   https://movie.douban.com/subject/1294595/comme...      0   \n",
       "29   https://movie.douban.com/subject/1294595/comme...      0   \n",
       "..                                                 ...    ...   \n",
       "927  https://movie.douban.com/subject/20501042/comm...      0   \n",
       "928  https://movie.douban.com/subject/20501042/comm...      0   \n",
       "929  https://movie.douban.com/subject/20501042/comm...      0   \n",
       "930  https://movie.douban.com/subject/20501042/comm...      0   \n",
       "931  https://movie.douban.com/subject/20501042/comm...      0   \n",
       "932  https://movie.douban.com/subject/20501042/comm...      0   \n",
       "933  https://movie.douban.com/subject/20501042/comm...      0   \n",
       "934  https://movie.douban.com/subject/20501042/comm...      0   \n",
       "935  https://movie.douban.com/subject/20501042/comm...      0   \n",
       "936  https://movie.douban.com/subject/20501042/comm...      0   \n",
       "937  https://movie.douban.com/subject/3892376/comme...      0   \n",
       "938  https://movie.douban.com/subject/3892376/comme...      0   \n",
       "939  https://movie.douban.com/subject/3892376/comme...      0   \n",
       "940  https://movie.douban.com/subject/3892376/comme...      0   \n",
       "941  https://movie.douban.com/subject/3892376/comme...      0   \n",
       "942  https://movie.douban.com/subject/3892376/comme...      0   \n",
       "943  https://movie.douban.com/subject/3892376/comme...      0   \n",
       "944  https://movie.douban.com/subject/3892376/comme...      0   \n",
       "945  https://movie.douban.com/subject/3892376/comme...      0   \n",
       "946  https://movie.douban.com/subject/3892376/comme...      0   \n",
       "947  https://movie.douban.com/subject/3892376/comme...      0   \n",
       "948  https://movie.douban.com/subject/3892376/comme...      0   \n",
       "949  https://movie.douban.com/subject/3892376/comme...      0   \n",
       "950  https://movie.douban.com/subject/3892376/comme...      0   \n",
       "951  https://movie.douban.com/subject/3892376/comme...      0   \n",
       "952  https://movie.douban.com/subject/3892376/comme...      0   \n",
       "953  https://movie.douban.com/subject/3892376/comme...      0   \n",
       "954  https://movie.douban.com/subject/3892376/comme...      0   \n",
       "955  https://movie.douban.com/subject/3892376/comme...      0   \n",
       "956  https://movie.douban.com/subject/3892376/comme...      0   \n",
       "\n",
       "                                               content  \n",
       "0                                          要美人不要江山？大扯淡  \n",
       "1                                             无聊又不知所谓。  \n",
       "2                 惊悚P啊！！政治片一不小心就这么无聊，还有那个儿子什么的设置，太鬼扯啦。  \n",
       "3                           实在太闷了。。阴谋论看的觉得到处都应该设阴谋。。。。  \n",
       "4    半小时后才看出些味道。不过相比故事背后的故事，片子的情节线索展开显得小气了很多。很难从情理上...  \n",
       "5                                           一般吧，特别的间谍片  \n",
       "6                                                 剧情拖沓  \n",
       "7                                   英国味很浓而略显沉闷的政治阴谋悬疑片  \n",
       "8                                                6.4分。  \n",
       "9    英国老派政治片，主旋律，话说英美的政治片的主旋律和国内有所不同，人家总要揪出点黑幕、迫害什么...  \n",
       "10   听英国人说英语确实是一件很奇怪的事情.全片感觉不温不火,有点像男主自己本身一样,好吧,那就当...  \n",
       "11                          没意思。演员也不是电影好坏的唯一保证。剧情也很重要。  \n",
       "12                                    节奏太慢了！故事太不惊天动地了！  \n",
       "13                                       做为悬疑片，剧情太闷了……  \n",
       "14                           看这片有点误入歧途的感觉，不是咱的茶，又看睡着鸟。  \n",
       "15                                          实在实在不喜欢蕾切尔  \n",
       "16                     好纠结，屁大点事情怎么表达出屎的效果？不管怎样，还是没表达出来  \n",
       "17                                好好在MI5干吧 妻子个数就快超过五个了  \n",
       "18   电影本身无感。就觉得卡司里所有的人一下子都变得好老：伏地魔、吸血鬼国王、木乃伊美女、别忘了D...  \n",
       "19                                     我要的是激情澎湃，结果绵软沉闷  \n",
       "20                                                故作深沉  \n",
       "21                          剧情缺乏张力而且冗长，简单说就是给人一种装13的感觉  \n",
       "22   能拿死去老婆的尸体放血制琴的时候...法医上必定尸骨未寒.一想到这点我就不能原谅这部电影为了...  \n",
       "23   2011.7.15\\n\\n开场很多悬念，让人以为会很精彩，结果中间的每个故事都软塌塌的，没头...  \n",
       "24                      音乐我不懂 我只觉得拍卖的几个买家的来历 是值得扩充的 ..  \n",
       "25               it is not my bag of chips...昏睡了1/3的时间  \n",
       "26             其实本身就没什么的故事却要讲的神神叨叨，想制造传奇厚重的效果反使得它空洞散漫。  \n",
       "27                     某品牌小提琴的广告；吹嘘自己 历史如何悠久 而无实质性的内容！  \n",
       "28   4/10。华而不实导演拍空洞烂片，以为深沉语调塔上几个平淡乏味烂掉牙的故事就是有灵魂有深度，...  \n",
       "29   除了有點兒聳人的故事和有點兒奇巧的敘事結構之外，催眠是這部電影最大的特徵。整體風格就是把古典...  \n",
       "..                                                 ...  \n",
       "927                                   这部电影跟它想讲的青春一样迷茫。  \n",
       "928  付兰兰，你！个！禽！兽！可能是因为之前有勾搭粉丝妹纸未遂被揭露的事件，看这片里他的每个镜头，...  \n",
       "929  国外评分网站对“付兰兰”这部心水作评价还是蛮高的，用成年人的口吻去片面总结青春期的迷茫与躁动...  \n",
       "930                                    不知所云的片子，结尾更是无厘头  \n",
       "931  …活在別人的影子下，你永遠只能看到模糊的輪廓線，不會知道光明下真正的面貌。\\r\\n\\r\\nh...  \n",
       "932                                          这尼玛是什么玩意啊  \n",
       "933                                        it sucks...  \n",
       "934                                    有一种猥琐叫“付兰兰式微笑”。  \n",
       "935                                 james想拍的细腻,却拍成老大粗.  \n",
       "936  所以呢？这片子到底想说啥 找来几个美国好看点的少男少女凑一起就行了？也就摄影 几个慢镜头加上...  \n",
       "937    杰佳·亚宁的故事比托尼·贾的故事差。只有最后最后最后最后的一场打戏有一丝爆发力，其它全部阳痿。  \n",
       "938            街舞+醉拳的最新诠释.几天就能上手的上乘武术.比大内总管主编的葵花宝典更加容易  \n",
       "939                        动作片一定要务实\\r\\n用枪来得快\\r\\n泰国酒不匝地  \n",
       "940                 为何不把名字改成街舞大乱斗。看来看去也就最后一场打斗戏还算看得过去。  \n",
       "941                                               Shit  \n",
       "942                        除了女生的武打场面尚可猎奇一下，再无其他了......  \n",
       "943                                   瞎设计的动作，花拳绣腿都谈不上。  \n",
       "944                                           感谢字幕组的童鞋  \n",
       "945                                                 好烂  \n",
       "946                                  想法还算有创意，但是剧组的执行太差  \n",
       "947                                        这是卡波拉还是泰拳啊？  \n",
       "948                                        泰语听起来真不适应。。  \n",
       "949                                         20分钟都不打，关了  \n",
       "950                        不堪一击的剧情...除了武打...后半部分像火烧红莲寺  \n",
       "951                                         关键时刻多亏我信春哥  \n",
       "952                                          没见过这么烂的打斗  \n",
       "953                             把街舞融于动作之中很有创意，但是剧情太狗血了  \n",
       "954                                             色彩场景还行  \n",
       "955                           整部电影随便从何处截屏，都可以成为一张肥猪流照片  \n",
       "956  女拳霸长大了就成了徐怀钰。。。在电影的最后，女主角心中默念信春哥得永生，满血满怒原地复活，终...  \n",
       "\n",
       "[690638 rows x 7 columns]"
      ]
     },
     "execution_count": 356,
     "metadata": {},
     "output_type": "execute_result"
    }
   ],
   "source": [
    "df_new"
   ]
  },
  {
   "cell_type": "code",
   "execution_count": 357,
   "metadata": {
    "ExecuteTime": {
     "end_time": "2019-03-18T11:16:56.172220Z",
     "start_time": "2019-03-18T11:16:55.769807Z"
    }
   },
   "outputs": [],
   "source": [
    "df_new.dropna(inplace=True)"
   ]
  },
  {
   "cell_type": "code",
   "execution_count": 359,
   "metadata": {
    "ExecuteTime": {
     "end_time": "2019-03-18T11:17:35.653782Z",
     "start_time": "2019-03-18T11:17:35.605651Z"
    }
   },
   "outputs": [],
   "source": [
    "df_new.drop(['comment_nums', 'subject_href'], axis=1, inplace=True)"
   ]
  },
  {
   "cell_type": "code",
   "execution_count": 364,
   "metadata": {
    "ExecuteTime": {
     "end_time": "2019-03-18T11:21:41.337132Z",
     "start_time": "2019-03-18T11:21:41.231845Z"
    }
   },
   "outputs": [],
   "source": [
    "df = pd.concat([df_new, df_old], axis=0)"
   ]
  },
  {
   "cell_type": "code",
   "execution_count": 367,
   "metadata": {
    "ExecuteTime": {
     "end_time": "2019-03-18T11:23:55.422195Z",
     "start_time": "2019-03-18T11:23:54.358138Z"
    }
   },
   "outputs": [],
   "source": [
    "df.drop_duplicates(subset='content', inplace=True)"
   ]
  },
  {
   "cell_type": "code",
   "execution_count": 368,
   "metadata": {
    "ExecuteTime": {
     "end_time": "2019-03-18T11:23:58.632250Z",
     "start_time": "2019-03-18T11:23:58.628239Z"
    }
   },
   "outputs": [
    {
     "data": {
      "text/plain": [
       "955719"
      ]
     },
     "execution_count": 368,
     "metadata": {},
     "output_type": "execute_result"
    }
   ],
   "source": [
    "len(df)"
   ]
  },
  {
   "cell_type": "code",
   "execution_count": 369,
   "metadata": {
    "ExecuteTime": {
     "end_time": "2019-03-18T11:24:36.652496Z",
     "start_time": "2019-03-18T11:24:36.641466Z"
    }
   },
   "outputs": [
    {
     "data": {
      "text/html": [
       "<div>\n",
       "<style scoped>\n",
       "    .dataframe tbody tr th:only-of-type {\n",
       "        vertical-align: middle;\n",
       "    }\n",
       "\n",
       "    .dataframe tbody tr th {\n",
       "        vertical-align: top;\n",
       "    }\n",
       "\n",
       "    .dataframe thead th {\n",
       "        text-align: right;\n",
       "    }\n",
       "</style>\n",
       "<table border=\"1\" class=\"dataframe\">\n",
       "  <thead>\n",
       "    <tr style=\"text-align: right;\">\n",
       "      <th></th>\n",
       "      <th>name</th>\n",
       "      <th>rating</th>\n",
       "      <th>comment_href</th>\n",
       "      <th>label</th>\n",
       "      <th>content</th>\n",
       "    </tr>\n",
       "  </thead>\n",
       "  <tbody>\n",
       "    <tr>\n",
       "      <th>0</th>\n",
       "      <td>第八页</td>\n",
       "      <td>7.1</td>\n",
       "      <td>https://movie.douban.com/subject/6301361/comme...</td>\n",
       "      <td>0</td>\n",
       "      <td>要美人不要江山？大扯淡</td>\n",
       "    </tr>\n",
       "    <tr>\n",
       "      <th>1</th>\n",
       "      <td>第八页</td>\n",
       "      <td>7.1</td>\n",
       "      <td>https://movie.douban.com/subject/6301361/comme...</td>\n",
       "      <td>0</td>\n",
       "      <td>无聊又不知所谓。</td>\n",
       "    </tr>\n",
       "    <tr>\n",
       "      <th>2</th>\n",
       "      <td>第八页</td>\n",
       "      <td>7.1</td>\n",
       "      <td>https://movie.douban.com/subject/6301361/comme...</td>\n",
       "      <td>0</td>\n",
       "      <td>惊悚P啊！！政治片一不小心就这么无聊，还有那个儿子什么的设置，太鬼扯啦。</td>\n",
       "    </tr>\n",
       "    <tr>\n",
       "      <th>3</th>\n",
       "      <td>第八页</td>\n",
       "      <td>7.1</td>\n",
       "      <td>https://movie.douban.com/subject/6301361/comme...</td>\n",
       "      <td>0</td>\n",
       "      <td>实在太闷了。。阴谋论看的觉得到处都应该设阴谋。。。。</td>\n",
       "    </tr>\n",
       "    <tr>\n",
       "      <th>4</th>\n",
       "      <td>第八页</td>\n",
       "      <td>7.1</td>\n",
       "      <td>https://movie.douban.com/subject/6301361/comme...</td>\n",
       "      <td>0</td>\n",
       "      <td>半小时后才看出些味道。不过相比故事背后的故事，片子的情节线索展开显得小气了很多。很难从情理上...</td>\n",
       "    </tr>\n",
       "  </tbody>\n",
       "</table>\n",
       "</div>"
      ],
      "text/plain": [
       "  name  rating                                       comment_href  label  \\\n",
       "0  第八页     7.1  https://movie.douban.com/subject/6301361/comme...      0   \n",
       "1  第八页     7.1  https://movie.douban.com/subject/6301361/comme...      0   \n",
       "2  第八页     7.1  https://movie.douban.com/subject/6301361/comme...      0   \n",
       "3  第八页     7.1  https://movie.douban.com/subject/6301361/comme...      0   \n",
       "4  第八页     7.1  https://movie.douban.com/subject/6301361/comme...      0   \n",
       "\n",
       "                                             content  \n",
       "0                                        要美人不要江山？大扯淡  \n",
       "1                                           无聊又不知所谓。  \n",
       "2               惊悚P啊！！政治片一不小心就这么无聊，还有那个儿子什么的设置，太鬼扯啦。  \n",
       "3                         实在太闷了。。阴谋论看的觉得到处都应该设阴谋。。。。  \n",
       "4  半小时后才看出些味道。不过相比故事背后的故事，片子的情节线索展开显得小气了很多。很难从情理上...  "
      ]
     },
     "execution_count": 369,
     "metadata": {},
     "output_type": "execute_result"
    }
   ],
   "source": [
    "df.head()"
   ]
  },
  {
   "cell_type": "code",
   "execution_count": 370,
   "metadata": {
    "ExecuteTime": {
     "end_time": "2019-03-18T11:35:12.485730Z",
     "start_time": "2019-03-18T11:30:02.125505Z"
    }
   },
   "outputs": [
    {
     "name": "stderr",
     "output_type": "stream",
     "text": [
      "Building prefix dict from the default dictionary ...\n",
      "Loading model from cache C:\\Users\\Jackdong\\AppData\\Local\\Temp\\jieba.cache\n",
      "Loading model cost 0.833 seconds.\n",
      "Prefix dict has been built succesfully.\n"
     ]
    }
   ],
   "source": [
    "df['len'] = df.content.apply(len)\n",
    "df['english'] = df.content.str.count('([a-zA-Z])')\n",
    "df['ratio_zh_en'] = df['english']/df['len']\n",
    "import jieba\n",
    "df['cut_len'] = df.content.apply(lambda x: len(list(jieba.cut(x))))"
   ]
  },
  {
   "cell_type": "code",
   "execution_count": 439,
   "metadata": {
    "ExecuteTime": {
     "end_time": "2019-03-18T11:56:06.280173Z",
     "start_time": "2019-03-18T11:56:06.179890Z"
    }
   },
   "outputs": [
    {
     "data": {
      "text/plain": [
       "814850"
      ]
     },
     "execution_count": 439,
     "metadata": {},
     "output_type": "execute_result"
    }
   ],
   "source": [
    "len(df[(df.len <= 200)& (df.len >= 6)&(df.ratio_zh_en <= 0.2)&(df.cut_len >=5)])"
   ]
  },
  {
   "cell_type": "code",
   "execution_count": 440,
   "metadata": {
    "ExecuteTime": {
     "end_time": "2019-03-18T11:56:09.691321Z",
     "start_time": "2019-03-18T11:56:09.606266Z"
    }
   },
   "outputs": [],
   "source": [
    "df = df[(df.len <= 200)& (df.len >= 10)&(df.ratio_zh_en <= 0.3)&(df.cut_len >=5)]"
   ]
  },
  {
   "cell_type": "code",
   "execution_count": 446,
   "metadata": {
    "ExecuteTime": {
     "end_time": "2019-03-18T11:57:48.737411Z",
     "start_time": "2019-03-18T11:57:48.652655Z"
    }
   },
   "outputs": [],
   "source": [
    "df_negative = df[df.label==0]\n",
    "df_positive = df[df.label==1]"
   ]
  },
  {
   "cell_type": "code",
   "execution_count": 457,
   "metadata": {
    "ExecuteTime": {
     "end_time": "2019-03-18T12:04:50.093101Z",
     "start_time": "2019-03-18T12:04:49.858286Z"
    }
   },
   "outputs": [],
   "source": [
    "df_negative = df_negative.sort_values(by='len', ascending=False)[0:350000]\n",
    "df_positive = df_positive.sort_values(by='len', ascending=False)[0:400000]"
   ]
  },
  {
   "cell_type": "code",
   "execution_count": 462,
   "metadata": {
    "ExecuteTime": {
     "end_time": "2019-03-18T12:06:18.998308Z",
     "start_time": "2019-03-18T12:06:18.992263Z"
    }
   },
   "outputs": [
    {
     "data": {
      "text/plain": [
       "400000"
      ]
     },
     "execution_count": 462,
     "metadata": {},
     "output_type": "execute_result"
    }
   ],
   "source": [
    "len(df_positive)"
   ]
  },
  {
   "cell_type": "code",
   "execution_count": 466,
   "metadata": {
    "ExecuteTime": {
     "end_time": "2019-03-18T12:07:18.021402Z",
     "start_time": "2019-03-18T12:07:18.017418Z"
    }
   },
   "outputs": [
    {
     "data": {
      "text/plain": [
       "350000"
      ]
     },
     "execution_count": 466,
     "metadata": {},
     "output_type": "execute_result"
    }
   ],
   "source": [
    "len(df_negative)"
   ]
  },
  {
   "cell_type": "code",
   "execution_count": 467,
   "metadata": {
    "ExecuteTime": {
     "end_time": "2019-03-18T12:07:24.084498Z",
     "start_time": "2019-03-18T12:07:23.660253Z"
    }
   },
   "outputs": [],
   "source": [
    "df = df_positive.append(df_negative)"
   ]
  },
  {
   "cell_type": "code",
   "execution_count": 472,
   "metadata": {
    "ExecuteTime": {
     "end_time": "2019-03-18T12:08:43.643494Z",
     "start_time": "2019-03-18T12:08:39.862694Z"
    }
   },
   "outputs": [],
   "source": [
    "# shuffle\n",
    "for _ in range(10):\n",
    "    df = df.sample(frac=1)"
   ]
  },
  {
   "cell_type": "code",
   "execution_count": 474,
   "metadata": {
    "ExecuteTime": {
     "end_time": "2019-03-18T12:09:01.049084Z",
     "start_time": "2019-03-18T12:08:53.480094Z"
    }
   },
   "outputs": [],
   "source": [
    "df.drop(['len', 'english', 'ratio_zh_en', 'cut_len'], axis=1, inplace=True) \n",
    "df.to_csv('Douban.csv', index=False)"
   ]
  },
  {
   "cell_type": "code",
   "execution_count": 2,
   "metadata": {
    "ExecuteTime": {
     "end_time": "2019-03-20T12:26:01.380064Z",
     "start_time": "2019-03-20T12:25:56.471866Z"
    }
   },
   "outputs": [],
   "source": [
    "df = pd.read_csv('Douban.csv')"
   ]
  },
  {
   "cell_type": "code",
   "execution_count": 3,
   "metadata": {
    "ExecuteTime": {
     "end_time": "2019-03-20T12:26:01.466185Z",
     "start_time": "2019-03-20T12:26:01.383958Z"
    }
   },
   "outputs": [
    {
     "data": {
      "text/plain": [
       "400000"
      ]
     },
     "execution_count": 3,
     "metadata": {},
     "output_type": "execute_result"
    }
   ],
   "source": [
    "len(df[df.label==1])"
   ]
  },
  {
   "cell_type": "code",
   "execution_count": 4,
   "metadata": {
    "ExecuteTime": {
     "end_time": "2019-03-20T12:26:01.521325Z",
     "start_time": "2019-03-20T12:26:01.468182Z"
    }
   },
   "outputs": [],
   "source": [
    "negative = df[df.label==0]"
   ]
  },
  {
   "cell_type": "code",
   "execution_count": 5,
   "metadata": {
    "ExecuteTime": {
     "end_time": "2019-03-20T12:26:01.578475Z",
     "start_time": "2019-03-20T12:26:01.525334Z"
    }
   },
   "outputs": [],
   "source": [
    "positive = df[df.label==1]"
   ]
  },
  {
   "cell_type": "code",
   "execution_count": 6,
   "metadata": {
    "ExecuteTime": {
     "end_time": "2019-03-20T12:26:01.586497Z",
     "start_time": "2019-03-20T12:26:01.580481Z"
    }
   },
   "outputs": [
    {
     "data": {
      "text/plain": [
       "350000"
      ]
     },
     "execution_count": 6,
     "metadata": {},
     "output_type": "execute_result"
    }
   ],
   "source": [
    "len(negative)"
   ]
  },
  {
   "cell_type": "code",
   "execution_count": 7,
   "metadata": {
    "ExecuteTime": {
     "end_time": "2019-03-20T12:26:01.762967Z",
     "start_time": "2019-03-20T12:26:01.588502Z"
    }
   },
   "outputs": [],
   "source": [
    "positive = positive.sample(frac=35/40)"
   ]
  },
  {
   "cell_type": "code",
   "execution_count": 8,
   "metadata": {
    "ExecuteTime": {
     "end_time": "2019-03-20T12:26:01.771990Z",
     "start_time": "2019-03-20T12:26:01.766983Z"
    }
   },
   "outputs": [
    {
     "data": {
      "text/plain": [
       "350000"
      ]
     },
     "execution_count": 8,
     "metadata": {},
     "output_type": "execute_result"
    }
   ],
   "source": [
    "len(positive)"
   ]
  },
  {
   "cell_type": "code",
   "execution_count": 9,
   "metadata": {
    "ExecuteTime": {
     "end_time": "2019-03-20T12:26:05.089609Z",
     "start_time": "2019-03-20T12:26:04.933079Z"
    }
   },
   "outputs": [],
   "source": [
    "df = pd.concat([negative, positive])"
   ]
  },
  {
   "cell_type": "code",
   "execution_count": 12,
   "metadata": {
    "ExecuteTime": {
     "end_time": "2019-03-20T12:26:24.584770Z",
     "start_time": "2019-03-20T12:26:21.070426Z"
    }
   },
   "outputs": [],
   "source": [
    "# shuffle\n",
    "for _ in range(10):\n",
    "    df = df.sample(frac=1)"
   ]
  },
  {
   "cell_type": "code",
   "execution_count": 13,
   "metadata": {
    "ExecuteTime": {
     "end_time": "2019-03-20T12:26:56.897336Z",
     "start_time": "2019-03-20T12:26:48.816962Z"
    }
   },
   "outputs": [],
   "source": [
    "from sklearn.model_selection import train_test_split\n",
    "df_train, df_test = train_test_split(df, shuffle=True, random_state=0, test_size=100000, stratify=df['label'])\n",
    "df_train.to_csv('train.csv', index=False)\n",
    "df_test.to_csv('test.csv', index=False)"
   ]
  },
  {
   "cell_type": "code",
   "execution_count": 14,
   "metadata": {
    "ExecuteTime": {
     "end_time": "2019-03-20T12:26:56.906272Z",
     "start_time": "2019-03-20T12:26:56.900229Z"
    }
   },
   "outputs": [
    {
     "data": {
      "text/plain": [
       "600000"
      ]
     },
     "execution_count": 14,
     "metadata": {},
     "output_type": "execute_result"
    }
   ],
   "source": [
    "len(df_train)"
   ]
  },
  {
   "cell_type": "code",
   "execution_count": 15,
   "metadata": {
    "ExecuteTime": {
     "end_time": "2019-03-20T12:26:56.944347Z",
     "start_time": "2019-03-20T12:26:56.909269Z"
    }
   },
   "outputs": [
    {
     "data": {
      "text/plain": [
       "100000"
      ]
     },
     "execution_count": 15,
     "metadata": {},
     "output_type": "execute_result"
    }
   ],
   "source": [
    "len(df_test)"
   ]
  },
  {
   "cell_type": "code",
   "execution_count": null,
   "metadata": {},
   "outputs": [],
   "source": []
  }
 ],
 "metadata": {
  "kernelspec": {
   "display_name": "Python 3",
   "language": "python",
   "name": "python3"
  },
  "language_info": {
   "codemirror_mode": {
    "name": "ipython",
    "version": 3
   },
   "file_extension": ".py",
   "mimetype": "text/x-python",
   "name": "python",
   "nbconvert_exporter": "python",
   "pygments_lexer": "ipython3",
   "version": "3.6.1"
  }
 },
 "nbformat": 4,
 "nbformat_minor": 2
}
