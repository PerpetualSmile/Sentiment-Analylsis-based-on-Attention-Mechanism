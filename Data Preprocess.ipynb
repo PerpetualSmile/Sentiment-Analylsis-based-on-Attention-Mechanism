{
 "cells": [
  {
   "cell_type": "markdown",
   "metadata": {},
   "source": [
    "# Prepare Data for Training & Validating & Testing"
   ]
  },
  {
   "cell_type": "markdown",
   "metadata": {},
   "source": [
    "## Dataset\n",
    "- [**IMDB Large Movie Review Dataset**](http://ai.stanford.edu/~amaas/data/sentiment/)\n",
    "    - Binary sentiment classification\n",
    "    - Citation: [Andrew L. Maas et al., 2011](http://ai.stanford.edu/~amaas/papers/wvSent_acl2011.pdf)\n",
    "    - 50,000 movie reviews for training and testing\n",
    "    - Average review length: 231 vocab\n",
    "    ---\n",
    "- [**Yelp reviews-full**](http://xzh.me/docs/charconvnet.pdf)\n",
    "    - Multiclass sentiment classification (5 stars)\n",
    "    - Citation: [Xiang Zhang et al., 2015](https://arxiv.org/abs/1509.01626)\n",
    "    - 650,000 training samples and 50,000 testing samples (Nums of each star are equal)\n",
    "    - Average review length: 140 vocab\n",
    "    ---\n",
    "- [**Yelp reviews-polarity**](http://xzh.me/docs/charconvnet.pdf)\n",
    "    - Binary sentiment classification\n",
    "    - Citation: [Xiang Zhang et al., 2015](https://arxiv.org/abs/1509.01626)\n",
    "    - 560,000 training samples and 38,000 testing samples (Nums of positive or negative samples are equal)\n",
    "    - Average review length: 140 vocab\n",
    "    ---\n",
    "- [**Douban Movie Reviews**](https://drive.google.com/open?id=1DsmQfB1Ff_BUoxOv4kfUMg7Y8M7tHB9F) \n",
    "    - My Custom Chinese movie reviews dataset scraped by python extension package requests\n",
    "    - Binary sentiment classification\n",
    "    - 750,000 movie reviews from [Douban](https://movie.douban.com/), 650,000 samples for training and 100,000 samples for testing (Num of positive or negative samples is equal)\n",
    "    - Average review length: 52 character, 28 vocab"
   ]
  },
  {
   "cell_type": "code",
   "execution_count": 1,
   "metadata": {
    "ExecuteTime": {
     "end_time": "2019-03-20T12:27:50.767097Z",
     "start_time": "2019-03-20T12:27:44.264714Z"
    }
   },
   "outputs": [],
   "source": [
    "import numpy as np\n",
    "import pandas as pd\n",
    "from sklearn.model_selection import train_test_split\n",
    "import matplotlib.pyplot as plt\n",
    "import warnings\n",
    "warnings.filterwarnings('ignore')\n",
    "\n",
    "from utils import clean_text, clean_text_zh\n",
    "%matplotlib inline\n",
    "%load_ext autoreload\n",
    "%autoreload 2"
   ]
  },
  {
   "cell_type": "markdown",
   "metadata": {},
   "source": [
    "## IMDB"
   ]
  },
  {
   "cell_type": "code",
   "execution_count": 2,
   "metadata": {
    "ExecuteTime": {
     "end_time": "2019-03-10T11:45:52.554489Z",
     "start_time": "2019-03-10T11:45:50.772737Z"
    }
   },
   "outputs": [],
   "source": [
    "df = pd.read_csv('dataset/IMDB/imdb_master.csv', encoding='latin-1')"
   ]
  },
  {
   "cell_type": "code",
   "execution_count": 3,
   "metadata": {
    "ExecuteTime": {
     "end_time": "2019-03-10T11:45:52.671791Z",
     "start_time": "2019-03-10T11:45:52.556484Z"
    },
    "scrolled": true
   },
   "outputs": [
    {
     "data": {
      "text/html": [
       "<div>\n",
       "<style scoped>\n",
       "    .dataframe tbody tr th:only-of-type {\n",
       "        vertical-align: middle;\n",
       "    }\n",
       "\n",
       "    .dataframe tbody tr th {\n",
       "        vertical-align: top;\n",
       "    }\n",
       "\n",
       "    .dataframe thead th {\n",
       "        text-align: right;\n",
       "    }\n",
       "</style>\n",
       "<table border=\"1\" class=\"dataframe\">\n",
       "  <thead>\n",
       "    <tr style=\"text-align: right;\">\n",
       "      <th></th>\n",
       "      <th>Unnamed: 0</th>\n",
       "      <th>type</th>\n",
       "      <th>review</th>\n",
       "      <th>label</th>\n",
       "      <th>file</th>\n",
       "    </tr>\n",
       "  </thead>\n",
       "  <tbody>\n",
       "    <tr>\n",
       "      <th>0</th>\n",
       "      <td>0</td>\n",
       "      <td>test</td>\n",
       "      <td>Once again Mr. Costner has dragged out a movie...</td>\n",
       "      <td>neg</td>\n",
       "      <td>0_2.txt</td>\n",
       "    </tr>\n",
       "    <tr>\n",
       "      <th>1</th>\n",
       "      <td>1</td>\n",
       "      <td>test</td>\n",
       "      <td>This is an example of why the majority of acti...</td>\n",
       "      <td>neg</td>\n",
       "      <td>10000_4.txt</td>\n",
       "    </tr>\n",
       "    <tr>\n",
       "      <th>2</th>\n",
       "      <td>2</td>\n",
       "      <td>test</td>\n",
       "      <td>First of all I hate those moronic rappers, who...</td>\n",
       "      <td>neg</td>\n",
       "      <td>10001_1.txt</td>\n",
       "    </tr>\n",
       "    <tr>\n",
       "      <th>3</th>\n",
       "      <td>3</td>\n",
       "      <td>test</td>\n",
       "      <td>Not even the Beatles could write songs everyon...</td>\n",
       "      <td>neg</td>\n",
       "      <td>10002_3.txt</td>\n",
       "    </tr>\n",
       "    <tr>\n",
       "      <th>4</th>\n",
       "      <td>4</td>\n",
       "      <td>test</td>\n",
       "      <td>Brass pictures (movies is not a fitting word f...</td>\n",
       "      <td>neg</td>\n",
       "      <td>10003_3.txt</td>\n",
       "    </tr>\n",
       "  </tbody>\n",
       "</table>\n",
       "</div>"
      ],
      "text/plain": [
       "   Unnamed: 0  type                                             review label  \\\n",
       "0           0  test  Once again Mr. Costner has dragged out a movie...   neg   \n",
       "1           1  test  This is an example of why the majority of acti...   neg   \n",
       "2           2  test  First of all I hate those moronic rappers, who...   neg   \n",
       "3           3  test  Not even the Beatles could write songs everyon...   neg   \n",
       "4           4  test  Brass pictures (movies is not a fitting word f...   neg   \n",
       "\n",
       "          file  \n",
       "0      0_2.txt  \n",
       "1  10000_4.txt  \n",
       "2  10001_1.txt  \n",
       "3  10002_3.txt  \n",
       "4  10003_3.txt  "
      ]
     },
     "execution_count": 3,
     "metadata": {},
     "output_type": "execute_result"
    }
   ],
   "source": [
    "df.head()"
   ]
  },
  {
   "cell_type": "code",
   "execution_count": 4,
   "metadata": {
    "ExecuteTime": {
     "end_time": "2019-03-10T11:45:52.843247Z",
     "start_time": "2019-03-10T11:45:52.675801Z"
    }
   },
   "outputs": [
    {
     "data": {
      "text/html": [
       "<div>\n",
       "<style scoped>\n",
       "    .dataframe tbody tr th:only-of-type {\n",
       "        vertical-align: middle;\n",
       "    }\n",
       "\n",
       "    .dataframe tbody tr th {\n",
       "        vertical-align: top;\n",
       "    }\n",
       "\n",
       "    .dataframe thead th {\n",
       "        text-align: right;\n",
       "    }\n",
       "</style>\n",
       "<table border=\"1\" class=\"dataframe\">\n",
       "  <thead>\n",
       "    <tr style=\"text-align: right;\">\n",
       "      <th></th>\n",
       "      <th>Unnamed: 0</th>\n",
       "      <th>type</th>\n",
       "      <th>review</th>\n",
       "      <th>label</th>\n",
       "      <th>file</th>\n",
       "    </tr>\n",
       "  </thead>\n",
       "  <tbody>\n",
       "    <tr>\n",
       "      <th>0</th>\n",
       "      <td>0</td>\n",
       "      <td>test</td>\n",
       "      <td>Once again Mr. Costner has dragged out a movie...</td>\n",
       "      <td>0</td>\n",
       "      <td>0_2.txt</td>\n",
       "    </tr>\n",
       "    <tr>\n",
       "      <th>1</th>\n",
       "      <td>1</td>\n",
       "      <td>test</td>\n",
       "      <td>This is an example of why the majority of acti...</td>\n",
       "      <td>0</td>\n",
       "      <td>10000_4.txt</td>\n",
       "    </tr>\n",
       "    <tr>\n",
       "      <th>2</th>\n",
       "      <td>2</td>\n",
       "      <td>test</td>\n",
       "      <td>First of all I hate those moronic rappers, who...</td>\n",
       "      <td>0</td>\n",
       "      <td>10001_1.txt</td>\n",
       "    </tr>\n",
       "    <tr>\n",
       "      <th>3</th>\n",
       "      <td>3</td>\n",
       "      <td>test</td>\n",
       "      <td>Not even the Beatles could write songs everyon...</td>\n",
       "      <td>0</td>\n",
       "      <td>10002_3.txt</td>\n",
       "    </tr>\n",
       "    <tr>\n",
       "      <th>4</th>\n",
       "      <td>4</td>\n",
       "      <td>test</td>\n",
       "      <td>Brass pictures (movies is not a fitting word f...</td>\n",
       "      <td>0</td>\n",
       "      <td>10003_3.txt</td>\n",
       "    </tr>\n",
       "  </tbody>\n",
       "</table>\n",
       "</div>"
      ],
      "text/plain": [
       "   Unnamed: 0  type                                             review  label  \\\n",
       "0           0  test  Once again Mr. Costner has dragged out a movie...      0   \n",
       "1           1  test  This is an example of why the majority of acti...      0   \n",
       "2           2  test  First of all I hate those moronic rappers, who...      0   \n",
       "3           3  test  Not even the Beatles could write songs everyon...      0   \n",
       "4           4  test  Brass pictures (movies is not a fitting word f...      0   \n",
       "\n",
       "          file  \n",
       "0      0_2.txt  \n",
       "1  10000_4.txt  \n",
       "2  10001_1.txt  \n",
       "3  10002_3.txt  \n",
       "4  10003_3.txt  "
      ]
     },
     "execution_count": 4,
     "metadata": {},
     "output_type": "execute_result"
    }
   ],
   "source": [
    "df = df[df['label'] != 'unsup']\n",
    "df['label'] = df['label'].map({'neg':0, 'pos':1})\n",
    "df.head()"
   ]
  },
  {
   "cell_type": "code",
   "execution_count": 5,
   "metadata": {
    "ExecuteTime": {
     "end_time": "2019-03-10T11:47:52.198347Z",
     "start_time": "2019-03-10T11:45:52.846255Z"
    }
   },
   "outputs": [],
   "source": [
    "df['Processed_Reviews'] = df['review'].apply(clean_text)"
   ]
  },
  {
   "cell_type": "code",
   "execution_count": 6,
   "metadata": {
    "ExecuteTime": {
     "end_time": "2019-03-10T11:47:52.346741Z",
     "start_time": "2019-03-10T11:47:52.200351Z"
    }
   },
   "outputs": [],
   "source": [
    "df_train, df_test = train_test_split(df, test_size=0.1, random_state=0, stratify=df.label)"
   ]
  },
  {
   "cell_type": "code",
   "execution_count": 7,
   "metadata": {
    "ExecuteTime": {
     "end_time": "2019-03-10T11:47:52.469066Z",
     "start_time": "2019-03-10T11:47:52.348746Z"
    }
   },
   "outputs": [],
   "source": [
    "df_train, df_validate = train_test_split(df_train, test_size=5000, random_state=0, stratify=df_train.label)"
   ]
  },
  {
   "cell_type": "code",
   "execution_count": 8,
   "metadata": {
    "ExecuteTime": {
     "end_time": "2019-03-10T11:47:52.573352Z",
     "start_time": "2019-03-10T11:47:52.471071Z"
    }
   },
   "outputs": [
    {
     "name": "stdout",
     "output_type": "stream",
     "text": [
      "Train set size:  40000\n",
      "Validation set size:  5000\n",
      "Test set size:  5000\n"
     ]
    }
   ],
   "source": [
    "print(\"Train set size: \", len(df_train))\n",
    "print(\"Validation set size: \", len(df_validate))\n",
    "print(\"Test set size: \", len(df_test))"
   ]
  },
  {
   "cell_type": "code",
   "execution_count": 9,
   "metadata": {
    "ExecuteTime": {
     "end_time": "2019-03-10T11:47:53.803599Z",
     "start_time": "2019-03-10T11:47:52.575360Z"
    },
    "scrolled": true
   },
   "outputs": [
    {
     "data": {
      "text/plain": [
       "Text(0, 0.5, 'Counts')"
      ]
     },
     "execution_count": 9,
     "metadata": {},
     "output_type": "execute_result"
    },
    {
     "data": {
      "image/png": "[encoded data removed]",
      "text/plain": [
       "<Figure size 432x288 with 1 Axes>"
      ]
     },
     "metadata": {
      "needs_background": "light"
     },
     "output_type": "display_data"
    }
   ],
   "source": [
    "plt.figure()\n",
    "_ = plt.hist(df_train.Processed_Reviews.apply(lambda x: len(x.split())), bins = 100)\n",
    "plt.title('Distribution of sentence length')\n",
    "plt.xlabel('Length')\n",
    "plt.ylabel('Counts')"
   ]
  },
  {
   "cell_type": "markdown",
   "metadata": {},
   "source": [
    "### Word sequence to num sequence"
   ]
  },
  {
   "cell_type": "code",
   "execution_count": 10,
   "metadata": {
    "ExecuteTime": {
     "end_time": "2019-03-10T11:47:53.903868Z",
     "start_time": "2019-03-10T11:47:53.805606Z"
    }
   },
   "outputs": [],
   "source": [
    "word_count = {}\n",
    "def count(x):\n",
    "    for word in x.split():\n",
    "        word_count[word] = word_count.get(word, 0) + 1"
   ]
  },
  {
   "cell_type": "code",
   "execution_count": 11,
   "metadata": {
    "ExecuteTime": {
     "end_time": "2019-03-10T11:47:57.772919Z",
     "start_time": "2019-03-10T11:47:53.904868Z"
    }
   },
   "outputs": [],
   "source": [
    "_ = df_train.Processed_Reviews.apply(count)"
   ]
  },
  {
   "cell_type": "code",
   "execution_count": 12,
   "metadata": {
    "ExecuteTime": {
     "end_time": "2019-03-10T11:47:57.918307Z",
     "start_time": "2019-03-10T11:47:57.773957Z"
    },
    "scrolled": false
   },
   "outputs": [],
   "source": [
    "df_word_count = pd.DataFrame(list(word_count.items()), columns=['word', 'count'])\n",
    "df_word_count.sort_values(by='count', ascending=False, inplace=True)\n",
    "df_word_count.set_index('word', inplace=True)"
   ]
  },
  {
   "cell_type": "code",
   "execution_count": 13,
   "metadata": {
    "ExecuteTime": {
     "end_time": "2019-03-10T11:47:58.035650Z",
     "start_time": "2019-03-10T11:47:57.920317Z"
    }
   },
   "outputs": [],
   "source": [
    "df_word_count.drop(['the', 'a', 'and', 'of', 'to', 'br', 'in', 'this', 'that', 's'], inplace=True)"
   ]
  },
  {
   "cell_type": "code",
   "execution_count": 14,
   "metadata": {
    "ExecuteTime": {
     "end_time": "2019-03-10T11:47:58.135887Z",
     "start_time": "2019-03-10T11:47:58.037631Z"
    }
   },
   "outputs": [],
   "source": [
    "vocab_size = 20000\n",
    "df_word_count = df_word_count[:vocab_size-3]"
   ]
  },
  {
   "cell_type": "code",
   "execution_count": 15,
   "metadata": {
    "ExecuteTime": {
     "end_time": "2019-03-10T11:47:58.256219Z",
     "start_time": "2019-03-10T11:47:58.140900Z"
    }
   },
   "outputs": [],
   "source": [
    "word2num_series = df_word_count.reset_index().reset_index().set_index('word')['index'] + 3 # reverse 0, 1, 2 for padding, BOS, EOS"
   ]
  },
  {
   "cell_type": "code",
   "execution_count": 16,
   "metadata": {
    "ExecuteTime": {
     "end_time": "2019-03-10T11:49:23.349525Z",
     "start_time": "2019-03-10T11:47:58.259216Z"
    }
   },
   "outputs": [],
   "source": [
    "X_train = df_train.Processed_Reviews.apply(lambda x: np.array([word2num_series[word] for word in x.split() if word in word2num_series], dtype=np.int32))"
   ]
  },
  {
   "cell_type": "code",
   "execution_count": 17,
   "metadata": {
    "ExecuteTime": {
     "end_time": "2019-03-10T11:49:23.464798Z",
     "start_time": "2019-03-10T11:49:23.350494Z"
    }
   },
   "outputs": [],
   "source": [
    "y_train = df_train.label"
   ]
  },
  {
   "cell_type": "markdown",
   "metadata": {},
   "source": [
    "### Process validation set and test set"
   ]
  },
  {
   "cell_type": "code",
   "execution_count": 18,
   "metadata": {
    "ExecuteTime": {
     "end_time": "2019-03-10T11:49:44.697520Z",
     "start_time": "2019-03-10T11:49:23.466803Z"
    }
   },
   "outputs": [],
   "source": [
    "X_val = df_validate.Processed_Reviews.apply(lambda x: np.array([word2num_series[word] for word in x.split() if word in word2num_series], dtype=np.int32))\n",
    "X_test = df_test.Processed_Reviews.apply(lambda x: np.array([word2num_series[word] for word in x.split() if word in word2num_series], dtype=np.int32))\n",
    "y_val = df_validate.label\n",
    "y_test = df_test.label"
   ]
  },
  {
   "cell_type": "markdown",
   "metadata": {},
   "source": [
    "### Save the data into h5 file"
   ]
  },
  {
   "cell_type": "code",
   "execution_count": 19,
   "metadata": {
    "ExecuteTime": {
     "end_time": "2019-03-10T11:49:45.816748Z",
     "start_time": "2019-03-10T11:49:44.699526Z"
    }
   },
   "outputs": [],
   "source": [
    "X_train.to_hdf('dataset/IMDB/X_train.h5', key='s', model='w')\n",
    "y_train.to_hdf('dataset/IMDB/y_train.h5', key='s', model='w')\n",
    "\n",
    "X_val.to_hdf('dataset/IMDB/X_val.h5', key='s', model='w')\n",
    "y_val.to_hdf('dataset/IMDB/y_val.h5', key='s', model='w')\n",
    "\n",
    "X_test.to_hdf('dataset/IMDB/X_test.h5', key='s', model='w')\n",
    "y_test.to_hdf('dataset/IMDB/y_test.h5', key='s', model='w')\n",
    "word2num_series.to_hdf('dataset/IMDB/word2num_series.h5', key='s', model='w')"
   ]
  },
  {
   "cell_type": "markdown",
   "metadata": {},
   "source": [
    "# Yelp Reviews Polarity"
   ]
  },
  {
   "cell_type": "code",
   "execution_count": 40,
   "metadata": {
    "ExecuteTime": {
     "end_time": "2019-03-10T11:58:16.520561Z",
     "start_time": "2019-03-10T11:58:11.546476Z"
    }
   },
   "outputs": [],
   "source": [
    "df = pd.read_csv('dataset/yelp_review_polarity_csv/train.csv', header=None)"
   ]
  },
  {
   "cell_type": "code",
   "execution_count": 41,
   "metadata": {
    "ExecuteTime": {
     "end_time": "2019-03-10T11:58:16.990376Z",
     "start_time": "2019-03-10T11:58:16.524091Z"
    }
   },
   "outputs": [],
   "source": [
    "df_test = pd.read_csv('dataset/yelp_review_polarity_csv/test.csv', header=None)"
   ]
  },
  {
   "cell_type": "code",
   "execution_count": 43,
   "metadata": {
    "ExecuteTime": {
     "end_time": "2019-03-10T11:58:37.683270Z",
     "start_time": "2019-03-10T11:58:37.569957Z"
    }
   },
   "outputs": [],
   "source": [
    "df.columns = ['label', 'review']\n",
    "df['label'] = df['label'].map({1:0, 2:1})\n",
    "df_test.columns = ['label', 'review']\n",
    "df_test['label'] = df_test['label'].map({1:0, 2:1})"
   ]
  },
  {
   "cell_type": "code",
   "execution_count": 44,
   "metadata": {
    "ExecuteTime": {
     "end_time": "2019-03-10T11:58:38.204260Z",
     "start_time": "2019-03-10T11:58:38.013754Z"
    }
   },
   "outputs": [
    {
     "data": {
      "text/plain": [
       "label     560000\n",
       "review    560000\n",
       "dtype: int64"
      ]
     },
     "execution_count": 44,
     "metadata": {},
     "output_type": "execute_result"
    }
   ],
   "source": [
    "df.count()"
   ]
  },
  {
   "cell_type": "code",
   "execution_count": 46,
   "metadata": {
    "ExecuteTime": {
     "end_time": "2019-03-10T11:58:54.045098Z",
     "start_time": "2019-03-10T11:58:53.934842Z"
    }
   },
   "outputs": [
    {
     "data": {
      "text/plain": [
       "label     38000\n",
       "review    38000\n",
       "dtype: int64"
      ]
     },
     "execution_count": 46,
     "metadata": {},
     "output_type": "execute_result"
    }
   ],
   "source": [
    "df_test.count()"
   ]
  },
  {
   "cell_type": "code",
   "execution_count": 47,
   "metadata": {
    "ExecuteTime": {
     "end_time": "2019-03-10T12:16:54.264111Z",
     "start_time": "2019-03-10T11:59:28.632490Z"
    }
   },
   "outputs": [],
   "source": [
    "df['Processed_Reviews'] = df['review'].apply(lambda x: clean_text(x))\n",
    "df_test['Processed_Reviews'] = df_test['review'].apply(lambda x: clean_text(x))"
   ]
  },
  {
   "cell_type": "code",
   "execution_count": 48,
   "metadata": {
    "ExecuteTime": {
     "end_time": "2019-03-10T12:17:01.952947Z",
     "start_time": "2019-03-10T12:16:54.269625Z"
    }
   },
   "outputs": [
    {
     "data": {
      "text/plain": [
       "140.4831017857143"
      ]
     },
     "execution_count": 48,
     "metadata": {},
     "output_type": "execute_result"
    }
   ],
   "source": [
    "df['Processed_Reviews'].apply(lambda x: len(x.split())).mean()"
   ]
  },
  {
   "cell_type": "code",
   "execution_count": 54,
   "metadata": {
    "ExecuteTime": {
     "end_time": "2019-03-10T12:35:25.820055Z",
     "start_time": "2019-03-10T12:35:25.390914Z"
    }
   },
   "outputs": [],
   "source": [
    "df_train, df_validate = train_test_split(df, test_size=40000, random_state=0, stratify=df.label)"
   ]
  },
  {
   "cell_type": "code",
   "execution_count": 55,
   "metadata": {
    "ExecuteTime": {
     "end_time": "2019-03-10T12:35:26.252019Z",
     "start_time": "2019-03-10T12:35:26.143731Z"
    }
   },
   "outputs": [
    {
     "name": "stdout",
     "output_type": "stream",
     "text": [
      "Train set size:  520000\n",
      "Validation set size:  40000\n",
      "Test set size:  38000\n"
     ]
    }
   ],
   "source": [
    "print(\"Train set size: \", len(df_train))\n",
    "print(\"Validation set size: \", len(df_validate))\n",
    "print(\"Test set size: \", len(df_test))"
   ]
  },
  {
   "cell_type": "code",
   "execution_count": 56,
   "metadata": {
    "ExecuteTime": {
     "end_time": "2019-03-10T12:36:05.445768Z",
     "start_time": "2019-03-10T12:35:59.197141Z"
    }
   },
   "outputs": [
    {
     "data": {
      "text/plain": [
       "Text(0, 0.5, 'Counts')"
      ]
     },
     "execution_count": 56,
     "metadata": {},
     "output_type": "execute_result"
    },
    {
     "data": {
      "image/png": "[encoded data removed]",
      "text/plain": [
       "<Figure size 432x288 with 1 Axes>"
      ]
     },
     "metadata": {
      "needs_background": "light"
     },
     "output_type": "display_data"
    }
   ],
   "source": [
    "plt.figure()\n",
    "_ = plt.hist(df_train.Processed_Reviews.apply(lambda x: len(x.split())), bins = 100)\n",
    "plt.title('Distribution of sentence length')\n",
    "plt.xlabel('Length')\n",
    "plt.ylabel('Counts')"
   ]
  },
  {
   "cell_type": "code",
   "execution_count": 57,
   "metadata": {
    "ExecuteTime": {
     "end_time": "2019-03-10T12:37:01.303638Z",
     "start_time": "2019-03-10T12:37:01.201366Z"
    }
   },
   "outputs": [],
   "source": [
    "word_count = {}\n",
    "def count(x):\n",
    "    for word in x.split():\n",
    "        word_count[word] = word_count.get(word, 0) + 1"
   ]
  },
  {
   "cell_type": "code",
   "execution_count": 58,
   "metadata": {
    "ExecuteTime": {
     "end_time": "2019-03-10T12:38:14.123275Z",
     "start_time": "2019-03-10T12:37:43.451599Z"
    }
   },
   "outputs": [],
   "source": [
    "_ = df_train.Processed_Reviews.apply(count)"
   ]
  },
  {
   "cell_type": "code",
   "execution_count": 59,
   "metadata": {
    "ExecuteTime": {
     "end_time": "2019-03-10T12:38:59.523530Z",
     "start_time": "2019-03-10T12:38:59.123467Z"
    }
   },
   "outputs": [],
   "source": [
    "df_word_count = pd.DataFrame(list(word_count.items()), columns=['word', 'count'])\n",
    "df_word_count.sort_values(by='count', ascending=False, inplace=True)\n",
    "df_word_count.set_index('word', inplace=True)"
   ]
  },
  {
   "cell_type": "code",
   "execution_count": 61,
   "metadata": {
    "ExecuteTime": {
     "end_time": "2019-03-10T12:40:21.009731Z",
     "start_time": "2019-03-10T12:40:20.828273Z"
    }
   },
   "outputs": [],
   "source": [
    "df_word_count.drop(['the', 'a', 'and', 'of', 'to', 'br', 'in', 'this', 'that', 's', 'n'], inplace=True)"
   ]
  },
  {
   "cell_type": "code",
   "execution_count": 62,
   "metadata": {
    "ExecuteTime": {
     "end_time": "2019-03-10T12:40:50.180454Z",
     "start_time": "2019-03-10T12:40:50.078182Z"
    }
   },
   "outputs": [],
   "source": [
    "vocab_size = 40000\n",
    "df_word_count = df_word_count[:vocab_size-3]"
   ]
  },
  {
   "cell_type": "code",
   "execution_count": 63,
   "metadata": {
    "ExecuteTime": {
     "end_time": "2019-03-10T12:41:30.171858Z",
     "start_time": "2019-03-10T12:41:30.058585Z"
    }
   },
   "outputs": [],
   "source": [
    "word2num_series = df_word_count.reset_index().reset_index().set_index('word')['index'] + 3 # reverse 0, 1, 2 for padding, BOS, EOS"
   ]
  },
  {
   "cell_type": "code",
   "execution_count": 65,
   "metadata": {
    "ExecuteTime": {
     "end_time": "2019-03-10T12:56:49.077161Z",
     "start_time": "2019-03-10T12:42:29.877211Z"
    }
   },
   "outputs": [],
   "source": [
    "X_train = df_train.Processed_Reviews.apply(lambda x: np.array([word2num_series[word] for word in x.split() if word in word2num_series], dtype=np.int32))\n",
    "y_train = df_train.label"
   ]
  },
  {
   "cell_type": "code",
   "execution_count": 66,
   "metadata": {
    "ExecuteTime": {
     "end_time": "2019-03-10T12:59:03.213718Z",
     "start_time": "2019-03-10T12:56:49.098217Z"
    }
   },
   "outputs": [],
   "source": [
    "X_val = df_validate.Processed_Reviews.apply(lambda x: np.array([word2num_series[word] for word in x.split() if word in word2num_series], dtype=np.int32))\n",
    "X_test = df_test.Processed_Reviews.apply(lambda x: np.array([word2num_series[word] for word in x.split() if word in word2num_series], dtype=np.int32))\n",
    "y_val = df_validate.label\n",
    "y_test = df_test.label"
   ]
  },
  {
   "cell_type": "code",
   "execution_count": 68,
   "metadata": {
    "ExecuteTime": {
     "end_time": "2019-03-10T13:10:32.941958Z",
     "start_time": "2019-03-10T13:10:25.084080Z"
    }
   },
   "outputs": [],
   "source": [
    "X_train.to_hdf('dataset/yelp_review_polarity_csv/X_train.h5', key='s', model='w')\n",
    "y_train.to_hdf('dataset/yelp_review_polarity_csv/y_train.h5', key='s', model='w')\n",
    "\n",
    "X_val.to_hdf('dataset/yelp_review_polarity_csv/X_val.h5', key='s', model='w')\n",
    "y_val.to_hdf('dataset/yelp_review_polarity_csv/y_val.h5', key='s', model='w')\n",
    "\n",
    "X_test.to_hdf('dataset/yelp_review_polarity_csv/X_test.h5', key='s', model='w')\n",
    "y_test.to_hdf('dataset/yelp_review_polarity_csv/y_test.h5', key='s', model='w')\n",
    "word2num_series.to_hdf('dataset/yelp_review_polarity_csv/word2num_series.h5', key='s', model='w')"
   ]
  },
  {
   "cell_type": "markdown",
   "metadata": {},
   "source": [
    "## Yelp Reviews Full"
   ]
  },
  {
   "cell_type": "code",
   "execution_count": 70,
   "metadata": {
    "ExecuteTime": {
     "end_time": "2019-03-10T13:36:59.643528Z",
     "start_time": "2019-03-10T13:36:50.076371Z"
    }
   },
   "outputs": [],
   "source": [
    "df = pd.read_csv('dataset/yelp_review_full_csv/train.csv', header=None)\n",
    "df_test = pd.read_csv('dataset/yelp_review_full_csv/test.csv', header=None)"
   ]
  },
  {
   "cell_type": "code",
   "execution_count": 77,
   "metadata": {
    "ExecuteTime": {
     "end_time": "2019-03-10T13:41:40.980719Z",
     "start_time": "2019-03-10T13:41:40.870351Z"
    }
   },
   "outputs": [],
   "source": [
    "df.columns = ['label', 'review']\n",
    "df_test.columns = ['label', 'review']"
   ]
  },
  {
   "cell_type": "code",
   "execution_count": 81,
   "metadata": {
    "ExecuteTime": {
     "end_time": "2019-03-10T14:02:40.592478Z",
     "start_time": "2019-03-10T13:42:57.348165Z"
    }
   },
   "outputs": [],
   "source": [
    "df['Processed_Reviews'] = df['review'].apply(lambda x: clean_text(x))\n",
    "df_test['Processed_Reviews'] = df_test['review'].apply(lambda x: clean_text(x))"
   ]
  },
  {
   "cell_type": "code",
   "execution_count": 82,
   "metadata": {
    "ExecuteTime": {
     "end_time": "2019-03-10T14:02:49.130430Z",
     "start_time": "2019-03-10T14:02:40.595467Z"
    }
   },
   "outputs": [
    {
     "data": {
      "text/plain": [
       "141.65482307692307"
      ]
     },
     "execution_count": 82,
     "metadata": {},
     "output_type": "execute_result"
    }
   ],
   "source": [
    "df['Processed_Reviews'].apply(lambda x: len(x.split())).mean()"
   ]
  },
  {
   "cell_type": "code",
   "execution_count": 84,
   "metadata": {
    "ExecuteTime": {
     "end_time": "2019-03-10T14:05:37.512993Z",
     "start_time": "2019-03-10T14:05:36.795817Z"
    }
   },
   "outputs": [],
   "source": [
    "df_train, df_validate = train_test_split(df, test_size=50000, random_state=0, stratify=df.label)"
   ]
  },
  {
   "cell_type": "code",
   "execution_count": 87,
   "metadata": {
    "ExecuteTime": {
     "end_time": "2019-03-10T14:16:08.689482Z",
     "start_time": "2019-03-10T14:16:08.566150Z"
    }
   },
   "outputs": [
    {
     "name": "stdout",
     "output_type": "stream",
     "text": [
      "Train set size:  600000\n",
      "Validation set size:  50000\n",
      "Test set size:  50000\n"
     ]
    }
   ],
   "source": [
    "print(\"Train set size: \", len(df_train))\n",
    "print(\"Validation set size: \", len(df_validate))\n",
    "print(\"Test set size: \", len(df_test))"
   ]
  },
  {
   "cell_type": "code",
   "execution_count": 88,
   "metadata": {
    "ExecuteTime": {
     "end_time": "2019-03-10T14:17:48.409110Z",
     "start_time": "2019-03-10T14:17:40.289081Z"
    }
   },
   "outputs": [
    {
     "data": {
      "text/plain": [
       "Text(0, 0.5, 'Counts')"
      ]
     },
     "execution_count": 88,
     "metadata": {},
     "output_type": "execute_result"
    },
    {
     "data": {
      "image/png": "[encoded data removed]",
      "text/plain": [
       "<Figure size 432x288 with 1 Axes>"
      ]
     },
     "metadata": {
      "needs_background": "light"
     },
     "output_type": "display_data"
    }
   ],
   "source": [
    "plt.figure()\n",
    "_ = plt.hist(df_train.Processed_Reviews.apply(lambda x: len(x.split())), bins = 100)\n",
    "plt.title('Distribution of sentence length')\n",
    "plt.xlabel('Length')\n",
    "plt.ylabel('Counts')"
   ]
  },
  {
   "cell_type": "code",
   "execution_count": 89,
   "metadata": {
    "ExecuteTime": {
     "end_time": "2019-03-10T14:28:32.158168Z",
     "start_time": "2019-03-10T14:28:32.037148Z"
    }
   },
   "outputs": [],
   "source": [
    "word_count = {}\n",
    "def count(x):\n",
    "    for word in x.split():\n",
    "        word_count[word] = word_count.get(word, 0) + 1"
   ]
  },
  {
   "cell_type": "code",
   "execution_count": 90,
   "metadata": {
    "ExecuteTime": {
     "end_time": "2019-03-10T14:29:26.429483Z",
     "start_time": "2019-03-10T14:28:44.989082Z"
    }
   },
   "outputs": [],
   "source": [
    "_ = df_train.Processed_Reviews.apply(count)"
   ]
  },
  {
   "cell_type": "code",
   "execution_count": 91,
   "metadata": {
    "ExecuteTime": {
     "end_time": "2019-03-10T14:29:26.747377Z",
     "start_time": "2019-03-10T14:29:26.432492Z"
    }
   },
   "outputs": [],
   "source": [
    "df_word_count = pd.DataFrame(list(word_count.items()), columns=['word', 'count'])\n",
    "df_word_count.sort_values(by='count', ascending=False, inplace=True)\n",
    "df_word_count.set_index('word', inplace=True)"
   ]
  },
  {
   "cell_type": "code",
   "execution_count": 93,
   "metadata": {
    "ExecuteTime": {
     "end_time": "2019-03-10T14:36:55.340804Z",
     "start_time": "2019-03-10T14:36:55.084160Z"
    }
   },
   "outputs": [],
   "source": [
    "df_word_count.drop(['the', 'a', 'and', 'of', 'to', 'br', 'in', 'this', 'that', 's', 'n'], inplace=True)"
   ]
  },
  {
   "cell_type": "code",
   "execution_count": 100,
   "metadata": {
    "ExecuteTime": {
     "end_time": "2019-03-10T14:39:10.274285Z",
     "start_time": "2019-03-10T14:39:10.156794Z"
    }
   },
   "outputs": [],
   "source": [
    "vocab_size = 40000\n",
    "df_word_count = df_word_count[:vocab_size-3]"
   ]
  },
  {
   "cell_type": "code",
   "execution_count": 101,
   "metadata": {
    "ExecuteTime": {
     "end_time": "2019-03-10T14:39:41.575889Z",
     "start_time": "2019-03-10T14:39:41.447934Z"
    }
   },
   "outputs": [],
   "source": [
    "word2num_series = df_word_count.reset_index().reset_index().set_index('word')['index'] + 3 # reverse 0, 1, 2 for padding, BOS, EOS"
   ]
  },
  {
   "cell_type": "code",
   "execution_count": 102,
   "metadata": {
    "ExecuteTime": {
     "end_time": "2019-03-10T14:53:53.504269Z",
     "start_time": "2019-03-10T14:39:42.925422Z"
    }
   },
   "outputs": [],
   "source": [
    "X_train = df_train.Processed_Reviews.apply(lambda x: np.array([word2num_series[word] for word in x.split() if word in word2num_series], dtype=np.int32))\n",
    "y_train = df_train.label"
   ]
  },
  {
   "cell_type": "code",
   "execution_count": 103,
   "metadata": {
    "ExecuteTime": {
     "end_time": "2019-03-10T14:56:58.016182Z",
     "start_time": "2019-03-10T14:54:38.504487Z"
    }
   },
   "outputs": [],
   "source": [
    "X_val = df_validate.Processed_Reviews.apply(lambda x: np.array([word2num_series[word] for word in x.split() if word in word2num_series], dtype=np.int32))\n",
    "X_test = df_test.Processed_Reviews.apply(lambda x: np.array([word2num_series[word] for word in x.split() if word in word2num_series], dtype=np.int32))\n",
    "y_val = df_validate.label\n",
    "y_test = df_test.label"
   ]
  },
  {
   "cell_type": "code",
   "execution_count": 104,
   "metadata": {
    "ExecuteTime": {
     "end_time": "2019-03-10T14:57:05.769785Z",
     "start_time": "2019-03-10T14:56:58.019176Z"
    }
   },
   "outputs": [],
   "source": [
    "X_train.to_hdf('dataset/yelp_review_full_csv/X_train.h5', key='s', model='w')\n",
    "y_train.to_hdf('dataset/yelp_review_full_csv/y_train.h5', key='s', model='w')\n",
    "\n",
    "X_val.to_hdf('dataset/yelp_review_full_csv/X_val.h5', key='s', model='w')\n",
    "y_val.to_hdf('dataset/yelp_review_full_csv/y_val.h5', key='s', model='w')\n",
    "\n",
    "X_test.to_hdf('dataset/yelp_review_full_csv/X_test.h5', key='s', model='w')\n",
    "y_test.to_hdf('dataset/yelp_review_full_csv/y_test.h5', key='s', model='w')\n",
    "word2num_series.to_hdf('dataset/yelp_review_full_csv/word2num_series.h5', key='s', model='w')"
   ]
  },
  {
   "cell_type": "markdown",
   "metadata": {},
   "source": [
    "## Douban Dataset"
   ]
  },
  {
   "cell_type": "code",
   "execution_count": 5,
   "metadata": {
    "ExecuteTime": {
     "end_time": "2019-03-20T12:28:51.436382Z",
     "start_time": "2019-03-20T12:28:47.864843Z"
    }
   },
   "outputs": [],
   "source": [
    "df = pd.read_csv('dataset/Douban/train.csv')\n",
    "df_test = pd.read_csv('dataset/Douban/test.csv')"
   ]
  },
  {
   "cell_type": "code",
   "execution_count": 6,
   "metadata": {
    "ExecuteTime": {
     "end_time": "2019-03-20T12:28:51.562676Z",
     "start_time": "2019-03-20T12:28:51.440354Z"
    }
   },
   "outputs": [
    {
     "data": {
      "text/plain": [
       "600000"
      ]
     },
     "execution_count": 6,
     "metadata": {},
     "output_type": "execute_result"
    }
   ],
   "source": [
    "len(df)"
   ]
  },
  {
   "cell_type": "code",
   "execution_count": 7,
   "metadata": {
    "ExecuteTime": {
     "end_time": "2019-03-20T12:28:51.683014Z",
     "start_time": "2019-03-20T12:28:51.564693Z"
    }
   },
   "outputs": [
    {
     "data": {
      "text/plain": [
       "100000"
      ]
     },
     "execution_count": 7,
     "metadata": {},
     "output_type": "execute_result"
    }
   ],
   "source": [
    "len(df_test)"
   ]
  },
  {
   "cell_type": "code",
   "execution_count": 9,
   "metadata": {
    "ExecuteTime": {
     "end_time": "2019-03-20T12:29:12.197068Z",
     "start_time": "2019-03-20T12:29:04.226325Z"
    }
   },
   "outputs": [],
   "source": [
    "df['Processed_Reviews'] = df['content'].apply(clean_text_zh)\n",
    "df_test['Processed_Reviews'] = df_test['content'].apply(clean_text_zh)"
   ]
  },
  {
   "cell_type": "code",
   "execution_count": 10,
   "metadata": {
    "ExecuteTime": {
     "end_time": "2019-03-20T12:29:12.479508Z",
     "start_time": "2019-03-20T12:29:12.201067Z"
    }
   },
   "outputs": [],
   "source": [
    "import jieba"
   ]
  },
  {
   "cell_type": "code",
   "execution_count": 11,
   "metadata": {
    "ExecuteTime": {
     "end_time": "2019-03-20T12:32:38.294255Z",
     "start_time": "2019-03-20T12:29:12.482566Z"
    }
   },
   "outputs": [
    {
     "name": "stderr",
     "output_type": "stream",
     "text": [
      "Building prefix dict from the default dictionary ...\n",
      "Dumping model to file cache C:\\Users\\Jackdong\\AppData\\Local\\Temp\\jieba.cache\n",
      "Loading model cost 1.128 seconds.\n",
      "Prefix dict has been built succesfully.\n"
     ]
    },
    {
     "data": {
      "text/plain": [
       "27.412871666666668"
      ]
     },
     "execution_count": 11,
     "metadata": {},
     "output_type": "execute_result"
    }
   ],
   "source": [
    "df['Processed_Reviews'].apply(lambda x: len([word for word in jieba.cut(x) if word.strip()])).mean()"
   ]
  },
  {
   "cell_type": "code",
   "execution_count": 12,
   "metadata": {
    "ExecuteTime": {
     "end_time": "2019-03-20T12:32:38.671276Z",
     "start_time": "2019-03-20T12:32:38.298295Z"
    }
   },
   "outputs": [
    {
     "data": {
      "text/plain": [
       "51.59234333333333"
      ]
     },
     "execution_count": 12,
     "metadata": {},
     "output_type": "execute_result"
    }
   ],
   "source": [
    "df['content'].apply(lambda x: len(x)).mean()"
   ]
  },
  {
   "cell_type": "code",
   "execution_count": 13,
   "metadata": {
    "ExecuteTime": {
     "end_time": "2019-03-20T12:32:38.784669Z",
     "start_time": "2019-03-20T12:32:38.675269Z"
    }
   },
   "outputs": [
    {
     "data": {
      "text/plain": [
       "600000"
      ]
     },
     "execution_count": 13,
     "metadata": {},
     "output_type": "execute_result"
    }
   ],
   "source": [
    "len(df)"
   ]
  },
  {
   "cell_type": "code",
   "execution_count": 14,
   "metadata": {
    "ExecuteTime": {
     "end_time": "2019-03-20T12:32:39.491548Z",
     "start_time": "2019-03-20T12:32:38.786674Z"
    }
   },
   "outputs": [],
   "source": [
    "df_train, df_validate = train_test_split(df, test_size=50000, random_state=0, stratify=df.label)"
   ]
  },
  {
   "cell_type": "code",
   "execution_count": 15,
   "metadata": {
    "ExecuteTime": {
     "end_time": "2019-03-20T12:32:39.619890Z",
     "start_time": "2019-03-20T12:32:39.493554Z"
    }
   },
   "outputs": [
    {
     "name": "stdout",
     "output_type": "stream",
     "text": [
      "Train set size:  550000\n",
      "Validation set size:  50000\n",
      "Test set size:  100000\n"
     ]
    }
   ],
   "source": [
    "print(\"Train set size: \", len(df_train))\n",
    "print(\"Validation set size: \", len(df_validate))\n",
    "print(\"Test set size: \", len(df_test))"
   ]
  },
  {
   "cell_type": "code",
   "execution_count": 16,
   "metadata": {
    "ExecuteTime": {
     "end_time": "2019-03-20T12:35:39.557937Z",
     "start_time": "2019-03-20T12:32:39.623902Z"
    }
   },
   "outputs": [
    {
     "data": {
      "text/plain": [
       "Text(0, 0.5, 'Counts')"
      ]
     },
     "execution_count": 16,
     "metadata": {},
     "output_type": "execute_result"
    },
    {
     "data": {
      "image/png": "[encoded data removed]",
      "text/plain": [
       "<Figure size 432x288 with 1 Axes>"
      ]
     },
     "metadata": {
      "needs_background": "light"
     },
     "output_type": "display_data"
    }
   ],
   "source": [
    "plt.figure()\n",
    "_ = plt.hist(df_train.Processed_Reviews.apply(lambda x: len([word for word in jieba.cut(x) if word.strip()])), bins = 100)\n",
    "plt.title('Distribution of sentence length')\n",
    "plt.xlabel('Length')\n",
    "plt.ylabel('Counts')"
   ]
  },
  {
   "cell_type": "code",
   "execution_count": 17,
   "metadata": {
    "ExecuteTime": {
     "end_time": "2019-03-20T12:35:39.688262Z",
     "start_time": "2019-03-20T12:35:39.560920Z"
    }
   },
   "outputs": [],
   "source": [
    "word_count = {}\n",
    "def count(x):\n",
    "    for word in jieba.cut(x):\n",
    "        word_count[word] = word_count.get(word, 0) + 1"
   ]
  },
  {
   "cell_type": "code",
   "execution_count": 18,
   "metadata": {
    "ExecuteTime": {
     "end_time": "2019-03-20T12:38:54.709201Z",
     "start_time": "2019-03-20T12:35:39.691269Z"
    }
   },
   "outputs": [],
   "source": [
    "_ = df_train.Processed_Reviews.apply(count)"
   ]
  },
  {
   "cell_type": "code",
   "execution_count": 19,
   "metadata": {
    "ExecuteTime": {
     "end_time": "2019-03-20T12:38:55.110266Z",
     "start_time": "2019-03-20T12:38:54.710203Z"
    }
   },
   "outputs": [],
   "source": [
    "df_word_count = pd.DataFrame(list(word_count.items()), columns=['word', 'count'])\n",
    "df_word_count.sort_values(by='count', ascending=False, inplace=True)\n",
    "df_word_count.set_index('word', inplace=True)"
   ]
  },
  {
   "cell_type": "code",
   "execution_count": 20,
   "metadata": {
    "ExecuteTime": {
     "end_time": "2019-03-20T12:38:55.520357Z",
     "start_time": "2019-03-20T12:38:55.111268Z"
    }
   },
   "outputs": [],
   "source": [
    "df_word_count.drop([' ', '的', '了', '是', '都', '在', '就'], inplace=True)"
   ]
  },
  {
   "cell_type": "code",
   "execution_count": 21,
   "metadata": {
    "ExecuteTime": {
     "end_time": "2019-03-20T12:38:55.679789Z",
     "start_time": "2019-03-20T12:38:55.526373Z"
    }
   },
   "outputs": [],
   "source": [
    "vocab_size = 40000\n",
    "df_word_count = df_word_count[:vocab_size-3]"
   ]
  },
  {
   "cell_type": "code",
   "execution_count": 22,
   "metadata": {
    "ExecuteTime": {
     "end_time": "2019-03-20T12:38:56.501931Z",
     "start_time": "2019-03-20T12:38:55.684794Z"
    }
   },
   "outputs": [],
   "source": [
    "word2num_series = df_word_count.reset_index().reset_index().set_index('word')['index'] + 3 # reverse 0, 1, 2 for padding, BOS, EOS"
   ]
  },
  {
   "cell_type": "code",
   "execution_count": 23,
   "metadata": {
    "ExecuteTime": {
     "end_time": "2019-03-20T12:45:39.489162Z",
     "start_time": "2019-03-20T12:38:56.503940Z"
    }
   },
   "outputs": [],
   "source": [
    "X_train = df_train.Processed_Reviews.apply(lambda x: np.array([word2num_series[word] for word in jieba.cut(x) if word in word2num_series], dtype=np.int32))\n",
    "y_train = df_train.label"
   ]
  },
  {
   "cell_type": "code",
   "execution_count": 24,
   "metadata": {
    "ExecuteTime": {
     "end_time": "2019-03-20T12:47:24.342166Z",
     "start_time": "2019-03-20T12:45:39.491196Z"
    }
   },
   "outputs": [],
   "source": [
    "X_val = df_validate.Processed_Reviews.apply(lambda x: np.array([word2num_series[word] for word in jieba.cut(x) if word in word2num_series], dtype=np.int32))\n",
    "X_test = df_test.Processed_Reviews.apply(lambda x: np.array([word2num_series[word] for word in jieba.cut(x) if word in word2num_series], dtype=np.int32))\n",
    "y_val = df_validate.label\n",
    "y_test = df_test.label"
   ]
  },
  {
   "cell_type": "code",
   "execution_count": 25,
   "metadata": {
    "ExecuteTime": {
     "end_time": "2019-03-20T12:47:30.619254Z",
     "start_time": "2019-03-20T12:47:24.344164Z"
    }
   },
   "outputs": [],
   "source": [
    "X_train.to_hdf('dataset/Douban/X_train.h5', key='s', model='w')\n",
    "y_train.to_hdf('dataset/Douban/y_train.h5', key='s', model='w')\n",
    "\n",
    "X_val.to_hdf('dataset/Douban/X_val.h5', key='s', model='w')\n",
    "y_val.to_hdf('dataset/Douban/y_val.h5', key='s', model='w')\n",
    "\n",
    "X_test.to_hdf('dataset/Douban/X_test.h5', key='s', model='w')\n",
    "y_test.to_hdf('dataset/Douban/y_test.h5', key='s', model='w')\n",
    "word2num_series.to_hdf('dataset/Douban/word2num_series.h5', key='s', model='w')"
   ]
  },
  {
   "cell_type": "markdown",
   "metadata": {},
   "source": [
    "## Amazon Review Polarity\n"
   ]
  },
  {
   "cell_type": "code",
   "execution_count": 2,
   "metadata": {
    "ExecuteTime": {
     "end_time": "2019-03-18T13:42:02.629341Z",
     "start_time": "2019-03-18T13:41:27.250544Z"
    }
   },
   "outputs": [],
   "source": [
    "df = pd.read_csv('dataset/amazon_review_polarity_csv/train.csv', header=None)\n",
    "df_test = pd.read_csv('dataset/amazon_review_polarity_csv/test.csv', header=None)"
   ]
  },
  {
   "cell_type": "code",
   "execution_count": 3,
   "metadata": {
    "ExecuteTime": {
     "end_time": "2019-03-18T13:42:02.761893Z",
     "start_time": "2019-03-18T13:42:02.633368Z"
    }
   },
   "outputs": [
    {
     "data": {
      "text/plain": [
       "3600000"
      ]
     },
     "execution_count": 3,
     "metadata": {},
     "output_type": "execute_result"
    }
   ],
   "source": [
    "len(df)"
   ]
  },
  {
   "cell_type": "code",
   "execution_count": 10,
   "metadata": {
    "ExecuteTime": {
     "end_time": "2019-03-14T12:58:39.175020Z",
     "start_time": "2019-03-14T12:58:38.788266Z"
    }
   },
   "outputs": [],
   "source": [
    "df.columns = ['label', 'title', 'review']\n",
    "df_test.columns = ['label', 'title', 'review']"
   ]
  },
  {
   "cell_type": "code",
   "execution_count": 14,
   "metadata": {
    "ExecuteTime": {
     "end_time": "2019-03-14T13:04:39.354121Z",
     "start_time": "2019-03-14T13:04:39.135080Z"
    }
   },
   "outputs": [],
   "source": [
    "df['label'] = df['label'].map({1:0, 2:1})\n",
    "df_test['label'] = df_test['label'].map({1:0, 2:1})"
   ]
  },
  {
   "cell_type": "code",
   "execution_count": 17,
   "metadata": {
    "ExecuteTime": {
     "end_time": "2019-03-14T13:04:57.287910Z",
     "start_time": "2019-03-14T13:04:57.154022Z"
    }
   },
   "outputs": [
    {
     "data": {
      "text/html": [
       "<div>\n",
       "<style scoped>\n",
       "    .dataframe tbody tr th:only-of-type {\n",
       "        vertical-align: middle;\n",
       "    }\n",
       "\n",
       "    .dataframe tbody tr th {\n",
       "        vertical-align: top;\n",
       "    }\n",
       "\n",
       "    .dataframe thead th {\n",
       "        text-align: right;\n",
       "    }\n",
       "</style>\n",
       "<table border=\"1\" class=\"dataframe\">\n",
       "  <thead>\n",
       "    <tr style=\"text-align: right;\">\n",
       "      <th></th>\n",
       "      <th>label</th>\n",
       "      <th>title</th>\n",
       "      <th>review</th>\n",
       "    </tr>\n",
       "  </thead>\n",
       "  <tbody>\n",
       "    <tr>\n",
       "      <th>0</th>\n",
       "      <td>1</td>\n",
       "      <td>Stuning even for the non-gamer</td>\n",
       "      <td>This sound track was beautiful! It paints the ...</td>\n",
       "    </tr>\n",
       "    <tr>\n",
       "      <th>1</th>\n",
       "      <td>1</td>\n",
       "      <td>The best soundtrack ever to anything.</td>\n",
       "      <td>I'm reading a lot of reviews saying that this ...</td>\n",
       "    </tr>\n",
       "    <tr>\n",
       "      <th>2</th>\n",
       "      <td>1</td>\n",
       "      <td>Amazing!</td>\n",
       "      <td>This soundtrack is my favorite music of all ti...</td>\n",
       "    </tr>\n",
       "    <tr>\n",
       "      <th>3</th>\n",
       "      <td>1</td>\n",
       "      <td>Excellent Soundtrack</td>\n",
       "      <td>I truly like this soundtrack and I enjoy video...</td>\n",
       "    </tr>\n",
       "    <tr>\n",
       "      <th>4</th>\n",
       "      <td>1</td>\n",
       "      <td>Remember, Pull Your Jaw Off The Floor After He...</td>\n",
       "      <td>If you've played the game, you know how divine...</td>\n",
       "    </tr>\n",
       "  </tbody>\n",
       "</table>\n",
       "</div>"
      ],
      "text/plain": [
       "   label                                              title  \\\n",
       "0      1                     Stuning even for the non-gamer   \n",
       "1      1              The best soundtrack ever to anything.   \n",
       "2      1                                           Amazing!   \n",
       "3      1                               Excellent Soundtrack   \n",
       "4      1  Remember, Pull Your Jaw Off The Floor After He...   \n",
       "\n",
       "                                              review  \n",
       "0  This sound track was beautiful! It paints the ...  \n",
       "1  I'm reading a lot of reviews saying that this ...  \n",
       "2  This soundtrack is my favorite music of all ti...  \n",
       "3  I truly like this soundtrack and I enjoy video...  \n",
       "4  If you've played the game, you know how divine...  "
      ]
     },
     "execution_count": 17,
     "metadata": {},
     "output_type": "execute_result"
    }
   ],
   "source": [
    "df.head()"
   ]
  },
  {
   "cell_type": "code",
   "execution_count": 13,
   "metadata": {
    "ExecuteTime": {
     "end_time": "2019-03-14T13:00:05.261035Z",
     "start_time": "2019-03-14T12:59:38.969077Z"
    }
   },
   "outputs": [
    {
     "data": {
      "text/plain": [
       "74.16884944444445"
      ]
     },
     "execution_count": 13,
     "metadata": {},
     "output_type": "execute_result"
    }
   ],
   "source": [
    "df['review'].apply(lambda x: len(x.split())).mean()"
   ]
  },
  {
   "cell_type": "code",
   "execution_count": 19,
   "metadata": {
    "ExecuteTime": {
     "end_time": "2019-03-14T14:11:04.267627Z",
     "start_time": "2019-03-14T13:07:34.313054Z"
    }
   },
   "outputs": [],
   "source": [
    "df['Processed_Reviews'] = df['review'].apply(lambda x: clean_text(x))\n",
    "df_test['Processed_Reviews'] = df_test['review'].apply(lambda x: clean_text(x))"
   ]
  },
  {
   "cell_type": "code",
   "execution_count": 20,
   "metadata": {
    "ExecuteTime": {
     "end_time": "2019-03-14T14:12:13.661768Z",
     "start_time": "2019-03-14T14:12:08.827362Z"
    }
   },
   "outputs": [],
   "source": [
    "df_train, df_validate = train_test_split(df, test_size=400000, random_state=0, stratify=df.label)"
   ]
  },
  {
   "cell_type": "code",
   "execution_count": 21,
   "metadata": {
    "ExecuteTime": {
     "end_time": "2019-03-14T14:12:39.761216Z",
     "start_time": "2019-03-14T14:12:39.628858Z"
    }
   },
   "outputs": [
    {
     "name": "stdout",
     "output_type": "stream",
     "text": [
      "Train set size:  3200000\n",
      "Validation set size:  400000\n",
      "Test set size:  400000\n"
     ]
    }
   ],
   "source": [
    "print(\"Train set size: \", len(df_train))\n",
    "print(\"Validation set size: \", len(df_validate))\n",
    "print(\"Test set size: \", len(df_test))"
   ]
  },
  {
   "cell_type": "code",
   "execution_count": 22,
   "metadata": {
    "ExecuteTime": {
     "end_time": "2019-03-14T14:13:46.620719Z",
     "start_time": "2019-03-14T14:13:46.481505Z"
    }
   },
   "outputs": [],
   "source": [
    "word_count = {}\n",
    "def count(x):\n",
    "    for word in x.split():\n",
    "        word_count[word] = word_count.get(word, 0) + 1"
   ]
  },
  {
   "cell_type": "code",
   "execution_count": 23,
   "metadata": {
    "ExecuteTime": {
     "end_time": "2019-03-14T14:16:17.687109Z",
     "start_time": "2019-03-14T14:14:09.420510Z"
    }
   },
   "outputs": [],
   "source": [
    "_ = df_train.Processed_Reviews.apply(count)"
   ]
  },
  {
   "cell_type": "code",
   "execution_count": 24,
   "metadata": {
    "ExecuteTime": {
     "end_time": "2019-03-14T14:17:18.046452Z",
     "start_time": "2019-03-14T14:17:17.244693Z"
    }
   },
   "outputs": [],
   "source": [
    "df_word_count = pd.DataFrame(list(word_count.items()), columns=['word', 'count'])\n",
    "df_word_count.sort_values(by='count', ascending=False, inplace=True)\n",
    "df_word_count.set_index('word', inplace=True)"
   ]
  },
  {
   "cell_type": "code",
   "execution_count": 26,
   "metadata": {
    "ExecuteTime": {
     "end_time": "2019-03-14T14:18:33.567050Z",
     "start_time": "2019-03-14T14:18:32.873771Z"
    }
   },
   "outputs": [],
   "source": [
    "df_word_count.drop(['the', 'a', 'and', 'of', 'to', 'in', 'this', 'that', 's', 'n', 'for'], inplace=True)"
   ]
  },
  {
   "cell_type": "code",
   "execution_count": 33,
   "metadata": {
    "ExecuteTime": {
     "end_time": "2019-03-14T14:19:47.948931Z",
     "start_time": "2019-03-14T14:19:47.823488Z"
    }
   },
   "outputs": [],
   "source": [
    "vocab_size = 40000\n",
    "df_word_count = df_word_count[:vocab_size-3]"
   ]
  },
  {
   "cell_type": "code",
   "execution_count": 34,
   "metadata": {
    "ExecuteTime": {
     "end_time": "2019-03-14T14:20:06.871754Z",
     "start_time": "2019-03-14T14:20:06.069670Z"
    }
   },
   "outputs": [],
   "source": [
    "word2num_series = df_word_count.reset_index().reset_index().set_index('word')['index'] + 3 # reverse 0, 1, 2 for padding, BOS, EOS"
   ]
  },
  {
   "cell_type": "code",
   "execution_count": 35,
   "metadata": {
    "ExecuteTime": {
     "end_time": "2019-03-14T15:07:39.487842Z",
     "start_time": "2019-03-14T14:20:23.226672Z"
    }
   },
   "outputs": [],
   "source": [
    "X_train = df_train.Processed_Reviews.apply(lambda x: np.array([word2num_series[word] for word in x.split() if word in word2num_series], dtype=np.int32))\n",
    "y_train = df_train.label"
   ]
  },
  {
   "cell_type": "code",
   "execution_count": 36,
   "metadata": {
    "ExecuteTime": {
     "end_time": "2019-03-14T15:19:19.813591Z",
     "start_time": "2019-03-14T15:07:39.490772Z"
    }
   },
   "outputs": [],
   "source": [
    "X_val = df_validate.Processed_Reviews.apply(lambda x: np.array([word2num_series[word] for word in x.split() if word in word2num_series], dtype=np.int32))\n",
    "X_test = df_test.Processed_Reviews.apply(lambda x: np.array([word2num_series[word] for word in x.split() if word in word2num_series], dtype=np.int32))\n",
    "y_val = df_validate.label\n",
    "y_test = df_test.label"
   ]
  },
  {
   "cell_type": "code",
   "execution_count": 37,
   "metadata": {
    "ExecuteTime": {
     "end_time": "2019-03-14T15:45:28.127450Z",
     "start_time": "2019-03-14T15:44:47.399381Z"
    }
   },
   "outputs": [],
   "source": [
    "X_train.to_hdf('dataset/amazon_review_polarity_csv/X_train.h5', key='s', model='w')\n",
    "y_train.to_hdf('dataset/amazon_review_polarity_csv/y_train.h5', key='s', model='w')\n",
    "\n",
    "X_val.to_hdf('dataset/amazon_review_polarity_csv/X_val.h5', key='s', model='w')\n",
    "y_val.to_hdf('dataset/amazon_review_polarity_csv/y_val.h5', key='s', model='w')\n",
    "\n",
    "X_test.to_hdf('dataset/amazon_review_polarity_csv/X_test.h5', key='s', model='w')\n",
    "y_test.to_hdf('dataset/amazon_review_polarity_csv/y_test.h5', key='s', model='w')\n",
    "word2num_series.to_hdf('dataset/amazon_review_polarity_csv/word2num_series.h5', key='s', model='w')"
   ]
  },
  {
   "cell_type": "code",
   "execution_count": null,
   "metadata": {},
   "outputs": [],
   "source": []
  }
 ],
 "metadata": {
  "kernelspec": {
   "display_name": "Python 3",
   "language": "python",
   "name": "python3"
  },
  "language_info": {
   "codemirror_mode": {
    "name": "ipython",
    "version": 3
   },
   "file_extension": ".py",
   "mimetype": "text/x-python",
   "name": "python",
   "nbconvert_exporter": "python",
   "pygments_lexer": "ipython3",
   "version": "3.6.1"
  }
 },
 "nbformat": 4,
 "nbformat_minor": 2
}
